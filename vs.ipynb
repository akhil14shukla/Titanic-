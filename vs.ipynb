{
 "cells": [
  {
   "cell_type": "code",
   "execution_count": 2354,
   "metadata": {},
   "outputs": [],
   "source": [
    "# Importing libraries required for data cleaning and manipulation"
   ]
  },
  {
   "cell_type": "code",
   "execution_count": 2355,
   "metadata": {},
   "outputs": [],
   "source": [
    "import pandas as pd\n",
    "import numpy as np\n",
    "import matplotlib.pyplot as plt\n",
    "import seaborn as sb\n",
    "import re"
   ]
  },
  {
   "cell_type": "code",
   "execution_count": 2356,
   "metadata": {},
   "outputs": [],
   "source": [
    "# Reading Data from the files"
   ]
  },
  {
   "cell_type": "code",
   "execution_count": 2357,
   "metadata": {},
   "outputs": [],
   "source": [
    "test = pd.read_csv(\"test.csv\", index_col = 0)\n",
    "train = pd.read_csv(\"train.csv\", index_col = 0)\n",
    "total = pd.merge(train,test)"
   ]
  },
  {
   "cell_type": "code",
   "execution_count": 2358,
   "metadata": {},
   "outputs": [],
   "source": [
    "# This is a sample output as required by the kaggle"
   ]
  },
  {
   "cell_type": "code",
   "execution_count": 2359,
   "metadata": {},
   "outputs": [],
   "source": [
    "gender = pd.read_csv(\"gender_submission.csv\")\n",
    "# type(test)"
   ]
  },
  {
   "cell_type": "code",
   "execution_count": 2360,
   "metadata": {},
   "outputs": [],
   "source": [
    "# Calculating average of the age from both train and test dataframesa, as some values of age are not given to us, we are going to replace NaN values with the averages. Taking average because age is continuous data"
   ]
  },
  {
   "cell_type": "code",
   "execution_count": 2361,
   "metadata": {},
   "outputs": [],
   "source": [
    "avg = train['Age'].mean()\n",
    "avg2 = test['Age'].mean()"
   ]
  },
  {
   "cell_type": "code",
   "execution_count": 2362,
   "metadata": {},
   "outputs": [],
   "source": [
    "train['Age'] = train['Age'].fillna(avg)\n",
    "test['Age'] = test['Age'].fillna(avg2)"
   ]
  },
  {
   "cell_type": "code",
   "execution_count": 2363,
   "metadata": {},
   "outputs": [],
   "source": [
    "# Replacing NaN in Cabin column with 0 for the time being"
   ]
  },
  {
   "cell_type": "code",
   "execution_count": 2364,
   "metadata": {},
   "outputs": [],
   "source": [
    "train['Cabin']=train['Cabin'].fillna(\"!\")\n",
    "test['Cabin']=test['Cabin'].fillna(\"!\")\n",
    "# train"
   ]
  },
  {
   "cell_type": "code",
   "execution_count": 2365,
   "metadata": {},
   "outputs": [],
   "source": [
    "# Replacing NaN in Embarked with the value which occurs maximum time(that is taking mode). Using mode because Embarked contains categorical values(S, C or Q)."
   ]
  },
  {
   "cell_type": "code",
   "execution_count": 2366,
   "metadata": {},
   "outputs": [],
   "source": [
    "train.Embarked.mode()\n",
    "test.Embarked.mode()\n",
    "train.Embarked = train['Embarked'].fillna('S')\n",
    "test.Embarked = test['Embarked'].fillna('S')"
   ]
  },
  {
   "cell_type": "code",
   "execution_count": 2367,
   "metadata": {},
   "outputs": [],
   "source": [
    "# Checking if Embarked still contains null values"
   ]
  },
  {
   "cell_type": "code",
   "execution_count": 2368,
   "metadata": {},
   "outputs": [
    {
     "output_type": "execute_result",
     "data": {
      "text/plain": "0"
     },
     "metadata": {},
     "execution_count": 2368
    }
   ],
   "source": [
    "train.Embarked.isnull().sum()\n",
    "test.Embarked.isnull().sum()"
   ]
  },
  {
   "cell_type": "code",
   "execution_count": 2369,
   "metadata": {},
   "outputs": [],
   "source": [
    "# This method can be used to see the distribution of age vs Survived or any other to check the importance\n",
    "# Doing thsi for Age and Fare\n",
    "#  This method is useful and effective logically as the coefficient will not be increased/decreased by the outliers"
   ]
  },
  {
   "cell_type": "code",
   "execution_count": 2370,
   "metadata": {},
   "outputs": [
    {
     "output_type": "execute_result",
     "data": {
      "text/plain": "                Survived\nAgeBand                 \n(0.419, 22.0]   0.424242\n(22.0, 29.699]  0.333333\n(29.699, 35.0]  0.451327\n(35.0, 80.0]    0.382488",
      "text/html": "<div>\n<style scoped>\n    .dataframe tbody tr th:only-of-type {\n        vertical-align: middle;\n    }\n\n    .dataframe tbody tr th {\n        vertical-align: top;\n    }\n\n    .dataframe thead th {\n        text-align: right;\n    }\n</style>\n<table border=\"1\" class=\"dataframe\">\n  <thead>\n    <tr style=\"text-align: right;\">\n      <th></th>\n      <th>Survived</th>\n    </tr>\n    <tr>\n      <th>AgeBand</th>\n      <th></th>\n    </tr>\n  </thead>\n  <tbody>\n    <tr>\n      <th>(0.419, 22.0]</th>\n      <td>0.424242</td>\n    </tr>\n    <tr>\n      <th>(22.0, 29.699]</th>\n      <td>0.333333</td>\n    </tr>\n    <tr>\n      <th>(29.699, 35.0]</th>\n      <td>0.451327</td>\n    </tr>\n    <tr>\n      <th>(35.0, 80.0]</th>\n      <td>0.382488</td>\n    </tr>\n  </tbody>\n</table>\n</div>"
     },
     "metadata": {},
     "execution_count": 2370
    }
   ],
   "source": [
    "train['AgeBand'] = pd.qcut(train['Age'],4)\n",
    "train[['AgeBand','Survived']].groupby('AgeBand').mean()"
   ]
  },
  {
   "cell_type": "code",
   "execution_count": 2371,
   "metadata": {},
   "outputs": [],
   "source": [
    "train.loc[train['Age']<=22.0,'Age'] = 0\n",
    "train.loc[(train['Age']>22.0) & (train['Age']<=29.699),'Age'] = 1\n",
    "train.loc[(train['Age']>29.699) & (train['Age']<=35),'Age'] = 2\n",
    "train.loc[(train['Age']>35),'Age'] = 3\n",
    "\n",
    "test.loc[test['Age']<=22.0,'Age'] = 0\n",
    "test.loc[(test['Age']>22.0) & (test['Age']<=29.699),'Age'] = 1\n",
    "test.loc[(test['Age']>29.699) & (test['Age']<=35),'Age'] = 2\n",
    "test.loc[(test['Age']>35),'Age'] = 3"
   ]
  },
  {
   "cell_type": "code",
   "execution_count": 2372,
   "metadata": {},
   "outputs": [
    {
     "output_type": "execute_result",
     "data": {
      "text/plain": "                 Survived\nFareBand                 \n(-0.001, 7.91]   0.197309\n(7.91, 14.454]   0.303571\n(14.454, 31.0]   0.454955\n(31.0, 512.329]  0.581081",
      "text/html": "<div>\n<style scoped>\n    .dataframe tbody tr th:only-of-type {\n        vertical-align: middle;\n    }\n\n    .dataframe tbody tr th {\n        vertical-align: top;\n    }\n\n    .dataframe thead th {\n        text-align: right;\n    }\n</style>\n<table border=\"1\" class=\"dataframe\">\n  <thead>\n    <tr style=\"text-align: right;\">\n      <th></th>\n      <th>Survived</th>\n    </tr>\n    <tr>\n      <th>FareBand</th>\n      <th></th>\n    </tr>\n  </thead>\n  <tbody>\n    <tr>\n      <th>(-0.001, 7.91]</th>\n      <td>0.197309</td>\n    </tr>\n    <tr>\n      <th>(7.91, 14.454]</th>\n      <td>0.303571</td>\n    </tr>\n    <tr>\n      <th>(14.454, 31.0]</th>\n      <td>0.454955</td>\n    </tr>\n    <tr>\n      <th>(31.0, 512.329]</th>\n      <td>0.581081</td>\n    </tr>\n  </tbody>\n</table>\n</div>"
     },
     "metadata": {},
     "execution_count": 2372
    }
   ],
   "source": [
    "train['FareBand'] = pd.qcut(train['Fare'],4)\n",
    "train[['FareBand','Survived']].groupby('FareBand').mean()"
   ]
  },
  {
   "cell_type": "code",
   "execution_count": 2373,
   "metadata": {},
   "outputs": [],
   "source": [
    "train.loc[train['Fare']<=7.91,'Fare'] = 0\n",
    "train.loc[(train['Fare']>7.91) & (train['Fare']<=14.454),'Fare'] = 1\n",
    "train.loc[(train['Fare']>14.454) & (train['Fare']<=31.0),'Fare'] = 2\n",
    "train.loc[(train['Fare']>31.0),'Fare'] = 3\n",
    "\n",
    "test.loc[test['Fare']<=7.91,'Fare'] = 0\n",
    "test.loc[(test['Fare']>7.91) & (test['Fare']<=14.454),'Fare'] = 1\n",
    "test.loc[(test['Fare']>14.454) & (test['Fare']<=31.0),'Fare'] = 2\n",
    "test.loc[(test['Fare']>31.0),'Fare'] = 3"
   ]
  },
  {
   "cell_type": "code",
   "execution_count": 2374,
   "metadata": {},
   "outputs": [],
   "source": [
    "# In the next, I used re to find specific pattern in Name, and by pattern I mean finding the designations like \"Mr., Mrs., Sir, Ms., Col., etc\". I did the same for train and test both Datasets."
   ]
  },
  {
   "cell_type": "code",
   "execution_count": 2375,
   "metadata": {
    "scrolled": true
   },
   "outputs": [],
   "source": [
    "pattern = r'[A-Z]+\\.'\n",
    "regex = re.compile(pattern, flags = re.IGNORECASE)\n",
    "for i in range(1,len(train.Name)+1):\n",
    "    train.Name[i] = regex.findall(train.Name[i])[0]\n"
   ]
  },
  {
   "cell_type": "code",
   "execution_count": 2376,
   "metadata": {},
   "outputs": [],
   "source": [
    "for i in range(1,len(test.Name)+1):\n",
    "    test.Name[i+891] = regex.findall(test.Name[i+891])[0]"
   ]
  },
  {
   "cell_type": "code",
   "execution_count": 2377,
   "metadata": {},
   "outputs": [],
   "source": [
    "# Here an assumption was made that by \"Dona.\" the dataset meant \"Don.\" as all other Designations were same in train and test."
   ]
  },
  {
   "cell_type": "code",
   "execution_count": 2378,
   "metadata": {},
   "outputs": [],
   "source": [
    "#  In the next few lines we are explicitly replacing the values by comparing their mean of Survived column, higher mean higher value, just trying it in place of using dummy variables, but you can check that there isn't any significant change in performance, though grouping og age and fare will surely be helpful"
   ]
  },
  {
   "cell_type": "code",
   "execution_count": 2379,
   "metadata": {},
   "outputs": [
    {
     "output_type": "execute_result",
     "data": {
      "text/plain": "array(['Mr.', 'Mrs.', 'Miss.', 'Master.', 'Ms.', 'Col.', 'Rev.', 'Dr.',\n       'Don.'], dtype=object)"
     },
     "metadata": {},
     "execution_count": 2379
    }
   ],
   "source": [
    "test.Name = test.Name.replace(to_replace = \"Dona.\", value = \"Don.\")\n",
    "test.Name.unique()"
   ]
  },
  {
   "cell_type": "code",
   "execution_count": 2380,
   "metadata": {},
   "outputs": [
    {
     "output_type": "execute_result",
     "data": {
      "text/plain": "array(['Mr.', 'Mrs.', 'Miss.', 'Master.', 'Don.', 'Rev.', 'Dr.', 'Mme.',\n       'Ms.', 'Major.', 'Lady.', 'Sir.', 'Mlle.', 'Col.', 'Capt.',\n       'Countess.', 'Jonkheer.'], dtype=object)"
     },
     "metadata": {},
     "execution_count": 2380
    }
   ],
   "source": [
    "train.Name.unique()"
   ]
  },
  {
   "cell_type": "code",
   "execution_count": 2381,
   "metadata": {},
   "outputs": [
    {
     "output_type": "execute_result",
     "data": {
      "text/plain": "0.0"
     },
     "metadata": {},
     "execution_count": 2381
    }
   ],
   "source": [
    "train.loc[train.Name == 'Don.','Survived'].mean()"
   ]
  },
  {
   "cell_type": "code",
   "execution_count": 2382,
   "metadata": {},
   "outputs": [],
   "source": [
    "train.loc[train.Name == 'Mr.','Name'] = 5\n",
    "train.loc[train.Name == 'Mrs.','Name'] = 10\n",
    "train.loc[train.Name == 'Miss.','Name'] = 11\n",
    "train.loc[train.Name == 'Master.','Name'] = 9\n",
    "train.loc[train.Name == 'Ms.','Name'] = 16\n",
    "train.loc[train.Name == 'Col.','Name'] = 8\n",
    "train.loc[train.Name == 'Rev.','Name'] = 2\n",
    "train.loc[train.Name == 'Dr.','Name'] = 7\n",
    "train.loc[train.Name == 'Lady.','Name'] = 1\n",
    "train.loc[train.Name == 'Sir.','Name'] = 12\n",
    "train.loc[train.Name == 'Mlle.','Name'] = 14\n",
    "train.loc[train.Name == 'Capt.','Name'] = 4\n",
    "train.loc[train.Name == 'Countess.','Name'] = 13\n",
    "train.loc[train.Name == 'Jonkheer.','Name'] = 3\n",
    "train.loc[train.Name == 'Mme.','Name'] = 15\n",
    "train.loc[train.Name == 'Major.','Name'] = 8\n",
    "train.loc[train.Name == 'Don.','Name'] = 0\n",
    "\n",
    "test.loc[test.Name == 'Mr.','Name'] = 5\n",
    "test.loc[test.Name == 'Mrs.','Name'] = 10\n",
    "test.loc[test.Name == 'Miss.','Name'] = 11\n",
    "test.loc[test.Name == 'Master.','Name'] = 9\n",
    "test.loc[test.Name == 'Ms.','Name'] = 16\n",
    "test.loc[test.Name == 'Col.','Name'] = 8\n",
    "test.loc[test.Name == 'Rev.','Name'] = 2\n",
    "test.loc[test.Name == 'Dr.','Name'] = 7\n",
    "test.loc[test.Name == 'Lady.','Name'] = 1\n",
    "test.loc[test.Name == 'Sir.','Name'] = 12\n",
    "test.loc[test.Name == 'Mlle.','Name'] = 14\n",
    "test.loc[test.Name == 'Capt.','Name'] = 4\n",
    "test.loc[test.Name == 'Countess.','Name'] = 13\n",
    "test.loc[test.Name == 'Jonkheer.','Name'] = 3\n",
    "test.loc[test.Name == 'Mme.','Name'] = 15\n",
    "test.loc[test.Name == 'Major.','Name'] = 8\n",
    "test.loc[test.Name == 'Don.','Name'] = 0"
   ]
  },
  {
   "cell_type": "code",
   "execution_count": 2383,
   "metadata": {},
   "outputs": [],
   "source": [
    "# In order to use \"Name\" column in our Classification it needs to be converted to Integer, but now it is of string type. So for converting it to integers, I used One-Hot Encoding (dummy variables)."
   ]
  },
  {
   "cell_type": "code",
   "execution_count": 2384,
   "metadata": {},
   "outputs": [],
   "source": [
    "#  Most common problem that we can face while using One-Hot Encoding is some variables might be present in train dataset but not in test dataset or worse they might be mistyped in other dataset(the assumption of Dona. above). So either we should use both train and test dataset while computing dummy variables or should confirm that the number of variables are same in both datasets. I used the former method as number of variables are not same in the datasets."
   ]
  },
  {
   "cell_type": "code",
   "execution_count": 2385,
   "metadata": {},
   "outputs": [],
   "source": [
    "name = np.concatenate([train.Name, test.Name],axis = 0)\n",
    "name = pd.get_dummies(name)\n",
    "#working"
   ]
  },
  {
   "cell_type": "code",
   "execution_count": 2386,
   "metadata": {},
   "outputs": [],
   "source": [
    "# Increasing the index by 1 to match the index of our original datasets."
   ]
  },
  {
   "cell_type": "code",
   "execution_count": 2387,
   "metadata": {},
   "outputs": [],
   "source": [
    "# trans = lambda x:x+1\n",
    "# name.index = name.index.map(trans)\n",
    "# # name"
   ]
  },
  {
   "cell_type": "code",
   "execution_count": 2388,
   "metadata": {},
   "outputs": [],
   "source": [
    "# Now joining the dummy variables using index to their own daasets."
   ]
  },
  {
   "cell_type": "code",
   "execution_count": 2389,
   "metadata": {},
   "outputs": [],
   "source": [
    "# name2 = name[0:891] #working"
   ]
  },
  {
   "cell_type": "code",
   "execution_count": 2390,
   "metadata": {},
   "outputs": [],
   "source": [
    "# name3 = name[891:] #working"
   ]
  },
  {
   "cell_type": "code",
   "execution_count": 2391,
   "metadata": {},
   "outputs": [],
   "source": [
    "# train = train.join(name2)\n",
    "# test = test.join(name3)"
   ]
  },
  {
   "cell_type": "code",
   "execution_count": 2392,
   "metadata": {},
   "outputs": [],
   "source": [
    "# train"
   ]
  },
  {
   "cell_type": "code",
   "execution_count": 2393,
   "metadata": {},
   "outputs": [],
   "source": [
    "# Dropping the \"Name\" column as we have joined the dummy variables so its of no use to us."
   ]
  },
  {
   "cell_type": "code",
   "execution_count": 2394,
   "metadata": {},
   "outputs": [],
   "source": [
    "# train = train.drop([\"Name\"], axis = 1)\n",
    "# test = test.drop([\"Name\"], axis = 1)"
   ]
  },
  {
   "cell_type": "code",
   "execution_count": 2395,
   "metadata": {},
   "outputs": [],
   "source": [
    "# Gender is another column with string type, explicitly replacing male and female with 0 and 1 respectively"
   ]
  },
  {
   "cell_type": "code",
   "execution_count": 2396,
   "metadata": {},
   "outputs": [],
   "source": [
    "train = train.replace(to_replace=[\"male\"],value=0)\n",
    "test = test.replace(to_replace=[\"male\"],value=0)"
   ]
  },
  {
   "cell_type": "code",
   "execution_count": 2397,
   "metadata": {},
   "outputs": [],
   "source": [
    "train = train.replace(to_replace=[\"female\"],value=1)\n",
    "test = test.replace(to_replace=[\"female\"],value=1)"
   ]
  },
  {
   "cell_type": "code",
   "execution_count": 2398,
   "metadata": {},
   "outputs": [],
   "source": [
    "# What you will see below is a failed attempt to incorporate \"Cabin\" column using the same procedure."
   ]
  },
  {
   "cell_type": "code",
   "execution_count": 2399,
   "metadata": {},
   "outputs": [],
   "source": [
    "# # # train.Name = pd.get_dummies(train.Name.unique())\n",
    "# # fig,axes = plt.subplots(1,1)\n",
    "# # df = train[['Age','Survived']]\n",
    "# # df.plot.barh()\n",
    "# pattern2 = r'[A-Z]'\n",
    "# # display(len(train.Cabin))\n",
    "# regex2 = re.compile(pattern2, flags = re.IGNORECASE)\n",
    "# for i in range(1,len(train.Cabin)+1):\n",
    "#     # display(i)\n",
    "#     if(regex2.findall(train.Cabin[i])):\n",
    "#         train.Cabin[i] = regex2.findall(train.Cabin[i])[0]\n",
    "#     else:\n",
    "#         train.Cabin[i] = 'Z'\n",
    "        \n",
    "# for i in range(1,len(test.Cabin)+1):\n",
    "#     if(regex2.findall(test.Cabin[i+891])):\n",
    "#         test.Cabin[i+891] = regex2.findall(test.Cabin[i+891])[0]\n",
    "#     else:\n",
    "#         test.Cabin[i+891] = 'Z'\n",
    "# test"
   ]
  },
  {
   "cell_type": "code",
   "execution_count": 2400,
   "metadata": {},
   "outputs": [],
   "source": [
    "# adding Age * Sex factor, as they might be confounding variables \n",
    "# doing the same for fare and age"
   ]
  },
  {
   "cell_type": "code",
   "execution_count": 2401,
   "metadata": {},
   "outputs": [],
   "source": [
    "# agexgen = pd.DataFrame({'Age_Sex':[train.Age[i]*train.Sex[i] for i in range(1,len(train.Age)+1)]}) \n",
    "# trans = lambda x:x+1\n",
    "# agexgen.index = agexgen.index.map(trans)\n",
    "# train=train.join(agexgen)\n",
    "\n",
    "# agexgen2 = pd.DataFrame({'Age_Sex':[test.Age[i+891]*test.Sex[i+891] for i in range(1,len(test.Age)+1)]})\n",
    "# agexgen2.index = agexgen2.index.map(trans)\n",
    "# test=test.join(agexgen2)\n",
    "# test\n"
   ]
  },
  {
   "cell_type": "code",
   "execution_count": 2402,
   "metadata": {},
   "outputs": [],
   "source": [
    "# agexfare = pd.DataFrame({'Age_Fare':[train.Age[i]*train.Fare[i] for i in range(1,len(train.Age)+1)]}) \n",
    "# agexfare2 = pd.DataFrame({'Age_Fare':[test.Age[i+891]*test.Fare[i+891] for i in range(1,len(test.Age)+1)]})\n",
    "# trans = lambda x:x+1\n",
    "# agexfare.index = agexfare.index.map(trans)\n",
    "# agexfare2.index = agexfare2.index.map(trans)\n",
    "# train=train.join(agexfare)\n",
    "# test=test.join(agexfare2)"
   ]
  },
  {
   "cell_type": "code",
   "execution_count": 2403,
   "metadata": {},
   "outputs": [],
   "source": [
    "train.SibSp = train.SibSp + train.Parch+1  # Number of family members including himself/herself\n",
    "test.SibSp = test.SibSp + test.Parch+1"
   ]
  },
  {
   "cell_type": "code",
   "execution_count": 2404,
   "metadata": {},
   "outputs": [],
   "source": [
    "# For \"Embarked\" column I again used One-Hot Encoding, by concatenating from both datasets, creating dummy variables, increasing the index by 1, joining them using index to their own datasets and then droppig \"Embarked\" column. Other way is to explicitly replace ['S', 'C', 'Q'] with integer values."
   ]
  },
  {
   "cell_type": "code",
   "execution_count": 2405,
   "metadata": {},
   "outputs": [],
   "source": [
    "# # train = train.drop([\"Name\",\"Ticket\"], axis = 1)\n",
    "# # test\n",
    "Embark = np.concatenate([train.Embarked, test.Embarked],axis = 0)\n",
    "# train.loc[train.Embarked == 'S','Embarked'] = 3\n",
    "# train.loc[train.Embarked == 'C','Embarked'] = 2\n",
    "# train.loc[train.Embarked == 'Q','Embarked'] = 1\n",
    "\n",
    "# test.loc[test.Embarked == 'S','Embarked'] = 3\n",
    "# test.loc[test.Embarked == 'C','Embarked'] = 2\n",
    "# test.loc[test.Embarked == 'Q','Embarked'] = 1"
   ]
  },
  {
   "cell_type": "code",
   "execution_count": 2406,
   "metadata": {},
   "outputs": [],
   "source": [
    "dum = pd.get_dummies(Embark)"
   ]
  },
  {
   "cell_type": "code",
   "execution_count": 2407,
   "metadata": {},
   "outputs": [],
   "source": [
    "dum.index = dum.index.map(trans)"
   ]
  },
  {
   "cell_type": "code",
   "execution_count": 2408,
   "metadata": {},
   "outputs": [],
   "source": [
    "Embark1 = dum[0:891]\n",
    "Embark2 = dum[891:]"
   ]
  },
  {
   "cell_type": "code",
   "execution_count": 2409,
   "metadata": {},
   "outputs": [],
   "source": [
    "train = train.join(Embark1)\n",
    "test = test.join(Embark2)"
   ]
  },
  {
   "cell_type": "code",
   "execution_count": 2410,
   "metadata": {},
   "outputs": [],
   "source": [
    "train.drop(['Embarked'],axis = 1, inplace=True)\n",
    "test.drop(['Embarked'],axis = 1, inplace=True)"
   ]
  },
  {
   "cell_type": "code",
   "execution_count": 2411,
   "metadata": {},
   "outputs": [
    {
     "output_type": "execute_result",
     "data": {
      "text/plain": "Index(['Survived', 'Pclass', 'Name', 'Sex', 'Age', 'SibSp', 'Parch', 'Ticket',\n       'Fare', 'Cabin', 'AgeBand', 'FareBand', 'C', 'Q', 'S'],\n      dtype='object')"
     },
     "metadata": {},
     "execution_count": 2411
    }
   ],
   "source": [
    "train.columns"
   ]
  },
  {
   "cell_type": "code",
   "execution_count": 2412,
   "metadata": {},
   "outputs": [],
   "source": [
    "# Using scatter plot to see if other columns like 'SibSp', 'Parch' are useful or not"
   ]
  },
  {
   "cell_type": "code",
   "execution_count": 2413,
   "metadata": {},
   "outputs": [
    {
     "output_type": "execute_result",
     "data": {
      "text/plain": "<BarContainer object of 891 artists>"
     },
     "metadata": {},
     "execution_count": 2413
    },
    {
     "output_type": "display_data",
     "data": {
      "text/plain": "<Figure size 432x288 with 1 Axes>",
      "image/svg+xml": "<?xml version=\"1.0\" encoding=\"utf-8\" standalone=\"no\"?>\n<!DOCTYPE svg PUBLIC \"-//W3C//DTD SVG 1.1//EN\"\n  \"http://www.w3.org/Graphics/SVG/1.1/DTD/svg11.dtd\">\n<!-- Created with matplotlib (https://matplotlib.org/) -->\n<svg height=\"248.518125pt\" version=\"1.1\" viewBox=\"0 0 372.846075 248.518125\" width=\"372.846075pt\" xmlns=\"http://www.w3.org/2000/svg\" xmlns:xlink=\"http://www.w3.org/1999/xlink\">\n <defs>\n  <style type=\"text/css\">\n*{stroke-linecap:butt;stroke-linejoin:round;}\n  </style>\n </defs>\n <g id=\"figure_1\">\n  <g id=\"patch_1\">\n   <path d=\"M 0 248.518125 \nL 372.846075 248.518125 \nL 372.846075 0 \nL 0 0 \nz\n\" style=\"fill:none;\"/>\n  </g>\n  <g id=\"axes_1\">\n   <g id=\"patch_2\">\n    <path d=\"M 30.103125 224.64 \nL 364.903125 224.64 \nL 364.903125 7.2 \nL 30.103125 7.2 \nz\n\" style=\"fill:#ffffff;\"/>\n   </g>\n   <g id=\"patch_3\">\n    <path clip-path=\"url(#pdb1cad2b41)\" d=\"M 45.321307 224.64 \nL 109.397862 224.64 \nL 109.397862 224.64 \nL 45.321307 224.64 \nz\n\" style=\"fill:#1f77b4;\"/>\n   </g>\n   <g id=\"patch_4\">\n    <path clip-path=\"url(#pdb1cad2b41)\" d=\"M 285.608388 224.64 \nL 349.684943 224.64 \nL 349.684943 17.554286 \nL 285.608388 17.554286 \nz\n\" style=\"fill:#1f77b4;\"/>\n   </g>\n   <g id=\"patch_5\">\n    <path clip-path=\"url(#pdb1cad2b41)\" d=\"M 125.417001 224.64 \nL 189.493556 224.64 \nL 189.493556 17.554286 \nL 125.417001 17.554286 \nz\n\" style=\"fill:#1f77b4;\"/>\n   </g>\n   <g id=\"patch_6\">\n    <path clip-path=\"url(#pdb1cad2b41)\" d=\"M 285.608388 224.64 \nL 349.684943 224.64 \nL 349.684943 17.554286 \nL 285.608388 17.554286 \nz\n\" style=\"fill:#1f77b4;\"/>\n   </g>\n   <g id=\"patch_7\">\n    <path clip-path=\"url(#pdb1cad2b41)\" d=\"M 45.321307 224.64 \nL 109.397862 224.64 \nL 109.397862 224.64 \nL 45.321307 224.64 \nz\n\" style=\"fill:#1f77b4;\"/>\n   </g>\n   <g id=\"patch_8\">\n    <path clip-path=\"url(#pdb1cad2b41)\" d=\"M 45.321307 224.64 \nL 109.397862 224.64 \nL 109.397862 224.64 \nL 45.321307 224.64 \nz\n\" style=\"fill:#1f77b4;\"/>\n   </g>\n   <g id=\"patch_9\">\n    <path clip-path=\"url(#pdb1cad2b41)\" d=\"M 45.321307 224.64 \nL 109.397862 224.64 \nL 109.397862 224.64 \nL 45.321307 224.64 \nz\n\" style=\"fill:#1f77b4;\"/>\n   </g>\n   <g id=\"patch_10\">\n    <path clip-path=\"url(#pdb1cad2b41)\" d=\"M 45.321307 224.64 \nL 109.397862 224.64 \nL 109.397862 224.64 \nL 45.321307 224.64 \nz\n\" style=\"fill:#1f77b4;\"/>\n   </g>\n   <g id=\"patch_11\">\n    <path clip-path=\"url(#pdb1cad2b41)\" d=\"M 125.417001 224.64 \nL 189.493556 224.64 \nL 189.493556 17.554286 \nL 125.417001 17.554286 \nz\n\" style=\"fill:#1f77b4;\"/>\n   </g>\n   <g id=\"patch_12\">\n    <path clip-path=\"url(#pdb1cad2b41)\" d=\"M 205.512694 224.64 \nL 269.589249 224.64 \nL 269.589249 17.554286 \nL 205.512694 17.554286 \nz\n\" style=\"fill:#1f77b4;\"/>\n   </g>\n   <g id=\"patch_13\">\n    <path clip-path=\"url(#pdb1cad2b41)\" d=\"M 205.512694 224.64 \nL 269.589249 224.64 \nL 269.589249 17.554286 \nL 205.512694 17.554286 \nz\n\" style=\"fill:#1f77b4;\"/>\n   </g>\n   <g id=\"patch_14\">\n    <path clip-path=\"url(#pdb1cad2b41)\" d=\"M 205.512694 224.64 \nL 269.589249 224.64 \nL 269.589249 17.554286 \nL 205.512694 17.554286 \nz\n\" style=\"fill:#1f77b4;\"/>\n   </g>\n   <g id=\"patch_15\">\n    <path clip-path=\"url(#pdb1cad2b41)\" d=\"M 45.321307 224.64 \nL 109.397862 224.64 \nL 109.397862 224.64 \nL 45.321307 224.64 \nz\n\" style=\"fill:#1f77b4;\"/>\n   </g>\n   <g id=\"patch_16\">\n    <path clip-path=\"url(#pdb1cad2b41)\" d=\"M 45.321307 224.64 \nL 109.397862 224.64 \nL 109.397862 224.64 \nL 45.321307 224.64 \nz\n\" style=\"fill:#1f77b4;\"/>\n   </g>\n   <g id=\"patch_17\">\n    <path clip-path=\"url(#pdb1cad2b41)\" d=\"M 45.321307 224.64 \nL 109.397862 224.64 \nL 109.397862 224.64 \nL 45.321307 224.64 \nz\n\" style=\"fill:#1f77b4;\"/>\n   </g>\n   <g id=\"patch_18\">\n    <path clip-path=\"url(#pdb1cad2b41)\" d=\"M 205.512694 224.64 \nL 269.589249 224.64 \nL 269.589249 17.554286 \nL 205.512694 17.554286 \nz\n\" style=\"fill:#1f77b4;\"/>\n   </g>\n   <g id=\"patch_19\">\n    <path clip-path=\"url(#pdb1cad2b41)\" d=\"M 45.321307 224.64 \nL 109.397862 224.64 \nL 109.397862 224.64 \nL 45.321307 224.64 \nz\n\" style=\"fill:#1f77b4;\"/>\n   </g>\n   <g id=\"patch_20\">\n    <path clip-path=\"url(#pdb1cad2b41)\" d=\"M 45.321307 224.64 \nL 109.397862 224.64 \nL 109.397862 17.554286 \nL 45.321307 17.554286 \nz\n\" style=\"fill:#1f77b4;\"/>\n   </g>\n   <g id=\"patch_21\">\n    <path clip-path=\"url(#pdb1cad2b41)\" d=\"M 205.512694 224.64 \nL 269.589249 224.64 \nL 269.589249 224.64 \nL 205.512694 224.64 \nz\n\" style=\"fill:#1f77b4;\"/>\n   </g>\n   <g id=\"patch_22\">\n    <path clip-path=\"url(#pdb1cad2b41)\" d=\"M 45.321307 224.64 \nL 109.397862 224.64 \nL 109.397862 17.554286 \nL 45.321307 17.554286 \nz\n\" style=\"fill:#1f77b4;\"/>\n   </g>\n   <g id=\"patch_23\">\n    <path clip-path=\"url(#pdb1cad2b41)\" d=\"M 45.321307 224.64 \nL 109.397862 224.64 \nL 109.397862 224.64 \nL 45.321307 224.64 \nz\n\" style=\"fill:#1f77b4;\"/>\n   </g>\n   <g id=\"patch_24\">\n    <path clip-path=\"url(#pdb1cad2b41)\" d=\"M 45.321307 224.64 \nL 109.397862 224.64 \nL 109.397862 17.554286 \nL 45.321307 17.554286 \nz\n\" style=\"fill:#1f77b4;\"/>\n   </g>\n   <g id=\"patch_25\">\n    <path clip-path=\"url(#pdb1cad2b41)\" d=\"M 125.417001 224.64 \nL 189.493556 224.64 \nL 189.493556 17.554286 \nL 125.417001 17.554286 \nz\n\" style=\"fill:#1f77b4;\"/>\n   </g>\n   <g id=\"patch_26\">\n    <path clip-path=\"url(#pdb1cad2b41)\" d=\"M 45.321307 224.64 \nL 109.397862 224.64 \nL 109.397862 17.554286 \nL 45.321307 17.554286 \nz\n\" style=\"fill:#1f77b4;\"/>\n   </g>\n   <g id=\"patch_27\">\n    <path clip-path=\"url(#pdb1cad2b41)\" d=\"M 205.512694 224.64 \nL 269.589249 224.64 \nL 269.589249 224.64 \nL 205.512694 224.64 \nz\n\" style=\"fill:#1f77b4;\"/>\n   </g>\n   <g id=\"patch_28\">\n    <path clip-path=\"url(#pdb1cad2b41)\" d=\"M 285.608388 224.64 \nL 349.684943 224.64 \nL 349.684943 17.554286 \nL 285.608388 17.554286 \nz\n\" style=\"fill:#1f77b4;\"/>\n   </g>\n   <g id=\"patch_29\">\n    <path clip-path=\"url(#pdb1cad2b41)\" d=\"M 45.321307 224.64 \nL 109.397862 224.64 \nL 109.397862 224.64 \nL 45.321307 224.64 \nz\n\" style=\"fill:#1f77b4;\"/>\n   </g>\n   <g id=\"patch_30\">\n    <path clip-path=\"url(#pdb1cad2b41)\" d=\"M 45.321307 224.64 \nL 109.397862 224.64 \nL 109.397862 224.64 \nL 45.321307 224.64 \nz\n\" style=\"fill:#1f77b4;\"/>\n   </g>\n   <g id=\"patch_31\">\n    <path clip-path=\"url(#pdb1cad2b41)\" d=\"M 45.321307 224.64 \nL 109.397862 224.64 \nL 109.397862 17.554286 \nL 45.321307 17.554286 \nz\n\" style=\"fill:#1f77b4;\"/>\n   </g>\n   <g id=\"patch_32\">\n    <path clip-path=\"url(#pdb1cad2b41)\" d=\"M 45.321307 224.64 \nL 109.397862 224.64 \nL 109.397862 224.64 \nL 45.321307 224.64 \nz\n\" style=\"fill:#1f77b4;\"/>\n   </g>\n   <g id=\"patch_33\">\n    <path clip-path=\"url(#pdb1cad2b41)\" d=\"M 45.321307 224.64 \nL 109.397862 224.64 \nL 109.397862 224.64 \nL 45.321307 224.64 \nz\n\" style=\"fill:#1f77b4;\"/>\n   </g>\n   <g id=\"patch_34\">\n    <path clip-path=\"url(#pdb1cad2b41)\" d=\"M 285.608388 224.64 \nL 349.684943 224.64 \nL 349.684943 17.554286 \nL 285.608388 17.554286 \nz\n\" style=\"fill:#1f77b4;\"/>\n   </g>\n   <g id=\"patch_35\">\n    <path clip-path=\"url(#pdb1cad2b41)\" d=\"M 45.321307 224.64 \nL 109.397862 224.64 \nL 109.397862 17.554286 \nL 45.321307 17.554286 \nz\n\" style=\"fill:#1f77b4;\"/>\n   </g>\n   <g id=\"patch_36\">\n    <path clip-path=\"url(#pdb1cad2b41)\" d=\"M 45.321307 224.64 \nL 109.397862 224.64 \nL 109.397862 224.64 \nL 45.321307 224.64 \nz\n\" style=\"fill:#1f77b4;\"/>\n   </g>\n   <g id=\"patch_37\">\n    <path clip-path=\"url(#pdb1cad2b41)\" d=\"M 45.321307 224.64 \nL 109.397862 224.64 \nL 109.397862 224.64 \nL 45.321307 224.64 \nz\n\" style=\"fill:#1f77b4;\"/>\n   </g>\n   <g id=\"patch_38\">\n    <path clip-path=\"url(#pdb1cad2b41)\" d=\"M 45.321307 224.64 \nL 109.397862 224.64 \nL 109.397862 224.64 \nL 45.321307 224.64 \nz\n\" style=\"fill:#1f77b4;\"/>\n   </g>\n   <g id=\"patch_39\">\n    <path clip-path=\"url(#pdb1cad2b41)\" d=\"M 45.321307 224.64 \nL 109.397862 224.64 \nL 109.397862 17.554286 \nL 45.321307 17.554286 \nz\n\" style=\"fill:#1f77b4;\"/>\n   </g>\n   <g id=\"patch_40\">\n    <path clip-path=\"url(#pdb1cad2b41)\" d=\"M 45.321307 224.64 \nL 109.397862 224.64 \nL 109.397862 224.64 \nL 45.321307 224.64 \nz\n\" style=\"fill:#1f77b4;\"/>\n   </g>\n   <g id=\"patch_41\">\n    <path clip-path=\"url(#pdb1cad2b41)\" d=\"M 205.512694 224.64 \nL 269.589249 224.64 \nL 269.589249 224.64 \nL 205.512694 224.64 \nz\n\" style=\"fill:#1f77b4;\"/>\n   </g>\n   <g id=\"patch_42\">\n    <path clip-path=\"url(#pdb1cad2b41)\" d=\"M 125.417001 224.64 \nL 189.493556 224.64 \nL 189.493556 17.554286 \nL 125.417001 17.554286 \nz\n\" style=\"fill:#1f77b4;\"/>\n   </g>\n   <g id=\"patch_43\">\n    <path clip-path=\"url(#pdb1cad2b41)\" d=\"M 125.417001 224.64 \nL 189.493556 224.64 \nL 189.493556 224.64 \nL 125.417001 224.64 \nz\n\" style=\"fill:#1f77b4;\"/>\n   </g>\n   <g id=\"patch_44\">\n    <path clip-path=\"url(#pdb1cad2b41)\" d=\"M 205.512694 224.64 \nL 269.589249 224.64 \nL 269.589249 224.64 \nL 205.512694 224.64 \nz\n\" style=\"fill:#1f77b4;\"/>\n   </g>\n   <g id=\"patch_45\">\n    <path clip-path=\"url(#pdb1cad2b41)\" d=\"M 45.321307 224.64 \nL 109.397862 224.64 \nL 109.397862 224.64 \nL 45.321307 224.64 \nz\n\" style=\"fill:#1f77b4;\"/>\n   </g>\n   <g id=\"patch_46\">\n    <path clip-path=\"url(#pdb1cad2b41)\" d=\"M 285.608388 224.64 \nL 349.684943 224.64 \nL 349.684943 17.554286 \nL 285.608388 17.554286 \nz\n\" style=\"fill:#1f77b4;\"/>\n   </g>\n   <g id=\"patch_47\">\n    <path clip-path=\"url(#pdb1cad2b41)\" d=\"M 45.321307 224.64 \nL 109.397862 224.64 \nL 109.397862 17.554286 \nL 45.321307 17.554286 \nz\n\" style=\"fill:#1f77b4;\"/>\n   </g>\n   <g id=\"patch_48\">\n    <path clip-path=\"url(#pdb1cad2b41)\" d=\"M 45.321307 224.64 \nL 109.397862 224.64 \nL 109.397862 224.64 \nL 45.321307 224.64 \nz\n\" style=\"fill:#1f77b4;\"/>\n   </g>\n   <g id=\"patch_49\">\n    <path clip-path=\"url(#pdb1cad2b41)\" d=\"M 45.321307 224.64 \nL 109.397862 224.64 \nL 109.397862 224.64 \nL 45.321307 224.64 \nz\n\" style=\"fill:#1f77b4;\"/>\n   </g>\n   <g id=\"patch_50\">\n    <path clip-path=\"url(#pdb1cad2b41)\" d=\"M 45.321307 224.64 \nL 109.397862 224.64 \nL 109.397862 17.554286 \nL 45.321307 17.554286 \nz\n\" style=\"fill:#1f77b4;\"/>\n   </g>\n   <g id=\"patch_51\">\n    <path clip-path=\"url(#pdb1cad2b41)\" d=\"M 45.321307 224.64 \nL 109.397862 224.64 \nL 109.397862 224.64 \nL 45.321307 224.64 \nz\n\" style=\"fill:#1f77b4;\"/>\n   </g>\n   <g id=\"patch_52\">\n    <path clip-path=\"url(#pdb1cad2b41)\" d=\"M 205.512694 224.64 \nL 269.589249 224.64 \nL 269.589249 224.64 \nL 205.512694 224.64 \nz\n\" style=\"fill:#1f77b4;\"/>\n   </g>\n   <g id=\"patch_53\">\n    <path clip-path=\"url(#pdb1cad2b41)\" d=\"M 45.321307 224.64 \nL 109.397862 224.64 \nL 109.397862 224.64 \nL 45.321307 224.64 \nz\n\" style=\"fill:#1f77b4;\"/>\n   </g>\n   <g id=\"patch_54\">\n    <path clip-path=\"url(#pdb1cad2b41)\" d=\"M 45.321307 224.64 \nL 109.397862 224.64 \nL 109.397862 224.64 \nL 45.321307 224.64 \nz\n\" style=\"fill:#1f77b4;\"/>\n   </g>\n   <g id=\"patch_55\">\n    <path clip-path=\"url(#pdb1cad2b41)\" d=\"M 285.608388 224.64 \nL 349.684943 224.64 \nL 349.684943 17.554286 \nL 285.608388 17.554286 \nz\n\" style=\"fill:#1f77b4;\"/>\n   </g>\n   <g id=\"patch_56\">\n    <path clip-path=\"url(#pdb1cad2b41)\" d=\"M 205.512694 224.64 \nL 269.589249 224.64 \nL 269.589249 17.554286 \nL 205.512694 17.554286 \nz\n\" style=\"fill:#1f77b4;\"/>\n   </g>\n   <g id=\"patch_57\">\n    <path clip-path=\"url(#pdb1cad2b41)\" d=\"M 45.321307 224.64 \nL 109.397862 224.64 \nL 109.397862 224.64 \nL 45.321307 224.64 \nz\n\" style=\"fill:#1f77b4;\"/>\n   </g>\n   <g id=\"patch_58\">\n    <path clip-path=\"url(#pdb1cad2b41)\" d=\"M 45.321307 224.64 \nL 109.397862 224.64 \nL 109.397862 17.554286 \nL 45.321307 17.554286 \nz\n\" style=\"fill:#1f77b4;\"/>\n   </g>\n   <g id=\"patch_59\">\n    <path clip-path=\"url(#pdb1cad2b41)\" d=\"M 125.417001 224.64 \nL 189.493556 224.64 \nL 189.493556 17.554286 \nL 125.417001 17.554286 \nz\n\" style=\"fill:#1f77b4;\"/>\n   </g>\n   <g id=\"patch_60\">\n    <path clip-path=\"url(#pdb1cad2b41)\" d=\"M 45.321307 224.64 \nL 109.397862 224.64 \nL 109.397862 224.64 \nL 45.321307 224.64 \nz\n\" style=\"fill:#1f77b4;\"/>\n   </g>\n   <g id=\"patch_61\">\n    <path clip-path=\"url(#pdb1cad2b41)\" d=\"M 205.512694 224.64 \nL 269.589249 224.64 \nL 269.589249 17.554286 \nL 205.512694 17.554286 \nz\n\" style=\"fill:#1f77b4;\"/>\n   </g>\n   <g id=\"patch_62\">\n    <path clip-path=\"url(#pdb1cad2b41)\" d=\"M 45.321307 224.64 \nL 109.397862 224.64 \nL 109.397862 224.64 \nL 45.321307 224.64 \nz\n\" style=\"fill:#1f77b4;\"/>\n   </g>\n   <g id=\"patch_63\">\n    <path clip-path=\"url(#pdb1cad2b41)\" d=\"M 45.321307 224.64 \nL 109.397862 224.64 \nL 109.397862 224.64 \nL 45.321307 224.64 \nz\n\" style=\"fill:#1f77b4;\"/>\n   </g>\n   <g id=\"patch_64\">\n    <path clip-path=\"url(#pdb1cad2b41)\" d=\"M 285.608388 224.64 \nL 349.684943 224.64 \nL 349.684943 17.554286 \nL 285.608388 17.554286 \nz\n\" style=\"fill:#1f77b4;\"/>\n   </g>\n   <g id=\"patch_65\">\n    <path clip-path=\"url(#pdb1cad2b41)\" d=\"M 45.321307 224.64 \nL 109.397862 224.64 \nL 109.397862 224.64 \nL 45.321307 224.64 \nz\n\" style=\"fill:#1f77b4;\"/>\n   </g>\n   <g id=\"patch_66\">\n    <path clip-path=\"url(#pdb1cad2b41)\" d=\"M 45.321307 224.64 \nL 109.397862 224.64 \nL 109.397862 224.64 \nL 45.321307 224.64 \nz\n\" style=\"fill:#1f77b4;\"/>\n   </g>\n   <g id=\"patch_67\">\n    <path clip-path=\"url(#pdb1cad2b41)\" d=\"M 45.321307 224.64 \nL 109.397862 224.64 \nL 109.397862 224.64 \nL 45.321307 224.64 \nz\n\" style=\"fill:#1f77b4;\"/>\n   </g>\n   <g id=\"patch_68\">\n    <path clip-path=\"url(#pdb1cad2b41)\" d=\"M 45.321307 224.64 \nL 109.397862 224.64 \nL 109.397862 17.554286 \nL 45.321307 17.554286 \nz\n\" style=\"fill:#1f77b4;\"/>\n   </g>\n   <g id=\"patch_69\">\n    <path clip-path=\"url(#pdb1cad2b41)\" d=\"M 125.417001 224.64 \nL 189.493556 224.64 \nL 189.493556 17.554286 \nL 125.417001 17.554286 \nz\n\" style=\"fill:#1f77b4;\"/>\n   </g>\n   <g id=\"patch_70\">\n    <path clip-path=\"url(#pdb1cad2b41)\" d=\"M 45.321307 224.64 \nL 109.397862 224.64 \nL 109.397862 224.64 \nL 45.321307 224.64 \nz\n\" style=\"fill:#1f77b4;\"/>\n   </g>\n   <g id=\"patch_71\">\n    <path clip-path=\"url(#pdb1cad2b41)\" d=\"M 125.417001 224.64 \nL 189.493556 224.64 \nL 189.493556 17.554286 \nL 125.417001 17.554286 \nz\n\" style=\"fill:#1f77b4;\"/>\n   </g>\n   <g id=\"patch_72\">\n    <path clip-path=\"url(#pdb1cad2b41)\" d=\"M 45.321307 224.64 \nL 109.397862 224.64 \nL 109.397862 224.64 \nL 45.321307 224.64 \nz\n\" style=\"fill:#1f77b4;\"/>\n   </g>\n   <g id=\"patch_73\">\n    <path clip-path=\"url(#pdb1cad2b41)\" d=\"M 45.321307 224.64 \nL 109.397862 224.64 \nL 109.397862 224.64 \nL 45.321307 224.64 \nz\n\" style=\"fill:#1f77b4;\"/>\n   </g>\n   <g id=\"patch_74\">\n    <path clip-path=\"url(#pdb1cad2b41)\" d=\"M 285.608388 224.64 \nL 349.684943 224.64 \nL 349.684943 224.64 \nL 285.608388 224.64 \nz\n\" style=\"fill:#1f77b4;\"/>\n   </g>\n   <g id=\"patch_75\">\n    <path clip-path=\"url(#pdb1cad2b41)\" d=\"M 45.321307 224.64 \nL 109.397862 224.64 \nL 109.397862 224.64 \nL 45.321307 224.64 \nz\n\" style=\"fill:#1f77b4;\"/>\n   </g>\n   <g id=\"patch_76\">\n    <path clip-path=\"url(#pdb1cad2b41)\" d=\"M 45.321307 224.64 \nL 109.397862 224.64 \nL 109.397862 224.64 \nL 45.321307 224.64 \nz\n\" style=\"fill:#1f77b4;\"/>\n   </g>\n   <g id=\"patch_77\">\n    <path clip-path=\"url(#pdb1cad2b41)\" d=\"M 45.321307 224.64 \nL 109.397862 224.64 \nL 109.397862 17.554286 \nL 45.321307 17.554286 \nz\n\" style=\"fill:#1f77b4;\"/>\n   </g>\n   <g id=\"patch_78\">\n    <path clip-path=\"url(#pdb1cad2b41)\" d=\"M 45.321307 224.64 \nL 109.397862 224.64 \nL 109.397862 224.64 \nL 45.321307 224.64 \nz\n\" style=\"fill:#1f77b4;\"/>\n   </g>\n   <g id=\"patch_79\">\n    <path clip-path=\"url(#pdb1cad2b41)\" d=\"M 45.321307 224.64 \nL 109.397862 224.64 \nL 109.397862 224.64 \nL 45.321307 224.64 \nz\n\" style=\"fill:#1f77b4;\"/>\n   </g>\n   <g id=\"patch_80\">\n    <path clip-path=\"url(#pdb1cad2b41)\" d=\"M 45.321307 224.64 \nL 109.397862 224.64 \nL 109.397862 224.64 \nL 45.321307 224.64 \nz\n\" style=\"fill:#1f77b4;\"/>\n   </g>\n   <g id=\"patch_81\">\n    <path clip-path=\"url(#pdb1cad2b41)\" d=\"M 45.321307 224.64 \nL 109.397862 224.64 \nL 109.397862 17.554286 \nL 45.321307 17.554286 \nz\n\" style=\"fill:#1f77b4;\"/>\n   </g>\n   <g id=\"patch_82\">\n    <path clip-path=\"url(#pdb1cad2b41)\" d=\"M 125.417001 224.64 \nL 189.493556 224.64 \nL 189.493556 17.554286 \nL 125.417001 17.554286 \nz\n\" style=\"fill:#1f77b4;\"/>\n   </g>\n   <g id=\"patch_83\">\n    <path clip-path=\"url(#pdb1cad2b41)\" d=\"M 45.321307 224.64 \nL 109.397862 224.64 \nL 109.397862 224.64 \nL 45.321307 224.64 \nz\n\" style=\"fill:#1f77b4;\"/>\n   </g>\n   <g id=\"patch_84\">\n    <path clip-path=\"url(#pdb1cad2b41)\" d=\"M 45.321307 224.64 \nL 109.397862 224.64 \nL 109.397862 17.554286 \nL 45.321307 17.554286 \nz\n\" style=\"fill:#1f77b4;\"/>\n   </g>\n   <g id=\"patch_85\">\n    <path clip-path=\"url(#pdb1cad2b41)\" d=\"M 45.321307 224.64 \nL 109.397862 224.64 \nL 109.397862 17.554286 \nL 45.321307 17.554286 \nz\n\" style=\"fill:#1f77b4;\"/>\n   </g>\n   <g id=\"patch_86\">\n    <path clip-path=\"url(#pdb1cad2b41)\" d=\"M 45.321307 224.64 \nL 109.397862 224.64 \nL 109.397862 224.64 \nL 45.321307 224.64 \nz\n\" style=\"fill:#1f77b4;\"/>\n   </g>\n   <g id=\"patch_87\">\n    <path clip-path=\"url(#pdb1cad2b41)\" d=\"M 125.417001 224.64 \nL 189.493556 224.64 \nL 189.493556 17.554286 \nL 125.417001 17.554286 \nz\n\" style=\"fill:#1f77b4;\"/>\n   </g>\n   <g id=\"patch_88\">\n    <path clip-path=\"url(#pdb1cad2b41)\" d=\"M 205.512694 224.64 \nL 269.589249 224.64 \nL 269.589249 17.554286 \nL 205.512694 17.554286 \nz\n\" style=\"fill:#1f77b4;\"/>\n   </g>\n   <g id=\"patch_89\">\n    <path clip-path=\"url(#pdb1cad2b41)\" d=\"M 45.321307 224.64 \nL 109.397862 224.64 \nL 109.397862 224.64 \nL 45.321307 224.64 \nz\n\" style=\"fill:#1f77b4;\"/>\n   </g>\n   <g id=\"patch_90\">\n    <path clip-path=\"url(#pdb1cad2b41)\" d=\"M 45.321307 224.64 \nL 109.397862 224.64 \nL 109.397862 224.64 \nL 45.321307 224.64 \nz\n\" style=\"fill:#1f77b4;\"/>\n   </g>\n   <g id=\"patch_91\">\n    <path clip-path=\"url(#pdb1cad2b41)\" d=\"M 285.608388 224.64 \nL 349.684943 224.64 \nL 349.684943 17.554286 \nL 285.608388 17.554286 \nz\n\" style=\"fill:#1f77b4;\"/>\n   </g>\n   <g id=\"patch_92\">\n    <path clip-path=\"url(#pdb1cad2b41)\" d=\"M 45.321307 224.64 \nL 109.397862 224.64 \nL 109.397862 224.64 \nL 45.321307 224.64 \nz\n\" style=\"fill:#1f77b4;\"/>\n   </g>\n   <g id=\"patch_93\">\n    <path clip-path=\"url(#pdb1cad2b41)\" d=\"M 45.321307 224.64 \nL 109.397862 224.64 \nL 109.397862 224.64 \nL 45.321307 224.64 \nz\n\" style=\"fill:#1f77b4;\"/>\n   </g>\n   <g id=\"patch_94\">\n    <path clip-path=\"url(#pdb1cad2b41)\" d=\"M 45.321307 224.64 \nL 109.397862 224.64 \nL 109.397862 224.64 \nL 45.321307 224.64 \nz\n\" style=\"fill:#1f77b4;\"/>\n   </g>\n   <g id=\"patch_95\">\n    <path clip-path=\"url(#pdb1cad2b41)\" d=\"M 45.321307 224.64 \nL 109.397862 224.64 \nL 109.397862 224.64 \nL 45.321307 224.64 \nz\n\" style=\"fill:#1f77b4;\"/>\n   </g>\n   <g id=\"patch_96\">\n    <path clip-path=\"url(#pdb1cad2b41)\" d=\"M 45.321307 224.64 \nL 109.397862 224.64 \nL 109.397862 224.64 \nL 45.321307 224.64 \nz\n\" style=\"fill:#1f77b4;\"/>\n   </g>\n   <g id=\"patch_97\">\n    <path clip-path=\"url(#pdb1cad2b41)\" d=\"M 45.321307 224.64 \nL 109.397862 224.64 \nL 109.397862 224.64 \nL 45.321307 224.64 \nz\n\" style=\"fill:#1f77b4;\"/>\n   </g>\n   <g id=\"patch_98\">\n    <path clip-path=\"url(#pdb1cad2b41)\" d=\"M 45.321307 224.64 \nL 109.397862 224.64 \nL 109.397862 224.64 \nL 45.321307 224.64 \nz\n\" style=\"fill:#1f77b4;\"/>\n   </g>\n   <g id=\"patch_99\">\n    <path clip-path=\"url(#pdb1cad2b41)\" d=\"M 45.321307 224.64 \nL 109.397862 224.64 \nL 109.397862 224.64 \nL 45.321307 224.64 \nz\n\" style=\"fill:#1f77b4;\"/>\n   </g>\n   <g id=\"patch_100\">\n    <path clip-path=\"url(#pdb1cad2b41)\" d=\"M 45.321307 224.64 \nL 109.397862 224.64 \nL 109.397862 17.554286 \nL 45.321307 17.554286 \nz\n\" style=\"fill:#1f77b4;\"/>\n   </g>\n   <g id=\"patch_101\">\n    <path clip-path=\"url(#pdb1cad2b41)\" d=\"M 205.512694 224.64 \nL 269.589249 224.64 \nL 269.589249 17.554286 \nL 205.512694 17.554286 \nz\n\" style=\"fill:#1f77b4;\"/>\n   </g>\n   <g id=\"patch_102\">\n    <path clip-path=\"url(#pdb1cad2b41)\" d=\"M 45.321307 224.64 \nL 109.397862 224.64 \nL 109.397862 224.64 \nL 45.321307 224.64 \nz\n\" style=\"fill:#1f77b4;\"/>\n   </g>\n   <g id=\"patch_103\">\n    <path clip-path=\"url(#pdb1cad2b41)\" d=\"M 45.321307 224.64 \nL 109.397862 224.64 \nL 109.397862 224.64 \nL 45.321307 224.64 \nz\n\" style=\"fill:#1f77b4;\"/>\n   </g>\n   <g id=\"patch_104\">\n    <path clip-path=\"url(#pdb1cad2b41)\" d=\"M 45.321307 224.64 \nL 109.397862 224.64 \nL 109.397862 224.64 \nL 45.321307 224.64 \nz\n\" style=\"fill:#1f77b4;\"/>\n   </g>\n   <g id=\"patch_105\">\n    <path clip-path=\"url(#pdb1cad2b41)\" d=\"M 45.321307 224.64 \nL 109.397862 224.64 \nL 109.397862 224.64 \nL 45.321307 224.64 \nz\n\" style=\"fill:#1f77b4;\"/>\n   </g>\n   <g id=\"patch_106\">\n    <path clip-path=\"url(#pdb1cad2b41)\" d=\"M 45.321307 224.64 \nL 109.397862 224.64 \nL 109.397862 224.64 \nL 45.321307 224.64 \nz\n\" style=\"fill:#1f77b4;\"/>\n   </g>\n   <g id=\"patch_107\">\n    <path clip-path=\"url(#pdb1cad2b41)\" d=\"M 45.321307 224.64 \nL 109.397862 224.64 \nL 109.397862 224.64 \nL 45.321307 224.64 \nz\n\" style=\"fill:#1f77b4;\"/>\n   </g>\n   <g id=\"patch_108\">\n    <path clip-path=\"url(#pdb1cad2b41)\" d=\"M 45.321307 224.64 \nL 109.397862 224.64 \nL 109.397862 224.64 \nL 45.321307 224.64 \nz\n\" style=\"fill:#1f77b4;\"/>\n   </g>\n   <g id=\"patch_109\">\n    <path clip-path=\"url(#pdb1cad2b41)\" d=\"M 45.321307 224.64 \nL 109.397862 224.64 \nL 109.397862 17.554286 \nL 45.321307 17.554286 \nz\n\" style=\"fill:#1f77b4;\"/>\n   </g>\n   <g id=\"patch_110\">\n    <path clip-path=\"url(#pdb1cad2b41)\" d=\"M 45.321307 224.64 \nL 109.397862 224.64 \nL 109.397862 17.554286 \nL 45.321307 17.554286 \nz\n\" style=\"fill:#1f77b4;\"/>\n   </g>\n   <g id=\"patch_111\">\n    <path clip-path=\"url(#pdb1cad2b41)\" d=\"M 45.321307 224.64 \nL 109.397862 224.64 \nL 109.397862 224.64 \nL 45.321307 224.64 \nz\n\" style=\"fill:#1f77b4;\"/>\n   </g>\n   <g id=\"patch_112\">\n    <path clip-path=\"url(#pdb1cad2b41)\" d=\"M 205.512694 224.64 \nL 269.589249 224.64 \nL 269.589249 17.554286 \nL 205.512694 17.554286 \nz\n\" style=\"fill:#1f77b4;\"/>\n   </g>\n   <g id=\"patch_113\">\n    <path clip-path=\"url(#pdb1cad2b41)\" d=\"M 45.321307 224.64 \nL 109.397862 224.64 \nL 109.397862 224.64 \nL 45.321307 224.64 \nz\n\" style=\"fill:#1f77b4;\"/>\n   </g>\n   <g id=\"patch_114\">\n    <path clip-path=\"url(#pdb1cad2b41)\" d=\"M 205.512694 224.64 \nL 269.589249 224.64 \nL 269.589249 224.64 \nL 205.512694 224.64 \nz\n\" style=\"fill:#1f77b4;\"/>\n   </g>\n   <g id=\"patch_115\">\n    <path clip-path=\"url(#pdb1cad2b41)\" d=\"M 45.321307 224.64 \nL 109.397862 224.64 \nL 109.397862 224.64 \nL 45.321307 224.64 \nz\n\" style=\"fill:#1f77b4;\"/>\n   </g>\n   <g id=\"patch_116\">\n    <path clip-path=\"url(#pdb1cad2b41)\" d=\"M 125.417001 224.64 \nL 189.493556 224.64 \nL 189.493556 224.64 \nL 125.417001 224.64 \nz\n\" style=\"fill:#1f77b4;\"/>\n   </g>\n   <g id=\"patch_117\">\n    <path clip-path=\"url(#pdb1cad2b41)\" d=\"M 205.512694 224.64 \nL 269.589249 224.64 \nL 269.589249 224.64 \nL 205.512694 224.64 \nz\n\" style=\"fill:#1f77b4;\"/>\n   </g>\n   <g id=\"patch_118\">\n    <path clip-path=\"url(#pdb1cad2b41)\" d=\"M 45.321307 224.64 \nL 109.397862 224.64 \nL 109.397862 224.64 \nL 45.321307 224.64 \nz\n\" style=\"fill:#1f77b4;\"/>\n   </g>\n   <g id=\"patch_119\">\n    <path clip-path=\"url(#pdb1cad2b41)\" d=\"M 45.321307 224.64 \nL 109.397862 224.64 \nL 109.397862 224.64 \nL 45.321307 224.64 \nz\n\" style=\"fill:#1f77b4;\"/>\n   </g>\n   <g id=\"patch_120\">\n    <path clip-path=\"url(#pdb1cad2b41)\" d=\"M 45.321307 224.64 \nL 109.397862 224.64 \nL 109.397862 224.64 \nL 45.321307 224.64 \nz\n\" style=\"fill:#1f77b4;\"/>\n   </g>\n   <g id=\"patch_121\">\n    <path clip-path=\"url(#pdb1cad2b41)\" d=\"M 45.321307 224.64 \nL 109.397862 224.64 \nL 109.397862 224.64 \nL 45.321307 224.64 \nz\n\" style=\"fill:#1f77b4;\"/>\n   </g>\n   <g id=\"patch_122\">\n    <path clip-path=\"url(#pdb1cad2b41)\" d=\"M 285.608388 224.64 \nL 349.684943 224.64 \nL 349.684943 224.64 \nL 285.608388 224.64 \nz\n\" style=\"fill:#1f77b4;\"/>\n   </g>\n   <g id=\"patch_123\">\n    <path clip-path=\"url(#pdb1cad2b41)\" d=\"M 45.321307 224.64 \nL 109.397862 224.64 \nL 109.397862 224.64 \nL 45.321307 224.64 \nz\n\" style=\"fill:#1f77b4;\"/>\n   </g>\n   <g id=\"patch_124\">\n    <path clip-path=\"url(#pdb1cad2b41)\" d=\"M 45.321307 224.64 \nL 109.397862 224.64 \nL 109.397862 224.64 \nL 45.321307 224.64 \nz\n\" style=\"fill:#1f77b4;\"/>\n   </g>\n   <g id=\"patch_125\">\n    <path clip-path=\"url(#pdb1cad2b41)\" d=\"M 45.321307 224.64 \nL 109.397862 224.64 \nL 109.397862 224.64 \nL 45.321307 224.64 \nz\n\" style=\"fill:#1f77b4;\"/>\n   </g>\n   <g id=\"patch_126\">\n    <path clip-path=\"url(#pdb1cad2b41)\" d=\"M 125.417001 224.64 \nL 189.493556 224.64 \nL 189.493556 17.554286 \nL 125.417001 17.554286 \nz\n\" style=\"fill:#1f77b4;\"/>\n   </g>\n   <g id=\"patch_127\">\n    <path clip-path=\"url(#pdb1cad2b41)\" d=\"M 45.321307 224.64 \nL 109.397862 224.64 \nL 109.397862 224.64 \nL 45.321307 224.64 \nz\n\" style=\"fill:#1f77b4;\"/>\n   </g>\n   <g id=\"patch_128\">\n    <path clip-path=\"url(#pdb1cad2b41)\" d=\"M 45.321307 224.64 \nL 109.397862 224.64 \nL 109.397862 17.554286 \nL 45.321307 17.554286 \nz\n\" style=\"fill:#1f77b4;\"/>\n   </g>\n   <g id=\"patch_129\">\n    <path clip-path=\"url(#pdb1cad2b41)\" d=\"M 45.321307 224.64 \nL 109.397862 224.64 \nL 109.397862 224.64 \nL 45.321307 224.64 \nz\n\" style=\"fill:#1f77b4;\"/>\n   </g>\n   <g id=\"patch_130\">\n    <path clip-path=\"url(#pdb1cad2b41)\" d=\"M 45.321307 224.64 \nL 109.397862 224.64 \nL 109.397862 17.554286 \nL 45.321307 17.554286 \nz\n\" style=\"fill:#1f77b4;\"/>\n   </g>\n   <g id=\"patch_131\">\n    <path clip-path=\"url(#pdb1cad2b41)\" d=\"M 205.512694 224.64 \nL 269.589249 224.64 \nL 269.589249 17.554286 \nL 205.512694 17.554286 \nz\n\" style=\"fill:#1f77b4;\"/>\n   </g>\n   <g id=\"patch_132\">\n    <path clip-path=\"url(#pdb1cad2b41)\" d=\"M 45.321307 224.64 \nL 109.397862 224.64 \nL 109.397862 224.64 \nL 45.321307 224.64 \nz\n\" style=\"fill:#1f77b4;\"/>\n   </g>\n   <g id=\"patch_133\">\n    <path clip-path=\"url(#pdb1cad2b41)\" d=\"M 45.321307 224.64 \nL 109.397862 224.64 \nL 109.397862 224.64 \nL 45.321307 224.64 \nz\n\" style=\"fill:#1f77b4;\"/>\n   </g>\n   <g id=\"patch_134\">\n    <path clip-path=\"url(#pdb1cad2b41)\" d=\"M 45.321307 224.64 \nL 109.397862 224.64 \nL 109.397862 224.64 \nL 45.321307 224.64 \nz\n\" style=\"fill:#1f77b4;\"/>\n   </g>\n   <g id=\"patch_135\">\n    <path clip-path=\"url(#pdb1cad2b41)\" d=\"M 205.512694 224.64 \nL 269.589249 224.64 \nL 269.589249 224.64 \nL 205.512694 224.64 \nz\n\" style=\"fill:#1f77b4;\"/>\n   </g>\n   <g id=\"patch_136\">\n    <path clip-path=\"url(#pdb1cad2b41)\" d=\"M 205.512694 224.64 \nL 269.589249 224.64 \nL 269.589249 17.554286 \nL 205.512694 17.554286 \nz\n\" style=\"fill:#1f77b4;\"/>\n   </g>\n   <g id=\"patch_137\">\n    <path clip-path=\"url(#pdb1cad2b41)\" d=\"M 45.321307 224.64 \nL 109.397862 224.64 \nL 109.397862 224.64 \nL 45.321307 224.64 \nz\n\" style=\"fill:#1f77b4;\"/>\n   </g>\n   <g id=\"patch_138\">\n    <path clip-path=\"url(#pdb1cad2b41)\" d=\"M 45.321307 224.64 \nL 109.397862 224.64 \nL 109.397862 224.64 \nL 45.321307 224.64 \nz\n\" style=\"fill:#1f77b4;\"/>\n   </g>\n   <g id=\"patch_139\">\n    <path clip-path=\"url(#pdb1cad2b41)\" d=\"M 205.512694 224.64 \nL 269.589249 224.64 \nL 269.589249 17.554286 \nL 205.512694 17.554286 \nz\n\" style=\"fill:#1f77b4;\"/>\n   </g>\n   <g id=\"patch_140\">\n    <path clip-path=\"url(#pdb1cad2b41)\" d=\"M 45.321307 224.64 \nL 109.397862 224.64 \nL 109.397862 224.64 \nL 45.321307 224.64 \nz\n\" style=\"fill:#1f77b4;\"/>\n   </g>\n   <g id=\"patch_141\">\n    <path clip-path=\"url(#pdb1cad2b41)\" d=\"M 45.321307 224.64 \nL 109.397862 224.64 \nL 109.397862 224.64 \nL 45.321307 224.64 \nz\n\" style=\"fill:#1f77b4;\"/>\n   </g>\n   <g id=\"patch_142\">\n    <path clip-path=\"url(#pdb1cad2b41)\" d=\"M 45.321307 224.64 \nL 109.397862 224.64 \nL 109.397862 224.64 \nL 45.321307 224.64 \nz\n\" style=\"fill:#1f77b4;\"/>\n   </g>\n   <g id=\"patch_143\">\n    <path clip-path=\"url(#pdb1cad2b41)\" d=\"M 205.512694 224.64 \nL 269.589249 224.64 \nL 269.589249 224.64 \nL 205.512694 224.64 \nz\n\" style=\"fill:#1f77b4;\"/>\n   </g>\n   <g id=\"patch_144\">\n    <path clip-path=\"url(#pdb1cad2b41)\" d=\"M 45.321307 224.64 \nL 109.397862 224.64 \nL 109.397862 17.554286 \nL 45.321307 17.554286 \nz\n\" style=\"fill:#1f77b4;\"/>\n   </g>\n   <g id=\"patch_145\">\n    <path clip-path=\"url(#pdb1cad2b41)\" d=\"M 205.512694 224.64 \nL 269.589249 224.64 \nL 269.589249 17.554286 \nL 205.512694 17.554286 \nz\n\" style=\"fill:#1f77b4;\"/>\n   </g>\n   <g id=\"patch_146\">\n    <path clip-path=\"url(#pdb1cad2b41)\" d=\"M 45.321307 224.64 \nL 109.397862 224.64 \nL 109.397862 224.64 \nL 45.321307 224.64 \nz\n\" style=\"fill:#1f77b4;\"/>\n   </g>\n   <g id=\"patch_147\">\n    <path clip-path=\"url(#pdb1cad2b41)\" d=\"M 45.321307 224.64 \nL 109.397862 224.64 \nL 109.397862 224.64 \nL 45.321307 224.64 \nz\n\" style=\"fill:#1f77b4;\"/>\n   </g>\n   <g id=\"patch_148\">\n    <path clip-path=\"url(#pdb1cad2b41)\" d=\"M 45.321307 224.64 \nL 109.397862 224.64 \nL 109.397862 224.64 \nL 45.321307 224.64 \nz\n\" style=\"fill:#1f77b4;\"/>\n   </g>\n   <g id=\"patch_149\">\n    <path clip-path=\"url(#pdb1cad2b41)\" d=\"M 45.321307 224.64 \nL 109.397862 224.64 \nL 109.397862 17.554286 \nL 45.321307 17.554286 \nz\n\" style=\"fill:#1f77b4;\"/>\n   </g>\n   <g id=\"patch_150\">\n    <path clip-path=\"url(#pdb1cad2b41)\" d=\"M 285.608388 224.64 \nL 349.684943 224.64 \nL 349.684943 224.64 \nL 285.608388 224.64 \nz\n\" style=\"fill:#1f77b4;\"/>\n   </g>\n   <g id=\"patch_151\">\n    <path clip-path=\"url(#pdb1cad2b41)\" d=\"M 45.321307 224.64 \nL 109.397862 224.64 \nL 109.397862 224.64 \nL 45.321307 224.64 \nz\n\" style=\"fill:#1f77b4;\"/>\n   </g>\n   <g id=\"patch_152\">\n    <path clip-path=\"url(#pdb1cad2b41)\" d=\"M 45.321307 224.64 \nL 109.397862 224.64 \nL 109.397862 224.64 \nL 45.321307 224.64 \nz\n\" style=\"fill:#1f77b4;\"/>\n   </g>\n   <g id=\"patch_153\">\n    <path clip-path=\"url(#pdb1cad2b41)\" d=\"M 45.321307 224.64 \nL 109.397862 224.64 \nL 109.397862 224.64 \nL 45.321307 224.64 \nz\n\" style=\"fill:#1f77b4;\"/>\n   </g>\n   <g id=\"patch_154\">\n    <path clip-path=\"url(#pdb1cad2b41)\" d=\"M 285.608388 224.64 \nL 349.684943 224.64 \nL 349.684943 17.554286 \nL 285.608388 17.554286 \nz\n\" style=\"fill:#1f77b4;\"/>\n   </g>\n   <g id=\"patch_155\">\n    <path clip-path=\"url(#pdb1cad2b41)\" d=\"M 45.321307 224.64 \nL 109.397862 224.64 \nL 109.397862 224.64 \nL 45.321307 224.64 \nz\n\" style=\"fill:#1f77b4;\"/>\n   </g>\n   <g id=\"patch_156\">\n    <path clip-path=\"url(#pdb1cad2b41)\" d=\"M 45.321307 224.64 \nL 109.397862 224.64 \nL 109.397862 224.64 \nL 45.321307 224.64 \nz\n\" style=\"fill:#1f77b4;\"/>\n   </g>\n   <g id=\"patch_157\">\n    <path clip-path=\"url(#pdb1cad2b41)\" d=\"M 45.321307 224.64 \nL 109.397862 224.64 \nL 109.397862 224.64 \nL 45.321307 224.64 \nz\n\" style=\"fill:#1f77b4;\"/>\n   </g>\n   <g id=\"patch_158\">\n    <path clip-path=\"url(#pdb1cad2b41)\" d=\"M 45.321307 224.64 \nL 109.397862 224.64 \nL 109.397862 224.64 \nL 45.321307 224.64 \nz\n\" style=\"fill:#1f77b4;\"/>\n   </g>\n   <g id=\"patch_159\">\n    <path clip-path=\"url(#pdb1cad2b41)\" d=\"M 45.321307 224.64 \nL 109.397862 224.64 \nL 109.397862 17.554286 \nL 45.321307 17.554286 \nz\n\" style=\"fill:#1f77b4;\"/>\n   </g>\n   <g id=\"patch_160\">\n    <path clip-path=\"url(#pdb1cad2b41)\" d=\"M 45.321307 224.64 \nL 109.397862 224.64 \nL 109.397862 224.64 \nL 45.321307 224.64 \nz\n\" style=\"fill:#1f77b4;\"/>\n   </g>\n   <g id=\"patch_161\">\n    <path clip-path=\"url(#pdb1cad2b41)\" d=\"M 45.321307 224.64 \nL 109.397862 224.64 \nL 109.397862 224.64 \nL 45.321307 224.64 \nz\n\" style=\"fill:#1f77b4;\"/>\n   </g>\n   <g id=\"patch_162\">\n    <path clip-path=\"url(#pdb1cad2b41)\" d=\"M 45.321307 224.64 \nL 109.397862 224.64 \nL 109.397862 224.64 \nL 45.321307 224.64 \nz\n\" style=\"fill:#1f77b4;\"/>\n   </g>\n   <g id=\"patch_163\">\n    <path clip-path=\"url(#pdb1cad2b41)\" d=\"M 45.321307 224.64 \nL 109.397862 224.64 \nL 109.397862 224.64 \nL 45.321307 224.64 \nz\n\" style=\"fill:#1f77b4;\"/>\n   </g>\n   <g id=\"patch_164\">\n    <path clip-path=\"url(#pdb1cad2b41)\" d=\"M 205.512694 224.64 \nL 269.589249 224.64 \nL 269.589249 17.554286 \nL 205.512694 17.554286 \nz\n\" style=\"fill:#1f77b4;\"/>\n   </g>\n   <g id=\"patch_165\">\n    <path clip-path=\"url(#pdb1cad2b41)\" d=\"M 45.321307 224.64 \nL 109.397862 224.64 \nL 109.397862 224.64 \nL 45.321307 224.64 \nz\n\" style=\"fill:#1f77b4;\"/>\n   </g>\n   <g id=\"patch_166\">\n    <path clip-path=\"url(#pdb1cad2b41)\" d=\"M 45.321307 224.64 \nL 109.397862 224.64 \nL 109.397862 224.64 \nL 45.321307 224.64 \nz\n\" style=\"fill:#1f77b4;\"/>\n   </g>\n   <g id=\"patch_167\">\n    <path clip-path=\"url(#pdb1cad2b41)\" d=\"M 45.321307 224.64 \nL 109.397862 224.64 \nL 109.397862 224.64 \nL 45.321307 224.64 \nz\n\" style=\"fill:#1f77b4;\"/>\n   </g>\n   <g id=\"patch_168\">\n    <path clip-path=\"url(#pdb1cad2b41)\" d=\"M 45.321307 224.64 \nL 109.397862 224.64 \nL 109.397862 17.554286 \nL 45.321307 17.554286 \nz\n\" style=\"fill:#1f77b4;\"/>\n   </g>\n   <g id=\"patch_169\">\n    <path clip-path=\"url(#pdb1cad2b41)\" d=\"M 285.608388 224.64 \nL 349.684943 224.64 \nL 349.684943 17.554286 \nL 285.608388 17.554286 \nz\n\" style=\"fill:#1f77b4;\"/>\n   </g>\n   <g id=\"patch_170\">\n    <path clip-path=\"url(#pdb1cad2b41)\" d=\"M 205.512694 224.64 \nL 269.589249 224.64 \nL 269.589249 224.64 \nL 205.512694 224.64 \nz\n\" style=\"fill:#1f77b4;\"/>\n   </g>\n   <g id=\"patch_171\">\n    <path clip-path=\"url(#pdb1cad2b41)\" d=\"M 45.321307 224.64 \nL 109.397862 224.64 \nL 109.397862 224.64 \nL 45.321307 224.64 \nz\n\" style=\"fill:#1f77b4;\"/>\n   </g>\n   <g id=\"patch_172\">\n    <path clip-path=\"url(#pdb1cad2b41)\" d=\"M 45.321307 224.64 \nL 109.397862 224.64 \nL 109.397862 224.64 \nL 45.321307 224.64 \nz\n\" style=\"fill:#1f77b4;\"/>\n   </g>\n   <g id=\"patch_173\">\n    <path clip-path=\"url(#pdb1cad2b41)\" d=\"M 45.321307 224.64 \nL 109.397862 224.64 \nL 109.397862 224.64 \nL 45.321307 224.64 \nz\n\" style=\"fill:#1f77b4;\"/>\n   </g>\n   <g id=\"patch_174\">\n    <path clip-path=\"url(#pdb1cad2b41)\" d=\"M 45.321307 224.64 \nL 109.397862 224.64 \nL 109.397862 224.64 \nL 45.321307 224.64 \nz\n\" style=\"fill:#1f77b4;\"/>\n   </g>\n   <g id=\"patch_175\">\n    <path clip-path=\"url(#pdb1cad2b41)\" d=\"M 125.417001 224.64 \nL 189.493556 224.64 \nL 189.493556 17.554286 \nL 125.417001 17.554286 \nz\n\" style=\"fill:#1f77b4;\"/>\n   </g>\n   <g id=\"patch_176\">\n    <path clip-path=\"url(#pdb1cad2b41)\" d=\"M 45.321307 224.64 \nL 109.397862 224.64 \nL 109.397862 224.64 \nL 45.321307 224.64 \nz\n\" style=\"fill:#1f77b4;\"/>\n   </g>\n   <g id=\"patch_177\">\n    <path clip-path=\"url(#pdb1cad2b41)\" d=\"M 45.321307 224.64 \nL 109.397862 224.64 \nL 109.397862 224.64 \nL 45.321307 224.64 \nz\n\" style=\"fill:#1f77b4;\"/>\n   </g>\n   <g id=\"patch_178\">\n    <path clip-path=\"url(#pdb1cad2b41)\" d=\"M 45.321307 224.64 \nL 109.397862 224.64 \nL 109.397862 224.64 \nL 45.321307 224.64 \nz\n\" style=\"fill:#1f77b4;\"/>\n   </g>\n   <g id=\"patch_179\">\n    <path clip-path=\"url(#pdb1cad2b41)\" d=\"M 45.321307 224.64 \nL 109.397862 224.64 \nL 109.397862 224.64 \nL 45.321307 224.64 \nz\n\" style=\"fill:#1f77b4;\"/>\n   </g>\n   <g id=\"patch_180\">\n    <path clip-path=\"url(#pdb1cad2b41)\" d=\"M 205.512694 224.64 \nL 269.589249 224.64 \nL 269.589249 224.64 \nL 205.512694 224.64 \nz\n\" style=\"fill:#1f77b4;\"/>\n   </g>\n   <g id=\"patch_181\">\n    <path clip-path=\"url(#pdb1cad2b41)\" d=\"M 45.321307 224.64 \nL 109.397862 224.64 \nL 109.397862 224.64 \nL 45.321307 224.64 \nz\n\" style=\"fill:#1f77b4;\"/>\n   </g>\n   <g id=\"patch_182\">\n    <path clip-path=\"url(#pdb1cad2b41)\" d=\"M 45.321307 224.64 \nL 109.397862 224.64 \nL 109.397862 224.64 \nL 45.321307 224.64 \nz\n\" style=\"fill:#1f77b4;\"/>\n   </g>\n   <g id=\"patch_183\">\n    <path clip-path=\"url(#pdb1cad2b41)\" d=\"M 285.608388 224.64 \nL 349.684943 224.64 \nL 349.684943 224.64 \nL 285.608388 224.64 \nz\n\" style=\"fill:#1f77b4;\"/>\n   </g>\n   <g id=\"patch_184\">\n    <path clip-path=\"url(#pdb1cad2b41)\" d=\"M 45.321307 224.64 \nL 109.397862 224.64 \nL 109.397862 224.64 \nL 45.321307 224.64 \nz\n\" style=\"fill:#1f77b4;\"/>\n   </g>\n   <g id=\"patch_185\">\n    <path clip-path=\"url(#pdb1cad2b41)\" d=\"M 45.321307 224.64 \nL 109.397862 224.64 \nL 109.397862 224.64 \nL 45.321307 224.64 \nz\n\" style=\"fill:#1f77b4;\"/>\n   </g>\n   <g id=\"patch_186\">\n    <path clip-path=\"url(#pdb1cad2b41)\" d=\"M 45.321307 224.64 \nL 109.397862 224.64 \nL 109.397862 17.554286 \nL 45.321307 17.554286 \nz\n\" style=\"fill:#1f77b4;\"/>\n   </g>\n   <g id=\"patch_187\">\n    <path clip-path=\"url(#pdb1cad2b41)\" d=\"M 205.512694 224.64 \nL 269.589249 224.64 \nL 269.589249 17.554286 \nL 205.512694 17.554286 \nz\n\" style=\"fill:#1f77b4;\"/>\n   </g>\n   <g id=\"patch_188\">\n    <path clip-path=\"url(#pdb1cad2b41)\" d=\"M 45.321307 224.64 \nL 109.397862 224.64 \nL 109.397862 224.64 \nL 45.321307 224.64 \nz\n\" style=\"fill:#1f77b4;\"/>\n   </g>\n   <g id=\"patch_189\">\n    <path clip-path=\"url(#pdb1cad2b41)\" d=\"M 205.512694 224.64 \nL 269.589249 224.64 \nL 269.589249 17.554286 \nL 205.512694 17.554286 \nz\n\" style=\"fill:#1f77b4;\"/>\n   </g>\n   <g id=\"patch_190\">\n    <path clip-path=\"url(#pdb1cad2b41)\" d=\"M 45.321307 224.64 \nL 109.397862 224.64 \nL 109.397862 17.554286 \nL 45.321307 17.554286 \nz\n\" style=\"fill:#1f77b4;\"/>\n   </g>\n   <g id=\"patch_191\">\n    <path clip-path=\"url(#pdb1cad2b41)\" d=\"M 45.321307 224.64 \nL 109.397862 224.64 \nL 109.397862 224.64 \nL 45.321307 224.64 \nz\n\" style=\"fill:#1f77b4;\"/>\n   </g>\n   <g id=\"patch_192\">\n    <path clip-path=\"url(#pdb1cad2b41)\" d=\"M 45.321307 224.64 \nL 109.397862 224.64 \nL 109.397862 224.64 \nL 45.321307 224.64 \nz\n\" style=\"fill:#1f77b4;\"/>\n   </g>\n   <g id=\"patch_193\">\n    <path clip-path=\"url(#pdb1cad2b41)\" d=\"M 125.417001 224.64 \nL 189.493556 224.64 \nL 189.493556 17.554286 \nL 125.417001 17.554286 \nz\n\" style=\"fill:#1f77b4;\"/>\n   </g>\n   <g id=\"patch_194\">\n    <path clip-path=\"url(#pdb1cad2b41)\" d=\"M 45.321307 224.64 \nL 109.397862 224.64 \nL 109.397862 224.64 \nL 45.321307 224.64 \nz\n\" style=\"fill:#1f77b4;\"/>\n   </g>\n   <g id=\"patch_195\">\n    <path clip-path=\"url(#pdb1cad2b41)\" d=\"M 45.321307 224.64 \nL 109.397862 224.64 \nL 109.397862 17.554286 \nL 45.321307 17.554286 \nz\n\" style=\"fill:#1f77b4;\"/>\n   </g>\n   <g id=\"patch_196\">\n    <path clip-path=\"url(#pdb1cad2b41)\" d=\"M 45.321307 224.64 \nL 109.397862 224.64 \nL 109.397862 17.554286 \nL 45.321307 17.554286 \nz\n\" style=\"fill:#1f77b4;\"/>\n   </g>\n   <g id=\"patch_197\">\n    <path clip-path=\"url(#pdb1cad2b41)\" d=\"M 205.512694 224.64 \nL 269.589249 224.64 \nL 269.589249 17.554286 \nL 205.512694 17.554286 \nz\n\" style=\"fill:#1f77b4;\"/>\n   </g>\n   <g id=\"patch_198\">\n    <path clip-path=\"url(#pdb1cad2b41)\" d=\"M 285.608388 224.64 \nL 349.684943 224.64 \nL 349.684943 17.554286 \nL 285.608388 17.554286 \nz\n\" style=\"fill:#1f77b4;\"/>\n   </g>\n   <g id=\"patch_199\">\n    <path clip-path=\"url(#pdb1cad2b41)\" d=\"M 45.321307 224.64 \nL 109.397862 224.64 \nL 109.397862 224.64 \nL 45.321307 224.64 \nz\n\" style=\"fill:#1f77b4;\"/>\n   </g>\n   <g id=\"patch_200\">\n    <path clip-path=\"url(#pdb1cad2b41)\" d=\"M 45.321307 224.64 \nL 109.397862 224.64 \nL 109.397862 224.64 \nL 45.321307 224.64 \nz\n\" style=\"fill:#1f77b4;\"/>\n   </g>\n   <g id=\"patch_201\">\n    <path clip-path=\"url(#pdb1cad2b41)\" d=\"M 45.321307 224.64 \nL 109.397862 224.64 \nL 109.397862 17.554286 \nL 45.321307 17.554286 \nz\n\" style=\"fill:#1f77b4;\"/>\n   </g>\n   <g id=\"patch_202\">\n    <path clip-path=\"url(#pdb1cad2b41)\" d=\"M 125.417001 224.64 \nL 189.493556 224.64 \nL 189.493556 224.64 \nL 125.417001 224.64 \nz\n\" style=\"fill:#1f77b4;\"/>\n   </g>\n   <g id=\"patch_203\">\n    <path clip-path=\"url(#pdb1cad2b41)\" d=\"M 45.321307 224.64 \nL 109.397862 224.64 \nL 109.397862 224.64 \nL 45.321307 224.64 \nz\n\" style=\"fill:#1f77b4;\"/>\n   </g>\n   <g id=\"patch_204\">\n    <path clip-path=\"url(#pdb1cad2b41)\" d=\"M 45.321307 224.64 \nL 109.397862 224.64 \nL 109.397862 224.64 \nL 45.321307 224.64 \nz\n\" style=\"fill:#1f77b4;\"/>\n   </g>\n   <g id=\"patch_205\">\n    <path clip-path=\"url(#pdb1cad2b41)\" d=\"M 45.321307 224.64 \nL 109.397862 224.64 \nL 109.397862 224.64 \nL 45.321307 224.64 \nz\n\" style=\"fill:#1f77b4;\"/>\n   </g>\n   <g id=\"patch_206\">\n    <path clip-path=\"url(#pdb1cad2b41)\" d=\"M 45.321307 224.64 \nL 109.397862 224.64 \nL 109.397862 224.64 \nL 45.321307 224.64 \nz\n\" style=\"fill:#1f77b4;\"/>\n   </g>\n   <g id=\"patch_207\">\n    <path clip-path=\"url(#pdb1cad2b41)\" d=\"M 45.321307 224.64 \nL 109.397862 224.64 \nL 109.397862 17.554286 \nL 45.321307 17.554286 \nz\n\" style=\"fill:#1f77b4;\"/>\n   </g>\n   <g id=\"patch_208\">\n    <path clip-path=\"url(#pdb1cad2b41)\" d=\"M 125.417001 224.64 \nL 189.493556 224.64 \nL 189.493556 224.64 \nL 125.417001 224.64 \nz\n\" style=\"fill:#1f77b4;\"/>\n   </g>\n   <g id=\"patch_209\">\n    <path clip-path=\"url(#pdb1cad2b41)\" d=\"M 45.321307 224.64 \nL 109.397862 224.64 \nL 109.397862 224.64 \nL 45.321307 224.64 \nz\n\" style=\"fill:#1f77b4;\"/>\n   </g>\n   <g id=\"patch_210\">\n    <path clip-path=\"url(#pdb1cad2b41)\" d=\"M 45.321307 224.64 \nL 109.397862 224.64 \nL 109.397862 17.554286 \nL 45.321307 17.554286 \nz\n\" style=\"fill:#1f77b4;\"/>\n   </g>\n   <g id=\"patch_211\">\n    <path clip-path=\"url(#pdb1cad2b41)\" d=\"M 45.321307 224.64 \nL 109.397862 224.64 \nL 109.397862 17.554286 \nL 45.321307 17.554286 \nz\n\" style=\"fill:#1f77b4;\"/>\n   </g>\n   <g id=\"patch_212\">\n    <path clip-path=\"url(#pdb1cad2b41)\" d=\"M 45.321307 224.64 \nL 109.397862 224.64 \nL 109.397862 17.554286 \nL 45.321307 17.554286 \nz\n\" style=\"fill:#1f77b4;\"/>\n   </g>\n   <g id=\"patch_213\">\n    <path clip-path=\"url(#pdb1cad2b41)\" d=\"M 45.321307 224.64 \nL 109.397862 224.64 \nL 109.397862 224.64 \nL 45.321307 224.64 \nz\n\" style=\"fill:#1f77b4;\"/>\n   </g>\n   <g id=\"patch_214\">\n    <path clip-path=\"url(#pdb1cad2b41)\" d=\"M 205.512694 224.64 \nL 269.589249 224.64 \nL 269.589249 17.554286 \nL 205.512694 17.554286 \nz\n\" style=\"fill:#1f77b4;\"/>\n   </g>\n   <g id=\"patch_215\">\n    <path clip-path=\"url(#pdb1cad2b41)\" d=\"M 45.321307 224.64 \nL 109.397862 224.64 \nL 109.397862 224.64 \nL 45.321307 224.64 \nz\n\" style=\"fill:#1f77b4;\"/>\n   </g>\n   <g id=\"patch_216\">\n    <path clip-path=\"url(#pdb1cad2b41)\" d=\"M 45.321307 224.64 \nL 109.397862 224.64 \nL 109.397862 224.64 \nL 45.321307 224.64 \nz\n\" style=\"fill:#1f77b4;\"/>\n   </g>\n   <g id=\"patch_217\">\n    <path clip-path=\"url(#pdb1cad2b41)\" d=\"M 45.321307 224.64 \nL 109.397862 224.64 \nL 109.397862 224.64 \nL 45.321307 224.64 \nz\n\" style=\"fill:#1f77b4;\"/>\n   </g>\n   <g id=\"patch_218\">\n    <path clip-path=\"url(#pdb1cad2b41)\" d=\"M 285.608388 224.64 \nL 349.684943 224.64 \nL 349.684943 17.554286 \nL 285.608388 17.554286 \nz\n\" style=\"fill:#1f77b4;\"/>\n   </g>\n   <g id=\"patch_219\">\n    <path clip-path=\"url(#pdb1cad2b41)\" d=\"M 125.417001 224.64 \nL 189.493556 224.64 \nL 189.493556 17.554286 \nL 125.417001 17.554286 \nz\n\" style=\"fill:#1f77b4;\"/>\n   </g>\n   <g id=\"patch_220\">\n    <path clip-path=\"url(#pdb1cad2b41)\" d=\"M 45.321307 224.64 \nL 109.397862 224.64 \nL 109.397862 224.64 \nL 45.321307 224.64 \nz\n\" style=\"fill:#1f77b4;\"/>\n   </g>\n   <g id=\"patch_221\">\n    <path clip-path=\"url(#pdb1cad2b41)\" d=\"M 285.608388 224.64 \nL 349.684943 224.64 \nL 349.684943 17.554286 \nL 285.608388 17.554286 \nz\n\" style=\"fill:#1f77b4;\"/>\n   </g>\n   <g id=\"patch_222\">\n    <path clip-path=\"url(#pdb1cad2b41)\" d=\"M 45.321307 224.64 \nL 109.397862 224.64 \nL 109.397862 224.64 \nL 45.321307 224.64 \nz\n\" style=\"fill:#1f77b4;\"/>\n   </g>\n   <g id=\"patch_223\">\n    <path clip-path=\"url(#pdb1cad2b41)\" d=\"M 45.321307 224.64 \nL 109.397862 224.64 \nL 109.397862 17.554286 \nL 45.321307 17.554286 \nz\n\" style=\"fill:#1f77b4;\"/>\n   </g>\n   <g id=\"patch_224\">\n    <path clip-path=\"url(#pdb1cad2b41)\" d=\"M 45.321307 224.64 \nL 109.397862 224.64 \nL 109.397862 224.64 \nL 45.321307 224.64 \nz\n\" style=\"fill:#1f77b4;\"/>\n   </g>\n   <g id=\"patch_225\">\n    <path clip-path=\"url(#pdb1cad2b41)\" d=\"M 45.321307 224.64 \nL 109.397862 224.64 \nL 109.397862 224.64 \nL 45.321307 224.64 \nz\n\" style=\"fill:#1f77b4;\"/>\n   </g>\n   <g id=\"patch_226\">\n    <path clip-path=\"url(#pdb1cad2b41)\" d=\"M 45.321307 224.64 \nL 109.397862 224.64 \nL 109.397862 224.64 \nL 45.321307 224.64 \nz\n\" style=\"fill:#1f77b4;\"/>\n   </g>\n   <g id=\"patch_227\">\n    <path clip-path=\"url(#pdb1cad2b41)\" d=\"M 45.321307 224.64 \nL 109.397862 224.64 \nL 109.397862 17.554286 \nL 45.321307 17.554286 \nz\n\" style=\"fill:#1f77b4;\"/>\n   </g>\n   <g id=\"patch_228\">\n    <path clip-path=\"url(#pdb1cad2b41)\" d=\"M 45.321307 224.64 \nL 109.397862 224.64 \nL 109.397862 224.64 \nL 45.321307 224.64 \nz\n\" style=\"fill:#1f77b4;\"/>\n   </g>\n   <g id=\"patch_229\">\n    <path clip-path=\"url(#pdb1cad2b41)\" d=\"M 45.321307 224.64 \nL 109.397862 224.64 \nL 109.397862 17.554286 \nL 45.321307 17.554286 \nz\n\" style=\"fill:#1f77b4;\"/>\n   </g>\n   <g id=\"patch_230\">\n    <path clip-path=\"url(#pdb1cad2b41)\" d=\"M 45.321307 224.64 \nL 109.397862 224.64 \nL 109.397862 224.64 \nL 45.321307 224.64 \nz\n\" style=\"fill:#1f77b4;\"/>\n   </g>\n   <g id=\"patch_231\">\n    <path clip-path=\"url(#pdb1cad2b41)\" d=\"M 45.321307 224.64 \nL 109.397862 224.64 \nL 109.397862 224.64 \nL 45.321307 224.64 \nz\n\" style=\"fill:#1f77b4;\"/>\n   </g>\n   <g id=\"patch_232\">\n    <path clip-path=\"url(#pdb1cad2b41)\" d=\"M 205.512694 224.64 \nL 269.589249 224.64 \nL 269.589249 224.64 \nL 205.512694 224.64 \nz\n\" style=\"fill:#1f77b4;\"/>\n   </g>\n   <g id=\"patch_233\">\n    <path clip-path=\"url(#pdb1cad2b41)\" d=\"M 285.608388 224.64 \nL 349.684943 224.64 \nL 349.684943 17.554286 \nL 285.608388 17.554286 \nz\n\" style=\"fill:#1f77b4;\"/>\n   </g>\n   <g id=\"patch_234\">\n    <path clip-path=\"url(#pdb1cad2b41)\" d=\"M 45.321307 224.64 \nL 109.397862 224.64 \nL 109.397862 224.64 \nL 45.321307 224.64 \nz\n\" style=\"fill:#1f77b4;\"/>\n   </g>\n   <g id=\"patch_235\">\n    <path clip-path=\"url(#pdb1cad2b41)\" d=\"M 45.321307 224.64 \nL 109.397862 224.64 \nL 109.397862 224.64 \nL 45.321307 224.64 \nz\n\" style=\"fill:#1f77b4;\"/>\n   </g>\n   <g id=\"patch_236\">\n    <path clip-path=\"url(#pdb1cad2b41)\" d=\"M 285.608388 224.64 \nL 349.684943 224.64 \nL 349.684943 17.554286 \nL 285.608388 17.554286 \nz\n\" style=\"fill:#1f77b4;\"/>\n   </g>\n   <g id=\"patch_237\">\n    <path clip-path=\"url(#pdb1cad2b41)\" d=\"M 45.321307 224.64 \nL 109.397862 224.64 \nL 109.397862 224.64 \nL 45.321307 224.64 \nz\n\" style=\"fill:#1f77b4;\"/>\n   </g>\n   <g id=\"patch_238\">\n    <path clip-path=\"url(#pdb1cad2b41)\" d=\"M 45.321307 224.64 \nL 109.397862 224.64 \nL 109.397862 224.64 \nL 45.321307 224.64 \nz\n\" style=\"fill:#1f77b4;\"/>\n   </g>\n   <g id=\"patch_239\">\n    <path clip-path=\"url(#pdb1cad2b41)\" d=\"M 45.321307 224.64 \nL 109.397862 224.64 \nL 109.397862 224.64 \nL 45.321307 224.64 \nz\n\" style=\"fill:#1f77b4;\"/>\n   </g>\n   <g id=\"patch_240\">\n    <path clip-path=\"url(#pdb1cad2b41)\" d=\"M 205.512694 224.64 \nL 269.589249 224.64 \nL 269.589249 17.554286 \nL 205.512694 17.554286 \nz\n\" style=\"fill:#1f77b4;\"/>\n   </g>\n   <g id=\"patch_241\">\n    <path clip-path=\"url(#pdb1cad2b41)\" d=\"M 45.321307 224.64 \nL 109.397862 224.64 \nL 109.397862 224.64 \nL 45.321307 224.64 \nz\n\" style=\"fill:#1f77b4;\"/>\n   </g>\n   <g id=\"patch_242\">\n    <path clip-path=\"url(#pdb1cad2b41)\" d=\"M 45.321307 224.64 \nL 109.397862 224.64 \nL 109.397862 224.64 \nL 45.321307 224.64 \nz\n\" style=\"fill:#1f77b4;\"/>\n   </g>\n   <g id=\"patch_243\">\n    <path clip-path=\"url(#pdb1cad2b41)\" d=\"M 205.512694 224.64 \nL 269.589249 224.64 \nL 269.589249 224.64 \nL 205.512694 224.64 \nz\n\" style=\"fill:#1f77b4;\"/>\n   </g>\n   <g id=\"patch_244\">\n    <path clip-path=\"url(#pdb1cad2b41)\" d=\"M 205.512694 224.64 \nL 269.589249 224.64 \nL 269.589249 17.554286 \nL 205.512694 17.554286 \nz\n\" style=\"fill:#1f77b4;\"/>\n   </g>\n   <g id=\"patch_245\">\n    <path clip-path=\"url(#pdb1cad2b41)\" d=\"M 45.321307 224.64 \nL 109.397862 224.64 \nL 109.397862 224.64 \nL 45.321307 224.64 \nz\n\" style=\"fill:#1f77b4;\"/>\n   </g>\n   <g id=\"patch_246\">\n    <path clip-path=\"url(#pdb1cad2b41)\" d=\"M 45.321307 224.64 \nL 109.397862 224.64 \nL 109.397862 224.64 \nL 45.321307 224.64 \nz\n\" style=\"fill:#1f77b4;\"/>\n   </g>\n   <g id=\"patch_247\">\n    <path clip-path=\"url(#pdb1cad2b41)\" d=\"M 45.321307 224.64 \nL 109.397862 224.64 \nL 109.397862 224.64 \nL 45.321307 224.64 \nz\n\" style=\"fill:#1f77b4;\"/>\n   </g>\n   <g id=\"patch_248\">\n    <path clip-path=\"url(#pdb1cad2b41)\" d=\"M 45.321307 224.64 \nL 109.397862 224.64 \nL 109.397862 224.64 \nL 45.321307 224.64 \nz\n\" style=\"fill:#1f77b4;\"/>\n   </g>\n   <g id=\"patch_249\">\n    <path clip-path=\"url(#pdb1cad2b41)\" d=\"M 45.321307 224.64 \nL 109.397862 224.64 \nL 109.397862 224.64 \nL 45.321307 224.64 \nz\n\" style=\"fill:#1f77b4;\"/>\n   </g>\n   <g id=\"patch_250\">\n    <path clip-path=\"url(#pdb1cad2b41)\" d=\"M 205.512694 224.64 \nL 269.589249 224.64 \nL 269.589249 17.554286 \nL 205.512694 17.554286 \nz\n\" style=\"fill:#1f77b4;\"/>\n   </g>\n   <g id=\"patch_251\">\n    <path clip-path=\"url(#pdb1cad2b41)\" d=\"M 45.321307 224.64 \nL 109.397862 224.64 \nL 109.397862 17.554286 \nL 45.321307 17.554286 \nz\n\" style=\"fill:#1f77b4;\"/>\n   </g>\n   <g id=\"patch_252\">\n    <path clip-path=\"url(#pdb1cad2b41)\" d=\"M 45.321307 224.64 \nL 109.397862 224.64 \nL 109.397862 224.64 \nL 45.321307 224.64 \nz\n\" style=\"fill:#1f77b4;\"/>\n   </g>\n   <g id=\"patch_253\">\n    <path clip-path=\"url(#pdb1cad2b41)\" d=\"M 45.321307 224.64 \nL 109.397862 224.64 \nL 109.397862 224.64 \nL 45.321307 224.64 \nz\n\" style=\"fill:#1f77b4;\"/>\n   </g>\n   <g id=\"patch_254\">\n    <path clip-path=\"url(#pdb1cad2b41)\" d=\"M 125.417001 224.64 \nL 189.493556 224.64 \nL 189.493556 224.64 \nL 125.417001 224.64 \nz\n\" style=\"fill:#1f77b4;\"/>\n   </g>\n   <g id=\"patch_255\">\n    <path clip-path=\"url(#pdb1cad2b41)\" d=\"M 45.321307 224.64 \nL 109.397862 224.64 \nL 109.397862 224.64 \nL 45.321307 224.64 \nz\n\" style=\"fill:#1f77b4;\"/>\n   </g>\n   <g id=\"patch_256\">\n    <path clip-path=\"url(#pdb1cad2b41)\" d=\"M 45.321307 224.64 \nL 109.397862 224.64 \nL 109.397862 224.64 \nL 45.321307 224.64 \nz\n\" style=\"fill:#1f77b4;\"/>\n   </g>\n   <g id=\"patch_257\">\n    <path clip-path=\"url(#pdb1cad2b41)\" d=\"M 205.512694 224.64 \nL 269.589249 224.64 \nL 269.589249 224.64 \nL 205.512694 224.64 \nz\n\" style=\"fill:#1f77b4;\"/>\n   </g>\n   <g id=\"patch_258\">\n    <path clip-path=\"url(#pdb1cad2b41)\" d=\"M 205.512694 224.64 \nL 269.589249 224.64 \nL 269.589249 17.554286 \nL 205.512694 17.554286 \nz\n\" style=\"fill:#1f77b4;\"/>\n   </g>\n   <g id=\"patch_259\">\n    <path clip-path=\"url(#pdb1cad2b41)\" d=\"M 285.608388 224.64 \nL 349.684943 224.64 \nL 349.684943 17.554286 \nL 285.608388 17.554286 \nz\n\" style=\"fill:#1f77b4;\"/>\n   </g>\n   <g id=\"patch_260\">\n    <path clip-path=\"url(#pdb1cad2b41)\" d=\"M 285.608388 224.64 \nL 349.684943 224.64 \nL 349.684943 17.554286 \nL 285.608388 17.554286 \nz\n\" style=\"fill:#1f77b4;\"/>\n   </g>\n   <g id=\"patch_261\">\n    <path clip-path=\"url(#pdb1cad2b41)\" d=\"M 285.608388 224.64 \nL 349.684943 224.64 \nL 349.684943 17.554286 \nL 285.608388 17.554286 \nz\n\" style=\"fill:#1f77b4;\"/>\n   </g>\n   <g id=\"patch_262\">\n    <path clip-path=\"url(#pdb1cad2b41)\" d=\"M 205.512694 224.64 \nL 269.589249 224.64 \nL 269.589249 17.554286 \nL 205.512694 17.554286 \nz\n\" style=\"fill:#1f77b4;\"/>\n   </g>\n   <g id=\"patch_263\">\n    <path clip-path=\"url(#pdb1cad2b41)\" d=\"M 45.321307 224.64 \nL 109.397862 224.64 \nL 109.397862 224.64 \nL 45.321307 224.64 \nz\n\" style=\"fill:#1f77b4;\"/>\n   </g>\n   <g id=\"patch_264\">\n    <path clip-path=\"url(#pdb1cad2b41)\" d=\"M 45.321307 224.64 \nL 109.397862 224.64 \nL 109.397862 17.554286 \nL 45.321307 17.554286 \nz\n\" style=\"fill:#1f77b4;\"/>\n   </g>\n   <g id=\"patch_265\">\n    <path clip-path=\"url(#pdb1cad2b41)\" d=\"M 45.321307 224.64 \nL 109.397862 224.64 \nL 109.397862 224.64 \nL 45.321307 224.64 \nz\n\" style=\"fill:#1f77b4;\"/>\n   </g>\n   <g id=\"patch_266\">\n    <path clip-path=\"url(#pdb1cad2b41)\" d=\"M 45.321307 224.64 \nL 109.397862 224.64 \nL 109.397862 224.64 \nL 45.321307 224.64 \nz\n\" style=\"fill:#1f77b4;\"/>\n   </g>\n   <g id=\"patch_267\">\n    <path clip-path=\"url(#pdb1cad2b41)\" d=\"M 45.321307 224.64 \nL 109.397862 224.64 \nL 109.397862 224.64 \nL 45.321307 224.64 \nz\n\" style=\"fill:#1f77b4;\"/>\n   </g>\n   <g id=\"patch_268\">\n    <path clip-path=\"url(#pdb1cad2b41)\" d=\"M 45.321307 224.64 \nL 109.397862 224.64 \nL 109.397862 224.64 \nL 45.321307 224.64 \nz\n\" style=\"fill:#1f77b4;\"/>\n   </g>\n   <g id=\"patch_269\">\n    <path clip-path=\"url(#pdb1cad2b41)\" d=\"M 45.321307 224.64 \nL 109.397862 224.64 \nL 109.397862 224.64 \nL 45.321307 224.64 \nz\n\" style=\"fill:#1f77b4;\"/>\n   </g>\n   <g id=\"patch_270\">\n    <path clip-path=\"url(#pdb1cad2b41)\" d=\"M 45.321307 224.64 \nL 109.397862 224.64 \nL 109.397862 17.554286 \nL 45.321307 17.554286 \nz\n\" style=\"fill:#1f77b4;\"/>\n   </g>\n   <g id=\"patch_271\">\n    <path clip-path=\"url(#pdb1cad2b41)\" d=\"M 285.608388 224.64 \nL 349.684943 224.64 \nL 349.684943 17.554286 \nL 285.608388 17.554286 \nz\n\" style=\"fill:#1f77b4;\"/>\n   </g>\n   <g id=\"patch_272\">\n    <path clip-path=\"url(#pdb1cad2b41)\" d=\"M 285.608388 224.64 \nL 349.684943 224.64 \nL 349.684943 17.554286 \nL 285.608388 17.554286 \nz\n\" style=\"fill:#1f77b4;\"/>\n   </g>\n   <g id=\"patch_273\">\n    <path clip-path=\"url(#pdb1cad2b41)\" d=\"M 45.321307 224.64 \nL 109.397862 224.64 \nL 109.397862 224.64 \nL 45.321307 224.64 \nz\n\" style=\"fill:#1f77b4;\"/>\n   </g>\n   <g id=\"patch_274\">\n    <path clip-path=\"url(#pdb1cad2b41)\" d=\"M 45.321307 224.64 \nL 109.397862 224.64 \nL 109.397862 17.554286 \nL 45.321307 17.554286 \nz\n\" style=\"fill:#1f77b4;\"/>\n   </g>\n   <g id=\"patch_275\">\n    <path clip-path=\"url(#pdb1cad2b41)\" d=\"M 205.512694 224.64 \nL 269.589249 224.64 \nL 269.589249 17.554286 \nL 205.512694 17.554286 \nz\n\" style=\"fill:#1f77b4;\"/>\n   </g>\n   <g id=\"patch_276\">\n    <path clip-path=\"url(#pdb1cad2b41)\" d=\"M 45.321307 224.64 \nL 109.397862 224.64 \nL 109.397862 224.64 \nL 45.321307 224.64 \nz\n\" style=\"fill:#1f77b4;\"/>\n   </g>\n   <g id=\"patch_277\">\n    <path clip-path=\"url(#pdb1cad2b41)\" d=\"M 45.321307 224.64 \nL 109.397862 224.64 \nL 109.397862 17.554286 \nL 45.321307 17.554286 \nz\n\" style=\"fill:#1f77b4;\"/>\n   </g>\n   <g id=\"patch_278\">\n    <path clip-path=\"url(#pdb1cad2b41)\" d=\"M 285.608388 224.64 \nL 349.684943 224.64 \nL 349.684943 17.554286 \nL 285.608388 17.554286 \nz\n\" style=\"fill:#1f77b4;\"/>\n   </g>\n   <g id=\"patch_279\">\n    <path clip-path=\"url(#pdb1cad2b41)\" d=\"M 45.321307 224.64 \nL 109.397862 224.64 \nL 109.397862 224.64 \nL 45.321307 224.64 \nz\n\" style=\"fill:#1f77b4;\"/>\n   </g>\n   <g id=\"patch_280\">\n    <path clip-path=\"url(#pdb1cad2b41)\" d=\"M 45.321307 224.64 \nL 109.397862 224.64 \nL 109.397862 224.64 \nL 45.321307 224.64 \nz\n\" style=\"fill:#1f77b4;\"/>\n   </g>\n   <g id=\"patch_281\">\n    <path clip-path=\"url(#pdb1cad2b41)\" d=\"M 45.321307 224.64 \nL 109.397862 224.64 \nL 109.397862 224.64 \nL 45.321307 224.64 \nz\n\" style=\"fill:#1f77b4;\"/>\n   </g>\n   <g id=\"patch_282\">\n    <path clip-path=\"url(#pdb1cad2b41)\" d=\"M 205.512694 224.64 \nL 269.589249 224.64 \nL 269.589249 17.554286 \nL 205.512694 17.554286 \nz\n\" style=\"fill:#1f77b4;\"/>\n   </g>\n   <g id=\"patch_283\">\n    <path clip-path=\"url(#pdb1cad2b41)\" d=\"M 45.321307 224.64 \nL 109.397862 224.64 \nL 109.397862 224.64 \nL 45.321307 224.64 \nz\n\" style=\"fill:#1f77b4;\"/>\n   </g>\n   <g id=\"patch_284\">\n    <path clip-path=\"url(#pdb1cad2b41)\" d=\"M 45.321307 224.64 \nL 109.397862 224.64 \nL 109.397862 224.64 \nL 45.321307 224.64 \nz\n\" style=\"fill:#1f77b4;\"/>\n   </g>\n   <g id=\"patch_285\">\n    <path clip-path=\"url(#pdb1cad2b41)\" d=\"M 45.321307 224.64 \nL 109.397862 224.64 \nL 109.397862 224.64 \nL 45.321307 224.64 \nz\n\" style=\"fill:#1f77b4;\"/>\n   </g>\n   <g id=\"patch_286\">\n    <path clip-path=\"url(#pdb1cad2b41)\" d=\"M 45.321307 224.64 \nL 109.397862 224.64 \nL 109.397862 17.554286 \nL 45.321307 17.554286 \nz\n\" style=\"fill:#1f77b4;\"/>\n   </g>\n   <g id=\"patch_287\">\n    <path clip-path=\"url(#pdb1cad2b41)\" d=\"M 45.321307 224.64 \nL 109.397862 224.64 \nL 109.397862 224.64 \nL 45.321307 224.64 \nz\n\" style=\"fill:#1f77b4;\"/>\n   </g>\n   <g id=\"patch_288\">\n    <path clip-path=\"url(#pdb1cad2b41)\" d=\"M 45.321307 224.64 \nL 109.397862 224.64 \nL 109.397862 224.64 \nL 45.321307 224.64 \nz\n\" style=\"fill:#1f77b4;\"/>\n   </g>\n   <g id=\"patch_289\">\n    <path clip-path=\"url(#pdb1cad2b41)\" d=\"M 45.321307 224.64 \nL 109.397862 224.64 \nL 109.397862 17.554286 \nL 45.321307 17.554286 \nz\n\" style=\"fill:#1f77b4;\"/>\n   </g>\n   <g id=\"patch_290\">\n    <path clip-path=\"url(#pdb1cad2b41)\" d=\"M 45.321307 224.64 \nL 109.397862 224.64 \nL 109.397862 224.64 \nL 45.321307 224.64 \nz\n\" style=\"fill:#1f77b4;\"/>\n   </g>\n   <g id=\"patch_291\">\n    <path clip-path=\"url(#pdb1cad2b41)\" d=\"M 45.321307 224.64 \nL 109.397862 224.64 \nL 109.397862 17.554286 \nL 45.321307 17.554286 \nz\n\" style=\"fill:#1f77b4;\"/>\n   </g>\n   <g id=\"patch_292\">\n    <path clip-path=\"url(#pdb1cad2b41)\" d=\"M 45.321307 224.64 \nL 109.397862 224.64 \nL 109.397862 17.554286 \nL 45.321307 17.554286 \nz\n\" style=\"fill:#1f77b4;\"/>\n   </g>\n   <g id=\"patch_293\">\n    <path clip-path=\"url(#pdb1cad2b41)\" d=\"M 285.608388 224.64 \nL 349.684943 224.64 \nL 349.684943 17.554286 \nL 285.608388 17.554286 \nz\n\" style=\"fill:#1f77b4;\"/>\n   </g>\n   <g id=\"patch_294\">\n    <path clip-path=\"url(#pdb1cad2b41)\" d=\"M 285.608388 224.64 \nL 349.684943 224.64 \nL 349.684943 17.554286 \nL 285.608388 17.554286 \nz\n\" style=\"fill:#1f77b4;\"/>\n   </g>\n   <g id=\"patch_295\">\n    <path clip-path=\"url(#pdb1cad2b41)\" d=\"M 45.321307 224.64 \nL 109.397862 224.64 \nL 109.397862 224.64 \nL 45.321307 224.64 \nz\n\" style=\"fill:#1f77b4;\"/>\n   </g>\n   <g id=\"patch_296\">\n    <path clip-path=\"url(#pdb1cad2b41)\" d=\"M 125.417001 224.64 \nL 189.493556 224.64 \nL 189.493556 224.64 \nL 125.417001 224.64 \nz\n\" style=\"fill:#1f77b4;\"/>\n   </g>\n   <g id=\"patch_297\">\n    <path clip-path=\"url(#pdb1cad2b41)\" d=\"M 45.321307 224.64 \nL 109.397862 224.64 \nL 109.397862 224.64 \nL 45.321307 224.64 \nz\n\" style=\"fill:#1f77b4;\"/>\n   </g>\n   <g id=\"patch_298\">\n    <path clip-path=\"url(#pdb1cad2b41)\" d=\"M 45.321307 224.64 \nL 109.397862 224.64 \nL 109.397862 224.64 \nL 45.321307 224.64 \nz\n\" style=\"fill:#1f77b4;\"/>\n   </g>\n   <g id=\"patch_299\">\n    <path clip-path=\"url(#pdb1cad2b41)\" d=\"M 45.321307 224.64 \nL 109.397862 224.64 \nL 109.397862 224.64 \nL 45.321307 224.64 \nz\n\" style=\"fill:#1f77b4;\"/>\n   </g>\n   <g id=\"patch_300\">\n    <path clip-path=\"url(#pdb1cad2b41)\" d=\"M 285.608388 224.64 \nL 349.684943 224.64 \nL 349.684943 224.64 \nL 285.608388 224.64 \nz\n\" style=\"fill:#1f77b4;\"/>\n   </g>\n   <g id=\"patch_301\">\n    <path clip-path=\"url(#pdb1cad2b41)\" d=\"M 45.321307 224.64 \nL 109.397862 224.64 \nL 109.397862 17.554286 \nL 45.321307 17.554286 \nz\n\" style=\"fill:#1f77b4;\"/>\n   </g>\n   <g id=\"patch_302\">\n    <path clip-path=\"url(#pdb1cad2b41)\" d=\"M 285.608388 224.64 \nL 349.684943 224.64 \nL 349.684943 17.554286 \nL 285.608388 17.554286 \nz\n\" style=\"fill:#1f77b4;\"/>\n   </g>\n   <g id=\"patch_303\">\n    <path clip-path=\"url(#pdb1cad2b41)\" d=\"M 45.321307 224.64 \nL 109.397862 224.64 \nL 109.397862 17.554286 \nL 45.321307 17.554286 \nz\n\" style=\"fill:#1f77b4;\"/>\n   </g>\n   <g id=\"patch_304\">\n    <path clip-path=\"url(#pdb1cad2b41)\" d=\"M 45.321307 224.64 \nL 109.397862 224.64 \nL 109.397862 17.554286 \nL 45.321307 17.554286 \nz\n\" style=\"fill:#1f77b4;\"/>\n   </g>\n   <g id=\"patch_305\">\n    <path clip-path=\"url(#pdb1cad2b41)\" d=\"M 45.321307 224.64 \nL 109.397862 224.64 \nL 109.397862 224.64 \nL 45.321307 224.64 \nz\n\" style=\"fill:#1f77b4;\"/>\n   </g>\n   <g id=\"patch_306\">\n    <path clip-path=\"url(#pdb1cad2b41)\" d=\"M 125.417001 224.64 \nL 189.493556 224.64 \nL 189.493556 17.554286 \nL 125.417001 17.554286 \nz\n\" style=\"fill:#1f77b4;\"/>\n   </g>\n   <g id=\"patch_307\">\n    <path clip-path=\"url(#pdb1cad2b41)\" d=\"M 45.321307 224.64 \nL 109.397862 224.64 \nL 109.397862 224.64 \nL 45.321307 224.64 \nz\n\" style=\"fill:#1f77b4;\"/>\n   </g>\n   <g id=\"patch_308\">\n    <path clip-path=\"url(#pdb1cad2b41)\" d=\"M 45.321307 224.64 \nL 109.397862 224.64 \nL 109.397862 17.554286 \nL 45.321307 17.554286 \nz\n\" style=\"fill:#1f77b4;\"/>\n   </g>\n   <g id=\"patch_309\">\n    <path clip-path=\"url(#pdb1cad2b41)\" d=\"M 285.608388 224.64 \nL 349.684943 224.64 \nL 349.684943 17.554286 \nL 285.608388 17.554286 \nz\n\" style=\"fill:#1f77b4;\"/>\n   </g>\n   <g id=\"patch_310\">\n    <path clip-path=\"url(#pdb1cad2b41)\" d=\"M 285.608388 224.64 \nL 349.684943 224.64 \nL 349.684943 17.554286 \nL 285.608388 17.554286 \nz\n\" style=\"fill:#1f77b4;\"/>\n   </g>\n   <g id=\"patch_311\">\n    <path clip-path=\"url(#pdb1cad2b41)\" d=\"M 45.321307 224.64 \nL 109.397862 224.64 \nL 109.397862 224.64 \nL 45.321307 224.64 \nz\n\" style=\"fill:#1f77b4;\"/>\n   </g>\n   <g id=\"patch_312\">\n    <path clip-path=\"url(#pdb1cad2b41)\" d=\"M 285.608388 224.64 \nL 349.684943 224.64 \nL 349.684943 17.554286 \nL 285.608388 17.554286 \nz\n\" style=\"fill:#1f77b4;\"/>\n   </g>\n   <g id=\"patch_313\">\n    <path clip-path=\"url(#pdb1cad2b41)\" d=\"M 285.608388 224.64 \nL 349.684943 224.64 \nL 349.684943 17.554286 \nL 285.608388 17.554286 \nz\n\" style=\"fill:#1f77b4;\"/>\n   </g>\n   <g id=\"patch_314\">\n    <path clip-path=\"url(#pdb1cad2b41)\" d=\"M 285.608388 224.64 \nL 349.684943 224.64 \nL 349.684943 17.554286 \nL 285.608388 17.554286 \nz\n\" style=\"fill:#1f77b4;\"/>\n   </g>\n   <g id=\"patch_315\">\n    <path clip-path=\"url(#pdb1cad2b41)\" d=\"M 205.512694 224.64 \nL 269.589249 224.64 \nL 269.589249 224.64 \nL 205.512694 224.64 \nz\n\" style=\"fill:#1f77b4;\"/>\n   </g>\n   <g id=\"patch_316\">\n    <path clip-path=\"url(#pdb1cad2b41)\" d=\"M 45.321307 224.64 \nL 109.397862 224.64 \nL 109.397862 224.64 \nL 45.321307 224.64 \nz\n\" style=\"fill:#1f77b4;\"/>\n   </g>\n   <g id=\"patch_317\">\n    <path clip-path=\"url(#pdb1cad2b41)\" d=\"M 45.321307 224.64 \nL 109.397862 224.64 \nL 109.397862 224.64 \nL 45.321307 224.64 \nz\n\" style=\"fill:#1f77b4;\"/>\n   </g>\n   <g id=\"patch_318\">\n    <path clip-path=\"url(#pdb1cad2b41)\" d=\"M 45.321307 224.64 \nL 109.397862 224.64 \nL 109.397862 17.554286 \nL 45.321307 17.554286 \nz\n\" style=\"fill:#1f77b4;\"/>\n   </g>\n   <g id=\"patch_319\">\n    <path clip-path=\"url(#pdb1cad2b41)\" d=\"M 205.512694 224.64 \nL 269.589249 224.64 \nL 269.589249 17.554286 \nL 205.512694 17.554286 \nz\n\" style=\"fill:#1f77b4;\"/>\n   </g>\n   <g id=\"patch_320\">\n    <path clip-path=\"url(#pdb1cad2b41)\" d=\"M 45.321307 224.64 \nL 109.397862 224.64 \nL 109.397862 224.64 \nL 45.321307 224.64 \nz\n\" style=\"fill:#1f77b4;\"/>\n   </g>\n   <g id=\"patch_321\">\n    <path clip-path=\"url(#pdb1cad2b41)\" d=\"M 285.608388 224.64 \nL 349.684943 224.64 \nL 349.684943 17.554286 \nL 285.608388 17.554286 \nz\n\" style=\"fill:#1f77b4;\"/>\n   </g>\n   <g id=\"patch_322\">\n    <path clip-path=\"url(#pdb1cad2b41)\" d=\"M 285.608388 224.64 \nL 349.684943 224.64 \nL 349.684943 17.554286 \nL 285.608388 17.554286 \nz\n\" style=\"fill:#1f77b4;\"/>\n   </g>\n   <g id=\"patch_323\">\n    <path clip-path=\"url(#pdb1cad2b41)\" d=\"M 45.321307 224.64 \nL 109.397862 224.64 \nL 109.397862 224.64 \nL 45.321307 224.64 \nz\n\" style=\"fill:#1f77b4;\"/>\n   </g>\n   <g id=\"patch_324\">\n    <path clip-path=\"url(#pdb1cad2b41)\" d=\"M 45.321307 224.64 \nL 109.397862 224.64 \nL 109.397862 224.64 \nL 45.321307 224.64 \nz\n\" style=\"fill:#1f77b4;\"/>\n   </g>\n   <g id=\"patch_325\">\n    <path clip-path=\"url(#pdb1cad2b41)\" d=\"M 125.417001 224.64 \nL 189.493556 224.64 \nL 189.493556 17.554286 \nL 125.417001 17.554286 \nz\n\" style=\"fill:#1f77b4;\"/>\n   </g>\n   <g id=\"patch_326\">\n    <path clip-path=\"url(#pdb1cad2b41)\" d=\"M 205.512694 224.64 \nL 269.589249 224.64 \nL 269.589249 17.554286 \nL 205.512694 17.554286 \nz\n\" style=\"fill:#1f77b4;\"/>\n   </g>\n   <g id=\"patch_327\">\n    <path clip-path=\"url(#pdb1cad2b41)\" d=\"M 45.321307 224.64 \nL 109.397862 224.64 \nL 109.397862 224.64 \nL 45.321307 224.64 \nz\n\" style=\"fill:#1f77b4;\"/>\n   </g>\n   <g id=\"patch_328\">\n    <path clip-path=\"url(#pdb1cad2b41)\" d=\"M 285.608388 224.64 \nL 349.684943 224.64 \nL 349.684943 17.554286 \nL 285.608388 17.554286 \nz\n\" style=\"fill:#1f77b4;\"/>\n   </g>\n   <g id=\"patch_329\">\n    <path clip-path=\"url(#pdb1cad2b41)\" d=\"M 45.321307 224.64 \nL 109.397862 224.64 \nL 109.397862 224.64 \nL 45.321307 224.64 \nz\n\" style=\"fill:#1f77b4;\"/>\n   </g>\n   <g id=\"patch_330\">\n    <path clip-path=\"url(#pdb1cad2b41)\" d=\"M 125.417001 224.64 \nL 189.493556 224.64 \nL 189.493556 17.554286 \nL 125.417001 17.554286 \nz\n\" style=\"fill:#1f77b4;\"/>\n   </g>\n   <g id=\"patch_331\">\n    <path clip-path=\"url(#pdb1cad2b41)\" d=\"M 205.512694 224.64 \nL 269.589249 224.64 \nL 269.589249 17.554286 \nL 205.512694 17.554286 \nz\n\" style=\"fill:#1f77b4;\"/>\n   </g>\n   <g id=\"patch_332\">\n    <path clip-path=\"url(#pdb1cad2b41)\" d=\"M 285.608388 224.64 \nL 349.684943 224.64 \nL 349.684943 17.554286 \nL 285.608388 17.554286 \nz\n\" style=\"fill:#1f77b4;\"/>\n   </g>\n   <g id=\"patch_333\">\n    <path clip-path=\"url(#pdb1cad2b41)\" d=\"M 205.512694 224.64 \nL 269.589249 224.64 \nL 269.589249 17.554286 \nL 205.512694 17.554286 \nz\n\" style=\"fill:#1f77b4;\"/>\n   </g>\n   <g id=\"patch_334\">\n    <path clip-path=\"url(#pdb1cad2b41)\" d=\"M 45.321307 224.64 \nL 109.397862 224.64 \nL 109.397862 224.64 \nL 45.321307 224.64 \nz\n\" style=\"fill:#1f77b4;\"/>\n   </g>\n   <g id=\"patch_335\">\n    <path clip-path=\"url(#pdb1cad2b41)\" d=\"M 45.321307 224.64 \nL 109.397862 224.64 \nL 109.397862 224.64 \nL 45.321307 224.64 \nz\n\" style=\"fill:#1f77b4;\"/>\n   </g>\n   <g id=\"patch_336\">\n    <path clip-path=\"url(#pdb1cad2b41)\" d=\"M 45.321307 224.64 \nL 109.397862 224.64 \nL 109.397862 224.64 \nL 45.321307 224.64 \nz\n\" style=\"fill:#1f77b4;\"/>\n   </g>\n   <g id=\"patch_337\">\n    <path clip-path=\"url(#pdb1cad2b41)\" d=\"M 285.608388 224.64 \nL 349.684943 224.64 \nL 349.684943 17.554286 \nL 285.608388 17.554286 \nz\n\" style=\"fill:#1f77b4;\"/>\n   </g>\n   <g id=\"patch_338\">\n    <path clip-path=\"url(#pdb1cad2b41)\" d=\"M 45.321307 224.64 \nL 109.397862 224.64 \nL 109.397862 224.64 \nL 45.321307 224.64 \nz\n\" style=\"fill:#1f77b4;\"/>\n   </g>\n   <g id=\"patch_339\">\n    <path clip-path=\"url(#pdb1cad2b41)\" d=\"M 45.321307 224.64 \nL 109.397862 224.64 \nL 109.397862 224.64 \nL 45.321307 224.64 \nz\n\" style=\"fill:#1f77b4;\"/>\n   </g>\n   <g id=\"patch_340\">\n    <path clip-path=\"url(#pdb1cad2b41)\" d=\"M 285.608388 224.64 \nL 349.684943 224.64 \nL 349.684943 17.554286 \nL 285.608388 17.554286 \nz\n\" style=\"fill:#1f77b4;\"/>\n   </g>\n   <g id=\"patch_341\">\n    <path clip-path=\"url(#pdb1cad2b41)\" d=\"M 45.321307 224.64 \nL 109.397862 224.64 \nL 109.397862 17.554286 \nL 45.321307 17.554286 \nz\n\" style=\"fill:#1f77b4;\"/>\n   </g>\n   <g id=\"patch_342\">\n    <path clip-path=\"url(#pdb1cad2b41)\" d=\"M 45.321307 224.64 \nL 109.397862 224.64 \nL 109.397862 224.64 \nL 45.321307 224.64 \nz\n\" style=\"fill:#1f77b4;\"/>\n   </g>\n   <g id=\"patch_343\">\n    <path clip-path=\"url(#pdb1cad2b41)\" d=\"M 45.321307 224.64 \nL 109.397862 224.64 \nL 109.397862 17.554286 \nL 45.321307 17.554286 \nz\n\" style=\"fill:#1f77b4;\"/>\n   </g>\n   <g id=\"patch_344\">\n    <path clip-path=\"url(#pdb1cad2b41)\" d=\"M 285.608388 224.64 \nL 349.684943 224.64 \nL 349.684943 17.554286 \nL 285.608388 17.554286 \nz\n\" style=\"fill:#1f77b4;\"/>\n   </g>\n   <g id=\"patch_345\">\n    <path clip-path=\"url(#pdb1cad2b41)\" d=\"M 45.321307 224.64 \nL 109.397862 224.64 \nL 109.397862 224.64 \nL 45.321307 224.64 \nz\n\" style=\"fill:#1f77b4;\"/>\n   </g>\n   <g id=\"patch_346\">\n    <path clip-path=\"url(#pdb1cad2b41)\" d=\"M 45.321307 224.64 \nL 109.397862 224.64 \nL 109.397862 224.64 \nL 45.321307 224.64 \nz\n\" style=\"fill:#1f77b4;\"/>\n   </g>\n   <g id=\"patch_347\">\n    <path clip-path=\"url(#pdb1cad2b41)\" d=\"M 45.321307 224.64 \nL 109.397862 224.64 \nL 109.397862 224.64 \nL 45.321307 224.64 \nz\n\" style=\"fill:#1f77b4;\"/>\n   </g>\n   <g id=\"patch_348\">\n    <path clip-path=\"url(#pdb1cad2b41)\" d=\"M 125.417001 224.64 \nL 189.493556 224.64 \nL 189.493556 17.554286 \nL 125.417001 17.554286 \nz\n\" style=\"fill:#1f77b4;\"/>\n   </g>\n   <g id=\"patch_349\">\n    <path clip-path=\"url(#pdb1cad2b41)\" d=\"M 125.417001 224.64 \nL 189.493556 224.64 \nL 189.493556 17.554286 \nL 125.417001 17.554286 \nz\n\" style=\"fill:#1f77b4;\"/>\n   </g>\n   <g id=\"patch_350\">\n    <path clip-path=\"url(#pdb1cad2b41)\" d=\"M 205.512694 224.64 \nL 269.589249 224.64 \nL 269.589249 17.554286 \nL 205.512694 17.554286 \nz\n\" style=\"fill:#1f77b4;\"/>\n   </g>\n   <g id=\"patch_351\">\n    <path clip-path=\"url(#pdb1cad2b41)\" d=\"M 45.321307 224.64 \nL 109.397862 224.64 \nL 109.397862 17.554286 \nL 45.321307 17.554286 \nz\n\" style=\"fill:#1f77b4;\"/>\n   </g>\n   <g id=\"patch_352\">\n    <path clip-path=\"url(#pdb1cad2b41)\" d=\"M 45.321307 224.64 \nL 109.397862 224.64 \nL 109.397862 224.64 \nL 45.321307 224.64 \nz\n\" style=\"fill:#1f77b4;\"/>\n   </g>\n   <g id=\"patch_353\">\n    <path clip-path=\"url(#pdb1cad2b41)\" d=\"M 45.321307 224.64 \nL 109.397862 224.64 \nL 109.397862 224.64 \nL 45.321307 224.64 \nz\n\" style=\"fill:#1f77b4;\"/>\n   </g>\n   <g id=\"patch_354\">\n    <path clip-path=\"url(#pdb1cad2b41)\" d=\"M 45.321307 224.64 \nL 109.397862 224.64 \nL 109.397862 224.64 \nL 45.321307 224.64 \nz\n\" style=\"fill:#1f77b4;\"/>\n   </g>\n   <g id=\"patch_355\">\n    <path clip-path=\"url(#pdb1cad2b41)\" d=\"M 45.321307 224.64 \nL 109.397862 224.64 \nL 109.397862 224.64 \nL 45.321307 224.64 \nz\n\" style=\"fill:#1f77b4;\"/>\n   </g>\n   <g id=\"patch_356\">\n    <path clip-path=\"url(#pdb1cad2b41)\" d=\"M 45.321307 224.64 \nL 109.397862 224.64 \nL 109.397862 224.64 \nL 45.321307 224.64 \nz\n\" style=\"fill:#1f77b4;\"/>\n   </g>\n   <g id=\"patch_357\">\n    <path clip-path=\"url(#pdb1cad2b41)\" d=\"M 45.321307 224.64 \nL 109.397862 224.64 \nL 109.397862 224.64 \nL 45.321307 224.64 \nz\n\" style=\"fill:#1f77b4;\"/>\n   </g>\n   <g id=\"patch_358\">\n    <path clip-path=\"url(#pdb1cad2b41)\" d=\"M 45.321307 224.64 \nL 109.397862 224.64 \nL 109.397862 224.64 \nL 45.321307 224.64 \nz\n\" style=\"fill:#1f77b4;\"/>\n   </g>\n   <g id=\"patch_359\">\n    <path clip-path=\"url(#pdb1cad2b41)\" d=\"M 285.608388 224.64 \nL 349.684943 224.64 \nL 349.684943 17.554286 \nL 285.608388 17.554286 \nz\n\" style=\"fill:#1f77b4;\"/>\n   </g>\n   <g id=\"patch_360\">\n    <path clip-path=\"url(#pdb1cad2b41)\" d=\"M 125.417001 224.64 \nL 189.493556 224.64 \nL 189.493556 224.64 \nL 125.417001 224.64 \nz\n\" style=\"fill:#1f77b4;\"/>\n   </g>\n   <g id=\"patch_361\">\n    <path clip-path=\"url(#pdb1cad2b41)\" d=\"M 45.321307 224.64 \nL 109.397862 224.64 \nL 109.397862 17.554286 \nL 45.321307 17.554286 \nz\n\" style=\"fill:#1f77b4;\"/>\n   </g>\n   <g id=\"patch_362\">\n    <path clip-path=\"url(#pdb1cad2b41)\" d=\"M 45.321307 224.64 \nL 109.397862 224.64 \nL 109.397862 17.554286 \nL 45.321307 17.554286 \nz\n\" style=\"fill:#1f77b4;\"/>\n   </g>\n   <g id=\"patch_363\">\n    <path clip-path=\"url(#pdb1cad2b41)\" d=\"M 45.321307 224.64 \nL 109.397862 224.64 \nL 109.397862 224.64 \nL 45.321307 224.64 \nz\n\" style=\"fill:#1f77b4;\"/>\n   </g>\n   <g id=\"patch_364\">\n    <path clip-path=\"url(#pdb1cad2b41)\" d=\"M 45.321307 224.64 \nL 109.397862 224.64 \nL 109.397862 224.64 \nL 45.321307 224.64 \nz\n\" style=\"fill:#1f77b4;\"/>\n   </g>\n   <g id=\"patch_365\">\n    <path clip-path=\"url(#pdb1cad2b41)\" d=\"M 205.512694 224.64 \nL 269.589249 224.64 \nL 269.589249 224.64 \nL 205.512694 224.64 \nz\n\" style=\"fill:#1f77b4;\"/>\n   </g>\n   <g id=\"patch_366\">\n    <path clip-path=\"url(#pdb1cad2b41)\" d=\"M 45.321307 224.64 \nL 109.397862 224.64 \nL 109.397862 224.64 \nL 45.321307 224.64 \nz\n\" style=\"fill:#1f77b4;\"/>\n   </g>\n   <g id=\"patch_367\">\n    <path clip-path=\"url(#pdb1cad2b41)\" d=\"M 45.321307 224.64 \nL 109.397862 224.64 \nL 109.397862 224.64 \nL 45.321307 224.64 \nz\n\" style=\"fill:#1f77b4;\"/>\n   </g>\n   <g id=\"patch_368\">\n    <path clip-path=\"url(#pdb1cad2b41)\" d=\"M 45.321307 224.64 \nL 109.397862 224.64 \nL 109.397862 224.64 \nL 45.321307 224.64 \nz\n\" style=\"fill:#1f77b4;\"/>\n   </g>\n   <g id=\"patch_369\">\n    <path clip-path=\"url(#pdb1cad2b41)\" d=\"M 285.608388 224.64 \nL 349.684943 224.64 \nL 349.684943 17.554286 \nL 285.608388 17.554286 \nz\n\" style=\"fill:#1f77b4;\"/>\n   </g>\n   <g id=\"patch_370\">\n    <path clip-path=\"url(#pdb1cad2b41)\" d=\"M 45.321307 224.64 \nL 109.397862 224.64 \nL 109.397862 17.554286 \nL 45.321307 17.554286 \nz\n\" style=\"fill:#1f77b4;\"/>\n   </g>\n   <g id=\"patch_371\">\n    <path clip-path=\"url(#pdb1cad2b41)\" d=\"M 45.321307 224.64 \nL 109.397862 224.64 \nL 109.397862 17.554286 \nL 45.321307 17.554286 \nz\n\" style=\"fill:#1f77b4;\"/>\n   </g>\n   <g id=\"patch_372\">\n    <path clip-path=\"url(#pdb1cad2b41)\" d=\"M 285.608388 224.64 \nL 349.684943 224.64 \nL 349.684943 17.554286 \nL 285.608388 17.554286 \nz\n\" style=\"fill:#1f77b4;\"/>\n   </g>\n   <g id=\"patch_373\">\n    <path clip-path=\"url(#pdb1cad2b41)\" d=\"M 45.321307 224.64 \nL 109.397862 224.64 \nL 109.397862 17.554286 \nL 45.321307 17.554286 \nz\n\" style=\"fill:#1f77b4;\"/>\n   </g>\n   <g id=\"patch_374\">\n    <path clip-path=\"url(#pdb1cad2b41)\" d=\"M 45.321307 224.64 \nL 109.397862 224.64 \nL 109.397862 224.64 \nL 45.321307 224.64 \nz\n\" style=\"fill:#1f77b4;\"/>\n   </g>\n   <g id=\"patch_375\">\n    <path clip-path=\"url(#pdb1cad2b41)\" d=\"M 45.321307 224.64 \nL 109.397862 224.64 \nL 109.397862 224.64 \nL 45.321307 224.64 \nz\n\" style=\"fill:#1f77b4;\"/>\n   </g>\n   <g id=\"patch_376\">\n    <path clip-path=\"url(#pdb1cad2b41)\" d=\"M 45.321307 224.64 \nL 109.397862 224.64 \nL 109.397862 224.64 \nL 45.321307 224.64 \nz\n\" style=\"fill:#1f77b4;\"/>\n   </g>\n   <g id=\"patch_377\">\n    <path clip-path=\"url(#pdb1cad2b41)\" d=\"M 205.512694 224.64 \nL 269.589249 224.64 \nL 269.589249 224.64 \nL 205.512694 224.64 \nz\n\" style=\"fill:#1f77b4;\"/>\n   </g>\n   <g id=\"patch_378\">\n    <path clip-path=\"url(#pdb1cad2b41)\" d=\"M 285.608388 224.64 \nL 349.684943 224.64 \nL 349.684943 17.554286 \nL 285.608388 17.554286 \nz\n\" style=\"fill:#1f77b4;\"/>\n   </g>\n   <g id=\"patch_379\">\n    <path clip-path=\"url(#pdb1cad2b41)\" d=\"M 45.321307 224.64 \nL 109.397862 224.64 \nL 109.397862 17.554286 \nL 45.321307 17.554286 \nz\n\" style=\"fill:#1f77b4;\"/>\n   </g>\n   <g id=\"patch_380\">\n    <path clip-path=\"url(#pdb1cad2b41)\" d=\"M 45.321307 224.64 \nL 109.397862 224.64 \nL 109.397862 224.64 \nL 45.321307 224.64 \nz\n\" style=\"fill:#1f77b4;\"/>\n   </g>\n   <g id=\"patch_381\">\n    <path clip-path=\"url(#pdb1cad2b41)\" d=\"M 45.321307 224.64 \nL 109.397862 224.64 \nL 109.397862 224.64 \nL 45.321307 224.64 \nz\n\" style=\"fill:#1f77b4;\"/>\n   </g>\n   <g id=\"patch_382\">\n    <path clip-path=\"url(#pdb1cad2b41)\" d=\"M 45.321307 224.64 \nL 109.397862 224.64 \nL 109.397862 224.64 \nL 45.321307 224.64 \nz\n\" style=\"fill:#1f77b4;\"/>\n   </g>\n   <g id=\"patch_383\">\n    <path clip-path=\"url(#pdb1cad2b41)\" d=\"M 285.608388 224.64 \nL 349.684943 224.64 \nL 349.684943 17.554286 \nL 285.608388 17.554286 \nz\n\" style=\"fill:#1f77b4;\"/>\n   </g>\n   <g id=\"patch_384\">\n    <path clip-path=\"url(#pdb1cad2b41)\" d=\"M 205.512694 224.64 \nL 269.589249 224.64 \nL 269.589249 17.554286 \nL 205.512694 17.554286 \nz\n\" style=\"fill:#1f77b4;\"/>\n   </g>\n   <g id=\"patch_385\">\n    <path clip-path=\"url(#pdb1cad2b41)\" d=\"M 45.321307 224.64 \nL 109.397862 224.64 \nL 109.397862 224.64 \nL 45.321307 224.64 \nz\n\" style=\"fill:#1f77b4;\"/>\n   </g>\n   <g id=\"patch_386\">\n    <path clip-path=\"url(#pdb1cad2b41)\" d=\"M 285.608388 224.64 \nL 349.684943 224.64 \nL 349.684943 17.554286 \nL 285.608388 17.554286 \nz\n\" style=\"fill:#1f77b4;\"/>\n   </g>\n   <g id=\"patch_387\">\n    <path clip-path=\"url(#pdb1cad2b41)\" d=\"M 45.321307 224.64 \nL 109.397862 224.64 \nL 109.397862 224.64 \nL 45.321307 224.64 \nz\n\" style=\"fill:#1f77b4;\"/>\n   </g>\n   <g id=\"patch_388\">\n    <path clip-path=\"url(#pdb1cad2b41)\" d=\"M 45.321307 224.64 \nL 109.397862 224.64 \nL 109.397862 224.64 \nL 45.321307 224.64 \nz\n\" style=\"fill:#1f77b4;\"/>\n   </g>\n   <g id=\"patch_389\">\n    <path clip-path=\"url(#pdb1cad2b41)\" d=\"M 45.321307 224.64 \nL 109.397862 224.64 \nL 109.397862 224.64 \nL 45.321307 224.64 \nz\n\" style=\"fill:#1f77b4;\"/>\n   </g>\n   <g id=\"patch_390\">\n    <path clip-path=\"url(#pdb1cad2b41)\" d=\"M 125.417001 224.64 \nL 189.493556 224.64 \nL 189.493556 17.554286 \nL 125.417001 17.554286 \nz\n\" style=\"fill:#1f77b4;\"/>\n   </g>\n   <g id=\"patch_391\">\n    <path clip-path=\"url(#pdb1cad2b41)\" d=\"M 45.321307 224.64 \nL 109.397862 224.64 \nL 109.397862 224.64 \nL 45.321307 224.64 \nz\n\" style=\"fill:#1f77b4;\"/>\n   </g>\n   <g id=\"patch_392\">\n    <path clip-path=\"url(#pdb1cad2b41)\" d=\"M 125.417001 224.64 \nL 189.493556 224.64 \nL 189.493556 17.554286 \nL 125.417001 17.554286 \nz\n\" style=\"fill:#1f77b4;\"/>\n   </g>\n   <g id=\"patch_393\">\n    <path clip-path=\"url(#pdb1cad2b41)\" d=\"M 45.321307 224.64 \nL 109.397862 224.64 \nL 109.397862 17.554286 \nL 45.321307 17.554286 \nz\n\" style=\"fill:#1f77b4;\"/>\n   </g>\n   <g id=\"patch_394\">\n    <path clip-path=\"url(#pdb1cad2b41)\" d=\"M 45.321307 224.64 \nL 109.397862 224.64 \nL 109.397862 17.554286 \nL 45.321307 17.554286 \nz\n\" style=\"fill:#1f77b4;\"/>\n   </g>\n   <g id=\"patch_395\">\n    <path clip-path=\"url(#pdb1cad2b41)\" d=\"M 45.321307 224.64 \nL 109.397862 224.64 \nL 109.397862 224.64 \nL 45.321307 224.64 \nz\n\" style=\"fill:#1f77b4;\"/>\n   </g>\n   <g id=\"patch_396\">\n    <path clip-path=\"url(#pdb1cad2b41)\" d=\"M 285.608388 224.64 \nL 349.684943 224.64 \nL 349.684943 17.554286 \nL 285.608388 17.554286 \nz\n\" style=\"fill:#1f77b4;\"/>\n   </g>\n   <g id=\"patch_397\">\n    <path clip-path=\"url(#pdb1cad2b41)\" d=\"M 205.512694 224.64 \nL 269.589249 224.64 \nL 269.589249 17.554286 \nL 205.512694 17.554286 \nz\n\" style=\"fill:#1f77b4;\"/>\n   </g>\n   <g id=\"patch_398\">\n    <path clip-path=\"url(#pdb1cad2b41)\" d=\"M 45.321307 224.64 \nL 109.397862 224.64 \nL 109.397862 224.64 \nL 45.321307 224.64 \nz\n\" style=\"fill:#1f77b4;\"/>\n   </g>\n   <g id=\"patch_399\">\n    <path clip-path=\"url(#pdb1cad2b41)\" d=\"M 45.321307 224.64 \nL 109.397862 224.64 \nL 109.397862 224.64 \nL 45.321307 224.64 \nz\n\" style=\"fill:#1f77b4;\"/>\n   </g>\n   <g id=\"patch_400\">\n    <path clip-path=\"url(#pdb1cad2b41)\" d=\"M 45.321307 224.64 \nL 109.397862 224.64 \nL 109.397862 224.64 \nL 45.321307 224.64 \nz\n\" style=\"fill:#1f77b4;\"/>\n   </g>\n   <g id=\"patch_401\">\n    <path clip-path=\"url(#pdb1cad2b41)\" d=\"M 45.321307 224.64 \nL 109.397862 224.64 \nL 109.397862 224.64 \nL 45.321307 224.64 \nz\n\" style=\"fill:#1f77b4;\"/>\n   </g>\n   <g id=\"patch_402\">\n    <path clip-path=\"url(#pdb1cad2b41)\" d=\"M 125.417001 224.64 \nL 189.493556 224.64 \nL 189.493556 17.554286 \nL 125.417001 17.554286 \nz\n\" style=\"fill:#1f77b4;\"/>\n   </g>\n   <g id=\"patch_403\">\n    <path clip-path=\"url(#pdb1cad2b41)\" d=\"M 45.321307 224.64 \nL 109.397862 224.64 \nL 109.397862 17.554286 \nL 45.321307 17.554286 \nz\n\" style=\"fill:#1f77b4;\"/>\n   </g>\n   <g id=\"patch_404\">\n    <path clip-path=\"url(#pdb1cad2b41)\" d=\"M 45.321307 224.64 \nL 109.397862 224.64 \nL 109.397862 224.64 \nL 45.321307 224.64 \nz\n\" style=\"fill:#1f77b4;\"/>\n   </g>\n   <g id=\"patch_405\">\n    <path clip-path=\"url(#pdb1cad2b41)\" d=\"M 125.417001 224.64 \nL 189.493556 224.64 \nL 189.493556 224.64 \nL 125.417001 224.64 \nz\n\" style=\"fill:#1f77b4;\"/>\n   </g>\n   <g id=\"patch_406\">\n    <path clip-path=\"url(#pdb1cad2b41)\" d=\"M 45.321307 224.64 \nL 109.397862 224.64 \nL 109.397862 224.64 \nL 45.321307 224.64 \nz\n\" style=\"fill:#1f77b4;\"/>\n   </g>\n   <g id=\"patch_407\">\n    <path clip-path=\"url(#pdb1cad2b41)\" d=\"M 125.417001 224.64 \nL 189.493556 224.64 \nL 189.493556 224.64 \nL 125.417001 224.64 \nz\n\" style=\"fill:#1f77b4;\"/>\n   </g>\n   <g id=\"patch_408\">\n    <path clip-path=\"url(#pdb1cad2b41)\" d=\"M 45.321307 224.64 \nL 109.397862 224.64 \nL 109.397862 224.64 \nL 45.321307 224.64 \nz\n\" style=\"fill:#1f77b4;\"/>\n   </g>\n   <g id=\"patch_409\">\n    <path clip-path=\"url(#pdb1cad2b41)\" d=\"M 45.321307 224.64 \nL 109.397862 224.64 \nL 109.397862 224.64 \nL 45.321307 224.64 \nz\n\" style=\"fill:#1f77b4;\"/>\n   </g>\n   <g id=\"patch_410\">\n    <path clip-path=\"url(#pdb1cad2b41)\" d=\"M 45.321307 224.64 \nL 109.397862 224.64 \nL 109.397862 17.554286 \nL 45.321307 17.554286 \nz\n\" style=\"fill:#1f77b4;\"/>\n   </g>\n   <g id=\"patch_411\">\n    <path clip-path=\"url(#pdb1cad2b41)\" d=\"M 45.321307 224.64 \nL 109.397862 224.64 \nL 109.397862 224.64 \nL 45.321307 224.64 \nz\n\" style=\"fill:#1f77b4;\"/>\n   </g>\n   <g id=\"patch_412\">\n    <path clip-path=\"url(#pdb1cad2b41)\" d=\"M 205.512694 224.64 \nL 269.589249 224.64 \nL 269.589249 224.64 \nL 205.512694 224.64 \nz\n\" style=\"fill:#1f77b4;\"/>\n   </g>\n   <g id=\"patch_413\">\n    <path clip-path=\"url(#pdb1cad2b41)\" d=\"M 45.321307 224.64 \nL 109.397862 224.64 \nL 109.397862 224.64 \nL 45.321307 224.64 \nz\n\" style=\"fill:#1f77b4;\"/>\n   </g>\n   <g id=\"patch_414\">\n    <path clip-path=\"url(#pdb1cad2b41)\" d=\"M 45.321307 224.64 \nL 109.397862 224.64 \nL 109.397862 224.64 \nL 45.321307 224.64 \nz\n\" style=\"fill:#1f77b4;\"/>\n   </g>\n   <g id=\"patch_415\">\n    <path clip-path=\"url(#pdb1cad2b41)\" d=\"M 285.608388 224.64 \nL 349.684943 224.64 \nL 349.684943 17.554286 \nL 285.608388 17.554286 \nz\n\" style=\"fill:#1f77b4;\"/>\n   </g>\n   <g id=\"patch_416\">\n    <path clip-path=\"url(#pdb1cad2b41)\" d=\"M 45.321307 224.64 \nL 109.397862 224.64 \nL 109.397862 224.64 \nL 45.321307 224.64 \nz\n\" style=\"fill:#1f77b4;\"/>\n   </g>\n   <g id=\"patch_417\">\n    <path clip-path=\"url(#pdb1cad2b41)\" d=\"M 45.321307 224.64 \nL 109.397862 224.64 \nL 109.397862 17.554286 \nL 45.321307 17.554286 \nz\n\" style=\"fill:#1f77b4;\"/>\n   </g>\n   <g id=\"patch_418\">\n    <path clip-path=\"url(#pdb1cad2b41)\" d=\"M 125.417001 224.64 \nL 189.493556 224.64 \nL 189.493556 224.64 \nL 125.417001 224.64 \nz\n\" style=\"fill:#1f77b4;\"/>\n   </g>\n   <g id=\"patch_419\">\n    <path clip-path=\"url(#pdb1cad2b41)\" d=\"M 285.608388 224.64 \nL 349.684943 224.64 \nL 349.684943 17.554286 \nL 285.608388 17.554286 \nz\n\" style=\"fill:#1f77b4;\"/>\n   </g>\n   <g id=\"patch_420\">\n    <path clip-path=\"url(#pdb1cad2b41)\" d=\"M 125.417001 224.64 \nL 189.493556 224.64 \nL 189.493556 17.554286 \nL 125.417001 17.554286 \nz\n\" style=\"fill:#1f77b4;\"/>\n   </g>\n   <g id=\"patch_421\">\n    <path clip-path=\"url(#pdb1cad2b41)\" d=\"M 45.321307 224.64 \nL 109.397862 224.64 \nL 109.397862 224.64 \nL 45.321307 224.64 \nz\n\" style=\"fill:#1f77b4;\"/>\n   </g>\n   <g id=\"patch_422\">\n    <path clip-path=\"url(#pdb1cad2b41)\" d=\"M 205.512694 224.64 \nL 269.589249 224.64 \nL 269.589249 224.64 \nL 205.512694 224.64 \nz\n\" style=\"fill:#1f77b4;\"/>\n   </g>\n   <g id=\"patch_423\">\n    <path clip-path=\"url(#pdb1cad2b41)\" d=\"M 45.321307 224.64 \nL 109.397862 224.64 \nL 109.397862 224.64 \nL 45.321307 224.64 \nz\n\" style=\"fill:#1f77b4;\"/>\n   </g>\n   <g id=\"patch_424\">\n    <path clip-path=\"url(#pdb1cad2b41)\" d=\"M 45.321307 224.64 \nL 109.397862 224.64 \nL 109.397862 224.64 \nL 45.321307 224.64 \nz\n\" style=\"fill:#1f77b4;\"/>\n   </g>\n   <g id=\"patch_425\">\n    <path clip-path=\"url(#pdb1cad2b41)\" d=\"M 45.321307 224.64 \nL 109.397862 224.64 \nL 109.397862 224.64 \nL 45.321307 224.64 \nz\n\" style=\"fill:#1f77b4;\"/>\n   </g>\n   <g id=\"patch_426\">\n    <path clip-path=\"url(#pdb1cad2b41)\" d=\"M 125.417001 224.64 \nL 189.493556 224.64 \nL 189.493556 224.64 \nL 125.417001 224.64 \nz\n\" style=\"fill:#1f77b4;\"/>\n   </g>\n   <g id=\"patch_427\">\n    <path clip-path=\"url(#pdb1cad2b41)\" d=\"M 45.321307 224.64 \nL 109.397862 224.64 \nL 109.397862 224.64 \nL 45.321307 224.64 \nz\n\" style=\"fill:#1f77b4;\"/>\n   </g>\n   <g id=\"patch_428\">\n    <path clip-path=\"url(#pdb1cad2b41)\" d=\"M 45.321307 224.64 \nL 109.397862 224.64 \nL 109.397862 224.64 \nL 45.321307 224.64 \nz\n\" style=\"fill:#1f77b4;\"/>\n   </g>\n   <g id=\"patch_429\">\n    <path clip-path=\"url(#pdb1cad2b41)\" d=\"M 205.512694 224.64 \nL 269.589249 224.64 \nL 269.589249 17.554286 \nL 205.512694 17.554286 \nz\n\" style=\"fill:#1f77b4;\"/>\n   </g>\n   <g id=\"patch_430\">\n    <path clip-path=\"url(#pdb1cad2b41)\" d=\"M 205.512694 224.64 \nL 269.589249 224.64 \nL 269.589249 17.554286 \nL 205.512694 17.554286 \nz\n\" style=\"fill:#1f77b4;\"/>\n   </g>\n   <g id=\"patch_431\">\n    <path clip-path=\"url(#pdb1cad2b41)\" d=\"M 45.321307 224.64 \nL 109.397862 224.64 \nL 109.397862 224.64 \nL 45.321307 224.64 \nz\n\" style=\"fill:#1f77b4;\"/>\n   </g>\n   <g id=\"patch_432\">\n    <path clip-path=\"url(#pdb1cad2b41)\" d=\"M 45.321307 224.64 \nL 109.397862 224.64 \nL 109.397862 17.554286 \nL 45.321307 17.554286 \nz\n\" style=\"fill:#1f77b4;\"/>\n   </g>\n   <g id=\"patch_433\">\n    <path clip-path=\"url(#pdb1cad2b41)\" d=\"M 45.321307 224.64 \nL 109.397862 224.64 \nL 109.397862 17.554286 \nL 45.321307 17.554286 \nz\n\" style=\"fill:#1f77b4;\"/>\n   </g>\n   <g id=\"patch_434\">\n    <path clip-path=\"url(#pdb1cad2b41)\" d=\"M 205.512694 224.64 \nL 269.589249 224.64 \nL 269.589249 17.554286 \nL 205.512694 17.554286 \nz\n\" style=\"fill:#1f77b4;\"/>\n   </g>\n   <g id=\"patch_435\">\n    <path clip-path=\"url(#pdb1cad2b41)\" d=\"M 205.512694 224.64 \nL 269.589249 224.64 \nL 269.589249 17.554286 \nL 205.512694 17.554286 \nz\n\" style=\"fill:#1f77b4;\"/>\n   </g>\n   <g id=\"patch_436\">\n    <path clip-path=\"url(#pdb1cad2b41)\" d=\"M 45.321307 224.64 \nL 109.397862 224.64 \nL 109.397862 224.64 \nL 45.321307 224.64 \nz\n\" style=\"fill:#1f77b4;\"/>\n   </g>\n   <g id=\"patch_437\">\n    <path clip-path=\"url(#pdb1cad2b41)\" d=\"M 45.321307 224.64 \nL 109.397862 224.64 \nL 109.397862 224.64 \nL 45.321307 224.64 \nz\n\" style=\"fill:#1f77b4;\"/>\n   </g>\n   <g id=\"patch_438\">\n    <path clip-path=\"url(#pdb1cad2b41)\" d=\"M 285.608388 224.64 \nL 349.684943 224.64 \nL 349.684943 17.554286 \nL 285.608388 17.554286 \nz\n\" style=\"fill:#1f77b4;\"/>\n   </g>\n   <g id=\"patch_439\">\n    <path clip-path=\"url(#pdb1cad2b41)\" d=\"M 285.608388 224.64 \nL 349.684943 224.64 \nL 349.684943 224.64 \nL 285.608388 224.64 \nz\n\" style=\"fill:#1f77b4;\"/>\n   </g>\n   <g id=\"patch_440\">\n    <path clip-path=\"url(#pdb1cad2b41)\" d=\"M 205.512694 224.64 \nL 269.589249 224.64 \nL 269.589249 17.554286 \nL 205.512694 17.554286 \nz\n\" style=\"fill:#1f77b4;\"/>\n   </g>\n   <g id=\"patch_441\">\n    <path clip-path=\"url(#pdb1cad2b41)\" d=\"M 45.321307 224.64 \nL 109.397862 224.64 \nL 109.397862 224.64 \nL 45.321307 224.64 \nz\n\" style=\"fill:#1f77b4;\"/>\n   </g>\n   <g id=\"patch_442\">\n    <path clip-path=\"url(#pdb1cad2b41)\" d=\"M 45.321307 224.64 \nL 109.397862 224.64 \nL 109.397862 224.64 \nL 45.321307 224.64 \nz\n\" style=\"fill:#1f77b4;\"/>\n   </g>\n   <g id=\"patch_443\">\n    <path clip-path=\"url(#pdb1cad2b41)\" d=\"M 205.512694 224.64 \nL 269.589249 224.64 \nL 269.589249 17.554286 \nL 205.512694 17.554286 \nz\n\" style=\"fill:#1f77b4;\"/>\n   </g>\n   <g id=\"patch_444\">\n    <path clip-path=\"url(#pdb1cad2b41)\" d=\"M 45.321307 224.64 \nL 109.397862 224.64 \nL 109.397862 224.64 \nL 45.321307 224.64 \nz\n\" style=\"fill:#1f77b4;\"/>\n   </g>\n   <g id=\"patch_445\">\n    <path clip-path=\"url(#pdb1cad2b41)\" d=\"M 45.321307 224.64 \nL 109.397862 224.64 \nL 109.397862 224.64 \nL 45.321307 224.64 \nz\n\" style=\"fill:#1f77b4;\"/>\n   </g>\n   <g id=\"patch_446\">\n    <path clip-path=\"url(#pdb1cad2b41)\" d=\"M 125.417001 224.64 \nL 189.493556 224.64 \nL 189.493556 17.554286 \nL 125.417001 17.554286 \nz\n\" style=\"fill:#1f77b4;\"/>\n   </g>\n   <g id=\"patch_447\">\n    <path clip-path=\"url(#pdb1cad2b41)\" d=\"M 45.321307 224.64 \nL 109.397862 224.64 \nL 109.397862 17.554286 \nL 45.321307 17.554286 \nz\n\" style=\"fill:#1f77b4;\"/>\n   </g>\n   <g id=\"patch_448\">\n    <path clip-path=\"url(#pdb1cad2b41)\" d=\"M 45.321307 224.64 \nL 109.397862 224.64 \nL 109.397862 17.554286 \nL 45.321307 17.554286 \nz\n\" style=\"fill:#1f77b4;\"/>\n   </g>\n   <g id=\"patch_449\">\n    <path clip-path=\"url(#pdb1cad2b41)\" d=\"M 205.512694 224.64 \nL 269.589249 224.64 \nL 269.589249 17.554286 \nL 205.512694 17.554286 \nz\n\" style=\"fill:#1f77b4;\"/>\n   </g>\n   <g id=\"patch_450\">\n    <path clip-path=\"url(#pdb1cad2b41)\" d=\"M 45.321307 224.64 \nL 109.397862 224.64 \nL 109.397862 17.554286 \nL 45.321307 17.554286 \nz\n\" style=\"fill:#1f77b4;\"/>\n   </g>\n   <g id=\"patch_451\">\n    <path clip-path=\"url(#pdb1cad2b41)\" d=\"M 205.512694 224.64 \nL 269.589249 224.64 \nL 269.589249 17.554286 \nL 205.512694 17.554286 \nz\n\" style=\"fill:#1f77b4;\"/>\n   </g>\n   <g id=\"patch_452\">\n    <path clip-path=\"url(#pdb1cad2b41)\" d=\"M 45.321307 224.64 \nL 109.397862 224.64 \nL 109.397862 17.554286 \nL 45.321307 17.554286 \nz\n\" style=\"fill:#1f77b4;\"/>\n   </g>\n   <g id=\"patch_453\">\n    <path clip-path=\"url(#pdb1cad2b41)\" d=\"M 45.321307 224.64 \nL 109.397862 224.64 \nL 109.397862 224.64 \nL 45.321307 224.64 \nz\n\" style=\"fill:#1f77b4;\"/>\n   </g>\n   <g id=\"patch_454\">\n    <path clip-path=\"url(#pdb1cad2b41)\" d=\"M 45.321307 224.64 \nL 109.397862 224.64 \nL 109.397862 224.64 \nL 45.321307 224.64 \nz\n\" style=\"fill:#1f77b4;\"/>\n   </g>\n   <g id=\"patch_455\">\n    <path clip-path=\"url(#pdb1cad2b41)\" d=\"M 45.321307 224.64 \nL 109.397862 224.64 \nL 109.397862 224.64 \nL 45.321307 224.64 \nz\n\" style=\"fill:#1f77b4;\"/>\n   </g>\n   <g id=\"patch_456\">\n    <path clip-path=\"url(#pdb1cad2b41)\" d=\"M 45.321307 224.64 \nL 109.397862 224.64 \nL 109.397862 17.554286 \nL 45.321307 17.554286 \nz\n\" style=\"fill:#1f77b4;\"/>\n   </g>\n   <g id=\"patch_457\">\n    <path clip-path=\"url(#pdb1cad2b41)\" d=\"M 45.321307 224.64 \nL 109.397862 224.64 \nL 109.397862 224.64 \nL 45.321307 224.64 \nz\n\" style=\"fill:#1f77b4;\"/>\n   </g>\n   <g id=\"patch_458\">\n    <path clip-path=\"url(#pdb1cad2b41)\" d=\"M 45.321307 224.64 \nL 109.397862 224.64 \nL 109.397862 17.554286 \nL 45.321307 17.554286 \nz\n\" style=\"fill:#1f77b4;\"/>\n   </g>\n   <g id=\"patch_459\">\n    <path clip-path=\"url(#pdb1cad2b41)\" d=\"M 45.321307 224.64 \nL 109.397862 224.64 \nL 109.397862 224.64 \nL 45.321307 224.64 \nz\n\" style=\"fill:#1f77b4;\"/>\n   </g>\n   <g id=\"patch_460\">\n    <path clip-path=\"url(#pdb1cad2b41)\" d=\"M 285.608388 224.64 \nL 349.684943 224.64 \nL 349.684943 17.554286 \nL 285.608388 17.554286 \nz\n\" style=\"fill:#1f77b4;\"/>\n   </g>\n   <g id=\"patch_461\">\n    <path clip-path=\"url(#pdb1cad2b41)\" d=\"M 125.417001 224.64 \nL 189.493556 224.64 \nL 189.493556 17.554286 \nL 125.417001 17.554286 \nz\n\" style=\"fill:#1f77b4;\"/>\n   </g>\n   <g id=\"patch_462\">\n    <path clip-path=\"url(#pdb1cad2b41)\" d=\"M 45.321307 224.64 \nL 109.397862 224.64 \nL 109.397862 224.64 \nL 45.321307 224.64 \nz\n\" style=\"fill:#1f77b4;\"/>\n   </g>\n   <g id=\"patch_463\">\n    <path clip-path=\"url(#pdb1cad2b41)\" d=\"M 45.321307 224.64 \nL 109.397862 224.64 \nL 109.397862 17.554286 \nL 45.321307 17.554286 \nz\n\" style=\"fill:#1f77b4;\"/>\n   </g>\n   <g id=\"patch_464\">\n    <path clip-path=\"url(#pdb1cad2b41)\" d=\"M 45.321307 224.64 \nL 109.397862 224.64 \nL 109.397862 224.64 \nL 45.321307 224.64 \nz\n\" style=\"fill:#1f77b4;\"/>\n   </g>\n   <g id=\"patch_465\">\n    <path clip-path=\"url(#pdb1cad2b41)\" d=\"M 45.321307 224.64 \nL 109.397862 224.64 \nL 109.397862 224.64 \nL 45.321307 224.64 \nz\n\" style=\"fill:#1f77b4;\"/>\n   </g>\n   <g id=\"patch_466\">\n    <path clip-path=\"url(#pdb1cad2b41)\" d=\"M 45.321307 224.64 \nL 109.397862 224.64 \nL 109.397862 224.64 \nL 45.321307 224.64 \nz\n\" style=\"fill:#1f77b4;\"/>\n   </g>\n   <g id=\"patch_467\">\n    <path clip-path=\"url(#pdb1cad2b41)\" d=\"M 45.321307 224.64 \nL 109.397862 224.64 \nL 109.397862 224.64 \nL 45.321307 224.64 \nz\n\" style=\"fill:#1f77b4;\"/>\n   </g>\n   <g id=\"patch_468\">\n    <path clip-path=\"url(#pdb1cad2b41)\" d=\"M 45.321307 224.64 \nL 109.397862 224.64 \nL 109.397862 224.64 \nL 45.321307 224.64 \nz\n\" style=\"fill:#1f77b4;\"/>\n   </g>\n   <g id=\"patch_469\">\n    <path clip-path=\"url(#pdb1cad2b41)\" d=\"M 45.321307 224.64 \nL 109.397862 224.64 \nL 109.397862 224.64 \nL 45.321307 224.64 \nz\n\" style=\"fill:#1f77b4;\"/>\n   </g>\n   <g id=\"patch_470\">\n    <path clip-path=\"url(#pdb1cad2b41)\" d=\"M 45.321307 224.64 \nL 109.397862 224.64 \nL 109.397862 224.64 \nL 45.321307 224.64 \nz\n\" style=\"fill:#1f77b4;\"/>\n   </g>\n   <g id=\"patch_471\">\n    <path clip-path=\"url(#pdb1cad2b41)\" d=\"M 45.321307 224.64 \nL 109.397862 224.64 \nL 109.397862 224.64 \nL 45.321307 224.64 \nz\n\" style=\"fill:#1f77b4;\"/>\n   </g>\n   <g id=\"patch_472\">\n    <path clip-path=\"url(#pdb1cad2b41)\" d=\"M 205.512694 224.64 \nL 269.589249 224.64 \nL 269.589249 17.554286 \nL 205.512694 17.554286 \nz\n\" style=\"fill:#1f77b4;\"/>\n   </g>\n   <g id=\"patch_473\">\n    <path clip-path=\"url(#pdb1cad2b41)\" d=\"M 45.321307 224.64 \nL 109.397862 224.64 \nL 109.397862 224.64 \nL 45.321307 224.64 \nz\n\" style=\"fill:#1f77b4;\"/>\n   </g>\n   <g id=\"patch_474\">\n    <path clip-path=\"url(#pdb1cad2b41)\" d=\"M 45.321307 224.64 \nL 109.397862 224.64 \nL 109.397862 224.64 \nL 45.321307 224.64 \nz\n\" style=\"fill:#1f77b4;\"/>\n   </g>\n   <g id=\"patch_475\">\n    <path clip-path=\"url(#pdb1cad2b41)\" d=\"M 205.512694 224.64 \nL 269.589249 224.64 \nL 269.589249 17.554286 \nL 205.512694 17.554286 \nz\n\" style=\"fill:#1f77b4;\"/>\n   </g>\n   <g id=\"patch_476\">\n    <path clip-path=\"url(#pdb1cad2b41)\" d=\"M 125.417001 224.64 \nL 189.493556 224.64 \nL 189.493556 17.554286 \nL 125.417001 17.554286 \nz\n\" style=\"fill:#1f77b4;\"/>\n   </g>\n   <g id=\"patch_477\">\n    <path clip-path=\"url(#pdb1cad2b41)\" d=\"M 125.417001 224.64 \nL 189.493556 224.64 \nL 189.493556 224.64 \nL 125.417001 224.64 \nz\n\" style=\"fill:#1f77b4;\"/>\n   </g>\n   <g id=\"patch_478\">\n    <path clip-path=\"url(#pdb1cad2b41)\" d=\"M 45.321307 224.64 \nL 109.397862 224.64 \nL 109.397862 224.64 \nL 45.321307 224.64 \nz\n\" style=\"fill:#1f77b4;\"/>\n   </g>\n   <g id=\"patch_479\">\n    <path clip-path=\"url(#pdb1cad2b41)\" d=\"M 45.321307 224.64 \nL 109.397862 224.64 \nL 109.397862 224.64 \nL 45.321307 224.64 \nz\n\" style=\"fill:#1f77b4;\"/>\n   </g>\n   <g id=\"patch_480\">\n    <path clip-path=\"url(#pdb1cad2b41)\" d=\"M 45.321307 224.64 \nL 109.397862 224.64 \nL 109.397862 224.64 \nL 45.321307 224.64 \nz\n\" style=\"fill:#1f77b4;\"/>\n   </g>\n   <g id=\"patch_481\">\n    <path clip-path=\"url(#pdb1cad2b41)\" d=\"M 45.321307 224.64 \nL 109.397862 224.64 \nL 109.397862 224.64 \nL 45.321307 224.64 \nz\n\" style=\"fill:#1f77b4;\"/>\n   </g>\n   <g id=\"patch_482\">\n    <path clip-path=\"url(#pdb1cad2b41)\" d=\"M 125.417001 224.64 \nL 189.493556 224.64 \nL 189.493556 17.554286 \nL 125.417001 17.554286 \nz\n\" style=\"fill:#1f77b4;\"/>\n   </g>\n   <g id=\"patch_483\">\n    <path clip-path=\"url(#pdb1cad2b41)\" d=\"M 45.321307 224.64 \nL 109.397862 224.64 \nL 109.397862 224.64 \nL 45.321307 224.64 \nz\n\" style=\"fill:#1f77b4;\"/>\n   </g>\n   <g id=\"patch_484\">\n    <path clip-path=\"url(#pdb1cad2b41)\" d=\"M 45.321307 224.64 \nL 109.397862 224.64 \nL 109.397862 224.64 \nL 45.321307 224.64 \nz\n\" style=\"fill:#1f77b4;\"/>\n   </g>\n   <g id=\"patch_485\">\n    <path clip-path=\"url(#pdb1cad2b41)\" d=\"M 45.321307 224.64 \nL 109.397862 224.64 \nL 109.397862 224.64 \nL 45.321307 224.64 \nz\n\" style=\"fill:#1f77b4;\"/>\n   </g>\n   <g id=\"patch_486\">\n    <path clip-path=\"url(#pdb1cad2b41)\" d=\"M 125.417001 224.64 \nL 189.493556 224.64 \nL 189.493556 17.554286 \nL 125.417001 17.554286 \nz\n\" style=\"fill:#1f77b4;\"/>\n   </g>\n   <g id=\"patch_487\">\n    <path clip-path=\"url(#pdb1cad2b41)\" d=\"M 45.321307 224.64 \nL 109.397862 224.64 \nL 109.397862 17.554286 \nL 45.321307 17.554286 \nz\n\" style=\"fill:#1f77b4;\"/>\n   </g>\n   <g id=\"patch_488\">\n    <path clip-path=\"url(#pdb1cad2b41)\" d=\"M 205.512694 224.64 \nL 269.589249 224.64 \nL 269.589249 224.64 \nL 205.512694 224.64 \nz\n\" style=\"fill:#1f77b4;\"/>\n   </g>\n   <g id=\"patch_489\">\n    <path clip-path=\"url(#pdb1cad2b41)\" d=\"M 285.608388 224.64 \nL 349.684943 224.64 \nL 349.684943 17.554286 \nL 285.608388 17.554286 \nz\n\" style=\"fill:#1f77b4;\"/>\n   </g>\n   <g id=\"patch_490\">\n    <path clip-path=\"url(#pdb1cad2b41)\" d=\"M 45.321307 224.64 \nL 109.397862 224.64 \nL 109.397862 224.64 \nL 45.321307 224.64 \nz\n\" style=\"fill:#1f77b4;\"/>\n   </g>\n   <g id=\"patch_491\">\n    <path clip-path=\"url(#pdb1cad2b41)\" d=\"M 45.321307 224.64 \nL 109.397862 224.64 \nL 109.397862 224.64 \nL 45.321307 224.64 \nz\n\" style=\"fill:#1f77b4;\"/>\n   </g>\n   <g id=\"patch_492\">\n    <path clip-path=\"url(#pdb1cad2b41)\" d=\"M 45.321307 224.64 \nL 109.397862 224.64 \nL 109.397862 17.554286 \nL 45.321307 17.554286 \nz\n\" style=\"fill:#1f77b4;\"/>\n   </g>\n   <g id=\"patch_493\">\n    <path clip-path=\"url(#pdb1cad2b41)\" d=\"M 45.321307 224.64 \nL 109.397862 224.64 \nL 109.397862 224.64 \nL 45.321307 224.64 \nz\n\" style=\"fill:#1f77b4;\"/>\n   </g>\n   <g id=\"patch_494\">\n    <path clip-path=\"url(#pdb1cad2b41)\" d=\"M 45.321307 224.64 \nL 109.397862 224.64 \nL 109.397862 224.64 \nL 45.321307 224.64 \nz\n\" style=\"fill:#1f77b4;\"/>\n   </g>\n   <g id=\"patch_495\">\n    <path clip-path=\"url(#pdb1cad2b41)\" d=\"M 45.321307 224.64 \nL 109.397862 224.64 \nL 109.397862 224.64 \nL 45.321307 224.64 \nz\n\" style=\"fill:#1f77b4;\"/>\n   </g>\n   <g id=\"patch_496\">\n    <path clip-path=\"url(#pdb1cad2b41)\" d=\"M 45.321307 224.64 \nL 109.397862 224.64 \nL 109.397862 224.64 \nL 45.321307 224.64 \nz\n\" style=\"fill:#1f77b4;\"/>\n   </g>\n   <g id=\"patch_497\">\n    <path clip-path=\"url(#pdb1cad2b41)\" d=\"M 45.321307 224.64 \nL 109.397862 224.64 \nL 109.397862 224.64 \nL 45.321307 224.64 \nz\n\" style=\"fill:#1f77b4;\"/>\n   </g>\n   <g id=\"patch_498\">\n    <path clip-path=\"url(#pdb1cad2b41)\" d=\"M 45.321307 224.64 \nL 109.397862 224.64 \nL 109.397862 224.64 \nL 45.321307 224.64 \nz\n\" style=\"fill:#1f77b4;\"/>\n   </g>\n   <g id=\"patch_499\">\n    <path clip-path=\"url(#pdb1cad2b41)\" d=\"M 285.608388 224.64 \nL 349.684943 224.64 \nL 349.684943 17.554286 \nL 285.608388 17.554286 \nz\n\" style=\"fill:#1f77b4;\"/>\n   </g>\n   <g id=\"patch_500\">\n    <path clip-path=\"url(#pdb1cad2b41)\" d=\"M 45.321307 224.64 \nL 109.397862 224.64 \nL 109.397862 224.64 \nL 45.321307 224.64 \nz\n\" style=\"fill:#1f77b4;\"/>\n   </g>\n   <g id=\"patch_501\">\n    <path clip-path=\"url(#pdb1cad2b41)\" d=\"M 285.608388 224.64 \nL 349.684943 224.64 \nL 349.684943 224.64 \nL 285.608388 224.64 \nz\n\" style=\"fill:#1f77b4;\"/>\n   </g>\n   <g id=\"patch_502\">\n    <path clip-path=\"url(#pdb1cad2b41)\" d=\"M 45.321307 224.64 \nL 109.397862 224.64 \nL 109.397862 224.64 \nL 45.321307 224.64 \nz\n\" style=\"fill:#1f77b4;\"/>\n   </g>\n   <g id=\"patch_503\">\n    <path clip-path=\"url(#pdb1cad2b41)\" d=\"M 45.321307 224.64 \nL 109.397862 224.64 \nL 109.397862 224.64 \nL 45.321307 224.64 \nz\n\" style=\"fill:#1f77b4;\"/>\n   </g>\n   <g id=\"patch_504\">\n    <path clip-path=\"url(#pdb1cad2b41)\" d=\"M 45.321307 224.64 \nL 109.397862 224.64 \nL 109.397862 224.64 \nL 45.321307 224.64 \nz\n\" style=\"fill:#1f77b4;\"/>\n   </g>\n   <g id=\"patch_505\">\n    <path clip-path=\"url(#pdb1cad2b41)\" d=\"M 45.321307 224.64 \nL 109.397862 224.64 \nL 109.397862 224.64 \nL 45.321307 224.64 \nz\n\" style=\"fill:#1f77b4;\"/>\n   </g>\n   <g id=\"patch_506\">\n    <path clip-path=\"url(#pdb1cad2b41)\" d=\"M 125.417001 224.64 \nL 189.493556 224.64 \nL 189.493556 224.64 \nL 125.417001 224.64 \nz\n\" style=\"fill:#1f77b4;\"/>\n   </g>\n   <g id=\"patch_507\">\n    <path clip-path=\"url(#pdb1cad2b41)\" d=\"M 285.608388 224.64 \nL 349.684943 224.64 \nL 349.684943 17.554286 \nL 285.608388 17.554286 \nz\n\" style=\"fill:#1f77b4;\"/>\n   </g>\n   <g id=\"patch_508\">\n    <path clip-path=\"url(#pdb1cad2b41)\" d=\"M 45.321307 224.64 \nL 109.397862 224.64 \nL 109.397862 224.64 \nL 45.321307 224.64 \nz\n\" style=\"fill:#1f77b4;\"/>\n   </g>\n   <g id=\"patch_509\">\n    <path clip-path=\"url(#pdb1cad2b41)\" d=\"M 205.512694 224.64 \nL 269.589249 224.64 \nL 269.589249 17.554286 \nL 205.512694 17.554286 \nz\n\" style=\"fill:#1f77b4;\"/>\n   </g>\n   <g id=\"patch_510\">\n    <path clip-path=\"url(#pdb1cad2b41)\" d=\"M 45.321307 224.64 \nL 109.397862 224.64 \nL 109.397862 17.554286 \nL 45.321307 17.554286 \nz\n\" style=\"fill:#1f77b4;\"/>\n   </g>\n   <g id=\"patch_511\">\n    <path clip-path=\"url(#pdb1cad2b41)\" d=\"M 45.321307 224.64 \nL 109.397862 224.64 \nL 109.397862 224.64 \nL 45.321307 224.64 \nz\n\" style=\"fill:#1f77b4;\"/>\n   </g>\n   <g id=\"patch_512\">\n    <path clip-path=\"url(#pdb1cad2b41)\" d=\"M 45.321307 224.64 \nL 109.397862 224.64 \nL 109.397862 17.554286 \nL 45.321307 17.554286 \nz\n\" style=\"fill:#1f77b4;\"/>\n   </g>\n   <g id=\"patch_513\">\n    <path clip-path=\"url(#pdb1cad2b41)\" d=\"M 45.321307 224.64 \nL 109.397862 224.64 \nL 109.397862 17.554286 \nL 45.321307 17.554286 \nz\n\" style=\"fill:#1f77b4;\"/>\n   </g>\n   <g id=\"patch_514\">\n    <path clip-path=\"url(#pdb1cad2b41)\" d=\"M 45.321307 224.64 \nL 109.397862 224.64 \nL 109.397862 224.64 \nL 45.321307 224.64 \nz\n\" style=\"fill:#1f77b4;\"/>\n   </g>\n   <g id=\"patch_515\">\n    <path clip-path=\"url(#pdb1cad2b41)\" d=\"M 45.321307 224.64 \nL 109.397862 224.64 \nL 109.397862 17.554286 \nL 45.321307 17.554286 \nz\n\" style=\"fill:#1f77b4;\"/>\n   </g>\n   <g id=\"patch_516\">\n    <path clip-path=\"url(#pdb1cad2b41)\" d=\"M 285.608388 224.64 \nL 349.684943 224.64 \nL 349.684943 17.554286 \nL 285.608388 17.554286 \nz\n\" style=\"fill:#1f77b4;\"/>\n   </g>\n   <g id=\"patch_517\">\n    <path clip-path=\"url(#pdb1cad2b41)\" d=\"M 45.321307 224.64 \nL 109.397862 224.64 \nL 109.397862 224.64 \nL 45.321307 224.64 \nz\n\" style=\"fill:#1f77b4;\"/>\n   </g>\n   <g id=\"patch_518\">\n    <path clip-path=\"url(#pdb1cad2b41)\" d=\"M 45.321307 224.64 \nL 109.397862 224.64 \nL 109.397862 224.64 \nL 45.321307 224.64 \nz\n\" style=\"fill:#1f77b4;\"/>\n   </g>\n   <g id=\"patch_519\">\n    <path clip-path=\"url(#pdb1cad2b41)\" d=\"M 125.417001 224.64 \nL 189.493556 224.64 \nL 189.493556 17.554286 \nL 125.417001 17.554286 \nz\n\" style=\"fill:#1f77b4;\"/>\n   </g>\n   <g id=\"patch_520\">\n    <path clip-path=\"url(#pdb1cad2b41)\" d=\"M 45.321307 224.64 \nL 109.397862 224.64 \nL 109.397862 224.64 \nL 45.321307 224.64 \nz\n\" style=\"fill:#1f77b4;\"/>\n   </g>\n   <g id=\"patch_521\">\n    <path clip-path=\"url(#pdb1cad2b41)\" d=\"M 205.512694 224.64 \nL 269.589249 224.64 \nL 269.589249 17.554286 \nL 205.512694 17.554286 \nz\n\" style=\"fill:#1f77b4;\"/>\n   </g>\n   <g id=\"patch_522\">\n    <path clip-path=\"url(#pdb1cad2b41)\" d=\"M 45.321307 224.64 \nL 109.397862 224.64 \nL 109.397862 224.64 \nL 45.321307 224.64 \nz\n\" style=\"fill:#1f77b4;\"/>\n   </g>\n   <g id=\"patch_523\">\n    <path clip-path=\"url(#pdb1cad2b41)\" d=\"M 285.608388 224.64 \nL 349.684943 224.64 \nL 349.684943 17.554286 \nL 285.608388 17.554286 \nz\n\" style=\"fill:#1f77b4;\"/>\n   </g>\n   <g id=\"patch_524\">\n    <path clip-path=\"url(#pdb1cad2b41)\" d=\"M 45.321307 224.64 \nL 109.397862 224.64 \nL 109.397862 224.64 \nL 45.321307 224.64 \nz\n\" style=\"fill:#1f77b4;\"/>\n   </g>\n   <g id=\"patch_525\">\n    <path clip-path=\"url(#pdb1cad2b41)\" d=\"M 45.321307 224.64 \nL 109.397862 224.64 \nL 109.397862 224.64 \nL 45.321307 224.64 \nz\n\" style=\"fill:#1f77b4;\"/>\n   </g>\n   <g id=\"patch_526\">\n    <path clip-path=\"url(#pdb1cad2b41)\" d=\"M 285.608388 224.64 \nL 349.684943 224.64 \nL 349.684943 17.554286 \nL 285.608388 17.554286 \nz\n\" style=\"fill:#1f77b4;\"/>\n   </g>\n   <g id=\"patch_527\">\n    <path clip-path=\"url(#pdb1cad2b41)\" d=\"M 45.321307 224.64 \nL 109.397862 224.64 \nL 109.397862 224.64 \nL 45.321307 224.64 \nz\n\" style=\"fill:#1f77b4;\"/>\n   </g>\n   <g id=\"patch_528\">\n    <path clip-path=\"url(#pdb1cad2b41)\" d=\"M 45.321307 224.64 \nL 109.397862 224.64 \nL 109.397862 224.64 \nL 45.321307 224.64 \nz\n\" style=\"fill:#1f77b4;\"/>\n   </g>\n   <g id=\"patch_529\">\n    <path clip-path=\"url(#pdb1cad2b41)\" d=\"M 125.417001 224.64 \nL 189.493556 224.64 \nL 189.493556 17.554286 \nL 125.417001 17.554286 \nz\n\" style=\"fill:#1f77b4;\"/>\n   </g>\n   <g id=\"patch_530\">\n    <path clip-path=\"url(#pdb1cad2b41)\" d=\"M 45.321307 224.64 \nL 109.397862 224.64 \nL 109.397862 224.64 \nL 45.321307 224.64 \nz\n\" style=\"fill:#1f77b4;\"/>\n   </g>\n   <g id=\"patch_531\">\n    <path clip-path=\"url(#pdb1cad2b41)\" d=\"M 45.321307 224.64 \nL 109.397862 224.64 \nL 109.397862 224.64 \nL 45.321307 224.64 \nz\n\" style=\"fill:#1f77b4;\"/>\n   </g>\n   <g id=\"patch_532\">\n    <path clip-path=\"url(#pdb1cad2b41)\" d=\"M 45.321307 224.64 \nL 109.397862 224.64 \nL 109.397862 224.64 \nL 45.321307 224.64 \nz\n\" style=\"fill:#1f77b4;\"/>\n   </g>\n   <g id=\"patch_533\">\n    <path clip-path=\"url(#pdb1cad2b41)\" d=\"M 205.512694 224.64 \nL 269.589249 224.64 \nL 269.589249 17.554286 \nL 205.512694 17.554286 \nz\n\" style=\"fill:#1f77b4;\"/>\n   </g>\n   <g id=\"patch_534\">\n    <path clip-path=\"url(#pdb1cad2b41)\" d=\"M 45.321307 224.64 \nL 109.397862 224.64 \nL 109.397862 224.64 \nL 45.321307 224.64 \nz\n\" style=\"fill:#1f77b4;\"/>\n   </g>\n   <g id=\"patch_535\">\n    <path clip-path=\"url(#pdb1cad2b41)\" d=\"M 45.321307 224.64 \nL 109.397862 224.64 \nL 109.397862 224.64 \nL 45.321307 224.64 \nz\n\" style=\"fill:#1f77b4;\"/>\n   </g>\n   <g id=\"patch_536\">\n    <path clip-path=\"url(#pdb1cad2b41)\" d=\"M 205.512694 224.64 \nL 269.589249 224.64 \nL 269.589249 17.554286 \nL 205.512694 17.554286 \nz\n\" style=\"fill:#1f77b4;\"/>\n   </g>\n   <g id=\"patch_537\">\n    <path clip-path=\"url(#pdb1cad2b41)\" d=\"M 125.417001 224.64 \nL 189.493556 224.64 \nL 189.493556 224.64 \nL 125.417001 224.64 \nz\n\" style=\"fill:#1f77b4;\"/>\n   </g>\n   <g id=\"patch_538\">\n    <path clip-path=\"url(#pdb1cad2b41)\" d=\"M 205.512694 224.64 \nL 269.589249 224.64 \nL 269.589249 17.554286 \nL 205.512694 17.554286 \nz\n\" style=\"fill:#1f77b4;\"/>\n   </g>\n   <g id=\"patch_539\">\n    <path clip-path=\"url(#pdb1cad2b41)\" d=\"M 45.321307 224.64 \nL 109.397862 224.64 \nL 109.397862 224.64 \nL 45.321307 224.64 \nz\n\" style=\"fill:#1f77b4;\"/>\n   </g>\n   <g id=\"patch_540\">\n    <path clip-path=\"url(#pdb1cad2b41)\" d=\"M 285.608388 224.64 \nL 349.684943 224.64 \nL 349.684943 17.554286 \nL 285.608388 17.554286 \nz\n\" style=\"fill:#1f77b4;\"/>\n   </g>\n   <g id=\"patch_541\">\n    <path clip-path=\"url(#pdb1cad2b41)\" d=\"M 45.321307 224.64 \nL 109.397862 224.64 \nL 109.397862 224.64 \nL 45.321307 224.64 \nz\n\" style=\"fill:#1f77b4;\"/>\n   </g>\n   <g id=\"patch_542\">\n    <path clip-path=\"url(#pdb1cad2b41)\" d=\"M 285.608388 224.64 \nL 349.684943 224.64 \nL 349.684943 17.554286 \nL 285.608388 17.554286 \nz\n\" style=\"fill:#1f77b4;\"/>\n   </g>\n   <g id=\"patch_543\">\n    <path clip-path=\"url(#pdb1cad2b41)\" d=\"M 285.608388 224.64 \nL 349.684943 224.64 \nL 349.684943 17.554286 \nL 285.608388 17.554286 \nz\n\" style=\"fill:#1f77b4;\"/>\n   </g>\n   <g id=\"patch_544\">\n    <path clip-path=\"url(#pdb1cad2b41)\" d=\"M 285.608388 224.64 \nL 349.684943 224.64 \nL 349.684943 224.64 \nL 285.608388 224.64 \nz\n\" style=\"fill:#1f77b4;\"/>\n   </g>\n   <g id=\"patch_545\">\n    <path clip-path=\"url(#pdb1cad2b41)\" d=\"M 285.608388 224.64 \nL 349.684943 224.64 \nL 349.684943 224.64 \nL 285.608388 224.64 \nz\n\" style=\"fill:#1f77b4;\"/>\n   </g>\n   <g id=\"patch_546\">\n    <path clip-path=\"url(#pdb1cad2b41)\" d=\"M 45.321307 224.64 \nL 109.397862 224.64 \nL 109.397862 17.554286 \nL 45.321307 17.554286 \nz\n\" style=\"fill:#1f77b4;\"/>\n   </g>\n   <g id=\"patch_547\">\n    <path clip-path=\"url(#pdb1cad2b41)\" d=\"M 45.321307 224.64 \nL 109.397862 224.64 \nL 109.397862 224.64 \nL 45.321307 224.64 \nz\n\" style=\"fill:#1f77b4;\"/>\n   </g>\n   <g id=\"patch_548\">\n    <path clip-path=\"url(#pdb1cad2b41)\" d=\"M 45.321307 224.64 \nL 109.397862 224.64 \nL 109.397862 224.64 \nL 45.321307 224.64 \nz\n\" style=\"fill:#1f77b4;\"/>\n   </g>\n   <g id=\"patch_549\">\n    <path clip-path=\"url(#pdb1cad2b41)\" d=\"M 205.512694 224.64 \nL 269.589249 224.64 \nL 269.589249 17.554286 \nL 205.512694 17.554286 \nz\n\" style=\"fill:#1f77b4;\"/>\n   </g>\n   <g id=\"patch_550\">\n    <path clip-path=\"url(#pdb1cad2b41)\" d=\"M 45.321307 224.64 \nL 109.397862 224.64 \nL 109.397862 17.554286 \nL 45.321307 17.554286 \nz\n\" style=\"fill:#1f77b4;\"/>\n   </g>\n   <g id=\"patch_551\">\n    <path clip-path=\"url(#pdb1cad2b41)\" d=\"M 45.321307 224.64 \nL 109.397862 224.64 \nL 109.397862 224.64 \nL 45.321307 224.64 \nz\n\" style=\"fill:#1f77b4;\"/>\n   </g>\n   <g id=\"patch_552\">\n    <path clip-path=\"url(#pdb1cad2b41)\" d=\"M 45.321307 224.64 \nL 109.397862 224.64 \nL 109.397862 17.554286 \nL 45.321307 17.554286 \nz\n\" style=\"fill:#1f77b4;\"/>\n   </g>\n   <g id=\"patch_553\">\n    <path clip-path=\"url(#pdb1cad2b41)\" d=\"M 45.321307 224.64 \nL 109.397862 224.64 \nL 109.397862 17.554286 \nL 45.321307 17.554286 \nz\n\" style=\"fill:#1f77b4;\"/>\n   </g>\n   <g id=\"patch_554\">\n    <path clip-path=\"url(#pdb1cad2b41)\" d=\"M 45.321307 224.64 \nL 109.397862 224.64 \nL 109.397862 224.64 \nL 45.321307 224.64 \nz\n\" style=\"fill:#1f77b4;\"/>\n   </g>\n   <g id=\"patch_555\">\n    <path clip-path=\"url(#pdb1cad2b41)\" d=\"M 45.321307 224.64 \nL 109.397862 224.64 \nL 109.397862 224.64 \nL 45.321307 224.64 \nz\n\" style=\"fill:#1f77b4;\"/>\n   </g>\n   <g id=\"patch_556\">\n    <path clip-path=\"url(#pdb1cad2b41)\" d=\"M 45.321307 224.64 \nL 109.397862 224.64 \nL 109.397862 17.554286 \nL 45.321307 17.554286 \nz\n\" style=\"fill:#1f77b4;\"/>\n   </g>\n   <g id=\"patch_557\">\n    <path clip-path=\"url(#pdb1cad2b41)\" d=\"M 45.321307 224.64 \nL 109.397862 224.64 \nL 109.397862 17.554286 \nL 45.321307 17.554286 \nz\n\" style=\"fill:#1f77b4;\"/>\n   </g>\n   <g id=\"patch_558\">\n    <path clip-path=\"url(#pdb1cad2b41)\" d=\"M 45.321307 224.64 \nL 109.397862 224.64 \nL 109.397862 224.64 \nL 45.321307 224.64 \nz\n\" style=\"fill:#1f77b4;\"/>\n   </g>\n   <g id=\"patch_559\">\n    <path clip-path=\"url(#pdb1cad2b41)\" d=\"M 285.608388 224.64 \nL 349.684943 224.64 \nL 349.684943 17.554286 \nL 285.608388 17.554286 \nz\n\" style=\"fill:#1f77b4;\"/>\n   </g>\n   <g id=\"patch_560\">\n    <path clip-path=\"url(#pdb1cad2b41)\" d=\"M 45.321307 224.64 \nL 109.397862 224.64 \nL 109.397862 224.64 \nL 45.321307 224.64 \nz\n\" style=\"fill:#1f77b4;\"/>\n   </g>\n   <g id=\"patch_561\">\n    <path clip-path=\"url(#pdb1cad2b41)\" d=\"M 285.608388 224.64 \nL 349.684943 224.64 \nL 349.684943 17.554286 \nL 285.608388 17.554286 \nz\n\" style=\"fill:#1f77b4;\"/>\n   </g>\n   <g id=\"patch_562\">\n    <path clip-path=\"url(#pdb1cad2b41)\" d=\"M 205.512694 224.64 \nL 269.589249 224.64 \nL 269.589249 17.554286 \nL 205.512694 17.554286 \nz\n\" style=\"fill:#1f77b4;\"/>\n   </g>\n   <g id=\"patch_563\">\n    <path clip-path=\"url(#pdb1cad2b41)\" d=\"M 45.321307 224.64 \nL 109.397862 224.64 \nL 109.397862 224.64 \nL 45.321307 224.64 \nz\n\" style=\"fill:#1f77b4;\"/>\n   </g>\n   <g id=\"patch_564\">\n    <path clip-path=\"url(#pdb1cad2b41)\" d=\"M 45.321307 224.64 \nL 109.397862 224.64 \nL 109.397862 224.64 \nL 45.321307 224.64 \nz\n\" style=\"fill:#1f77b4;\"/>\n   </g>\n   <g id=\"patch_565\">\n    <path clip-path=\"url(#pdb1cad2b41)\" d=\"M 45.321307 224.64 \nL 109.397862 224.64 \nL 109.397862 224.64 \nL 45.321307 224.64 \nz\n\" style=\"fill:#1f77b4;\"/>\n   </g>\n   <g id=\"patch_566\">\n    <path clip-path=\"url(#pdb1cad2b41)\" d=\"M 45.321307 224.64 \nL 109.397862 224.64 \nL 109.397862 224.64 \nL 45.321307 224.64 \nz\n\" style=\"fill:#1f77b4;\"/>\n   </g>\n   <g id=\"patch_567\">\n    <path clip-path=\"url(#pdb1cad2b41)\" d=\"M 125.417001 224.64 \nL 189.493556 224.64 \nL 189.493556 224.64 \nL 125.417001 224.64 \nz\n\" style=\"fill:#1f77b4;\"/>\n   </g>\n   <g id=\"patch_568\">\n    <path clip-path=\"url(#pdb1cad2b41)\" d=\"M 45.321307 224.64 \nL 109.397862 224.64 \nL 109.397862 224.64 \nL 45.321307 224.64 \nz\n\" style=\"fill:#1f77b4;\"/>\n   </g>\n   <g id=\"patch_569\">\n    <path clip-path=\"url(#pdb1cad2b41)\" d=\"M 45.321307 224.64 \nL 109.397862 224.64 \nL 109.397862 224.64 \nL 45.321307 224.64 \nz\n\" style=\"fill:#1f77b4;\"/>\n   </g>\n   <g id=\"patch_570\">\n    <path clip-path=\"url(#pdb1cad2b41)\" d=\"M 205.512694 224.64 \nL 269.589249 224.64 \nL 269.589249 224.64 \nL 205.512694 224.64 \nz\n\" style=\"fill:#1f77b4;\"/>\n   </g>\n   <g id=\"patch_571\">\n    <path clip-path=\"url(#pdb1cad2b41)\" d=\"M 45.321307 224.64 \nL 109.397862 224.64 \nL 109.397862 224.64 \nL 45.321307 224.64 \nz\n\" style=\"fill:#1f77b4;\"/>\n   </g>\n   <g id=\"patch_572\">\n    <path clip-path=\"url(#pdb1cad2b41)\" d=\"M 45.321307 224.64 \nL 109.397862 224.64 \nL 109.397862 17.554286 \nL 45.321307 17.554286 \nz\n\" style=\"fill:#1f77b4;\"/>\n   </g>\n   <g id=\"patch_573\">\n    <path clip-path=\"url(#pdb1cad2b41)\" d=\"M 45.321307 224.64 \nL 109.397862 224.64 \nL 109.397862 17.554286 \nL 45.321307 17.554286 \nz\n\" style=\"fill:#1f77b4;\"/>\n   </g>\n   <g id=\"patch_574\">\n    <path clip-path=\"url(#pdb1cad2b41)\" d=\"M 285.608388 224.64 \nL 349.684943 224.64 \nL 349.684943 17.554286 \nL 285.608388 17.554286 \nz\n\" style=\"fill:#1f77b4;\"/>\n   </g>\n   <g id=\"patch_575\">\n    <path clip-path=\"url(#pdb1cad2b41)\" d=\"M 45.321307 224.64 \nL 109.397862 224.64 \nL 109.397862 17.554286 \nL 45.321307 17.554286 \nz\n\" style=\"fill:#1f77b4;\"/>\n   </g>\n   <g id=\"patch_576\">\n    <path clip-path=\"url(#pdb1cad2b41)\" d=\"M 45.321307 224.64 \nL 109.397862 224.64 \nL 109.397862 17.554286 \nL 45.321307 17.554286 \nz\n\" style=\"fill:#1f77b4;\"/>\n   </g>\n   <g id=\"patch_577\">\n    <path clip-path=\"url(#pdb1cad2b41)\" d=\"M 45.321307 224.64 \nL 109.397862 224.64 \nL 109.397862 224.64 \nL 45.321307 224.64 \nz\n\" style=\"fill:#1f77b4;\"/>\n   </g>\n   <g id=\"patch_578\">\n    <path clip-path=\"url(#pdb1cad2b41)\" d=\"M 45.321307 224.64 \nL 109.397862 224.64 \nL 109.397862 224.64 \nL 45.321307 224.64 \nz\n\" style=\"fill:#1f77b4;\"/>\n   </g>\n   <g id=\"patch_579\">\n    <path clip-path=\"url(#pdb1cad2b41)\" d=\"M 125.417001 224.64 \nL 189.493556 224.64 \nL 189.493556 17.554286 \nL 125.417001 17.554286 \nz\n\" style=\"fill:#1f77b4;\"/>\n   </g>\n   <g id=\"patch_580\">\n    <path clip-path=\"url(#pdb1cad2b41)\" d=\"M 285.608388 224.64 \nL 349.684943 224.64 \nL 349.684943 17.554286 \nL 285.608388 17.554286 \nz\n\" style=\"fill:#1f77b4;\"/>\n   </g>\n   <g id=\"patch_581\">\n    <path clip-path=\"url(#pdb1cad2b41)\" d=\"M 205.512694 224.64 \nL 269.589249 224.64 \nL 269.589249 224.64 \nL 205.512694 224.64 \nz\n\" style=\"fill:#1f77b4;\"/>\n   </g>\n   <g id=\"patch_582\">\n    <path clip-path=\"url(#pdb1cad2b41)\" d=\"M 45.321307 224.64 \nL 109.397862 224.64 \nL 109.397862 17.554286 \nL 45.321307 17.554286 \nz\n\" style=\"fill:#1f77b4;\"/>\n   </g>\n   <g id=\"patch_583\">\n    <path clip-path=\"url(#pdb1cad2b41)\" d=\"M 205.512694 224.64 \nL 269.589249 224.64 \nL 269.589249 17.554286 \nL 205.512694 17.554286 \nz\n\" style=\"fill:#1f77b4;\"/>\n   </g>\n   <g id=\"patch_584\">\n    <path clip-path=\"url(#pdb1cad2b41)\" d=\"M 285.608388 224.64 \nL 349.684943 224.64 \nL 349.684943 17.554286 \nL 285.608388 17.554286 \nz\n\" style=\"fill:#1f77b4;\"/>\n   </g>\n   <g id=\"patch_585\">\n    <path clip-path=\"url(#pdb1cad2b41)\" d=\"M 45.321307 224.64 \nL 109.397862 224.64 \nL 109.397862 224.64 \nL 45.321307 224.64 \nz\n\" style=\"fill:#1f77b4;\"/>\n   </g>\n   <g id=\"patch_586\">\n    <path clip-path=\"url(#pdb1cad2b41)\" d=\"M 45.321307 224.64 \nL 109.397862 224.64 \nL 109.397862 224.64 \nL 45.321307 224.64 \nz\n\" style=\"fill:#1f77b4;\"/>\n   </g>\n   <g id=\"patch_587\">\n    <path clip-path=\"url(#pdb1cad2b41)\" d=\"M 45.321307 224.64 \nL 109.397862 224.64 \nL 109.397862 224.64 \nL 45.321307 224.64 \nz\n\" style=\"fill:#1f77b4;\"/>\n   </g>\n   <g id=\"patch_588\">\n    <path clip-path=\"url(#pdb1cad2b41)\" d=\"M 285.608388 224.64 \nL 349.684943 224.64 \nL 349.684943 17.554286 \nL 285.608388 17.554286 \nz\n\" style=\"fill:#1f77b4;\"/>\n   </g>\n   <g id=\"patch_589\">\n    <path clip-path=\"url(#pdb1cad2b41)\" d=\"M 45.321307 224.64 \nL 109.397862 224.64 \nL 109.397862 224.64 \nL 45.321307 224.64 \nz\n\" style=\"fill:#1f77b4;\"/>\n   </g>\n   <g id=\"patch_590\">\n    <path clip-path=\"url(#pdb1cad2b41)\" d=\"M 45.321307 224.64 \nL 109.397862 224.64 \nL 109.397862 17.554286 \nL 45.321307 17.554286 \nz\n\" style=\"fill:#1f77b4;\"/>\n   </g>\n   <g id=\"patch_591\">\n    <path clip-path=\"url(#pdb1cad2b41)\" d=\"M 45.321307 224.64 \nL 109.397862 224.64 \nL 109.397862 224.64 \nL 45.321307 224.64 \nz\n\" style=\"fill:#1f77b4;\"/>\n   </g>\n   <g id=\"patch_592\">\n    <path clip-path=\"url(#pdb1cad2b41)\" d=\"M 45.321307 224.64 \nL 109.397862 224.64 \nL 109.397862 224.64 \nL 45.321307 224.64 \nz\n\" style=\"fill:#1f77b4;\"/>\n   </g>\n   <g id=\"patch_593\">\n    <path clip-path=\"url(#pdb1cad2b41)\" d=\"M 45.321307 224.64 \nL 109.397862 224.64 \nL 109.397862 224.64 \nL 45.321307 224.64 \nz\n\" style=\"fill:#1f77b4;\"/>\n   </g>\n   <g id=\"patch_594\">\n    <path clip-path=\"url(#pdb1cad2b41)\" d=\"M 285.608388 224.64 \nL 349.684943 224.64 \nL 349.684943 17.554286 \nL 285.608388 17.554286 \nz\n\" style=\"fill:#1f77b4;\"/>\n   </g>\n   <g id=\"patch_595\">\n    <path clip-path=\"url(#pdb1cad2b41)\" d=\"M 45.321307 224.64 \nL 109.397862 224.64 \nL 109.397862 224.64 \nL 45.321307 224.64 \nz\n\" style=\"fill:#1f77b4;\"/>\n   </g>\n   <g id=\"patch_596\">\n    <path clip-path=\"url(#pdb1cad2b41)\" d=\"M 45.321307 224.64 \nL 109.397862 224.64 \nL 109.397862 224.64 \nL 45.321307 224.64 \nz\n\" style=\"fill:#1f77b4;\"/>\n   </g>\n   <g id=\"patch_597\">\n    <path clip-path=\"url(#pdb1cad2b41)\" d=\"M 45.321307 224.64 \nL 109.397862 224.64 \nL 109.397862 224.64 \nL 45.321307 224.64 \nz\n\" style=\"fill:#1f77b4;\"/>\n   </g>\n   <g id=\"patch_598\">\n    <path clip-path=\"url(#pdb1cad2b41)\" d=\"M 45.321307 224.64 \nL 109.397862 224.64 \nL 109.397862 224.64 \nL 45.321307 224.64 \nz\n\" style=\"fill:#1f77b4;\"/>\n   </g>\n   <g id=\"patch_599\">\n    <path clip-path=\"url(#pdb1cad2b41)\" d=\"M 285.608388 224.64 \nL 349.684943 224.64 \nL 349.684943 17.554286 \nL 285.608388 17.554286 \nz\n\" style=\"fill:#1f77b4;\"/>\n   </g>\n   <g id=\"patch_600\">\n    <path clip-path=\"url(#pdb1cad2b41)\" d=\"M 45.321307 224.64 \nL 109.397862 224.64 \nL 109.397862 224.64 \nL 45.321307 224.64 \nz\n\" style=\"fill:#1f77b4;\"/>\n   </g>\n   <g id=\"patch_601\">\n    <path clip-path=\"url(#pdb1cad2b41)\" d=\"M 45.321307 224.64 \nL 109.397862 224.64 \nL 109.397862 224.64 \nL 45.321307 224.64 \nz\n\" style=\"fill:#1f77b4;\"/>\n   </g>\n   <g id=\"patch_602\">\n    <path clip-path=\"url(#pdb1cad2b41)\" d=\"M 45.321307 224.64 \nL 109.397862 224.64 \nL 109.397862 17.554286 \nL 45.321307 17.554286 \nz\n\" style=\"fill:#1f77b4;\"/>\n   </g>\n   <g id=\"patch_603\">\n    <path clip-path=\"url(#pdb1cad2b41)\" d=\"M 205.512694 224.64 \nL 269.589249 224.64 \nL 269.589249 17.554286 \nL 205.512694 17.554286 \nz\n\" style=\"fill:#1f77b4;\"/>\n   </g>\n   <g id=\"patch_604\">\n    <path clip-path=\"url(#pdb1cad2b41)\" d=\"M 45.321307 224.64 \nL 109.397862 224.64 \nL 109.397862 224.64 \nL 45.321307 224.64 \nz\n\" style=\"fill:#1f77b4;\"/>\n   </g>\n   <g id=\"patch_605\">\n    <path clip-path=\"url(#pdb1cad2b41)\" d=\"M 45.321307 224.64 \nL 109.397862 224.64 \nL 109.397862 224.64 \nL 45.321307 224.64 \nz\n\" style=\"fill:#1f77b4;\"/>\n   </g>\n   <g id=\"patch_606\">\n    <path clip-path=\"url(#pdb1cad2b41)\" d=\"M 45.321307 224.64 \nL 109.397862 224.64 \nL 109.397862 224.64 \nL 45.321307 224.64 \nz\n\" style=\"fill:#1f77b4;\"/>\n   </g>\n   <g id=\"patch_607\">\n    <path clip-path=\"url(#pdb1cad2b41)\" d=\"M 45.321307 224.64 \nL 109.397862 224.64 \nL 109.397862 17.554286 \nL 45.321307 17.554286 \nz\n\" style=\"fill:#1f77b4;\"/>\n   </g>\n   <g id=\"patch_608\">\n    <path clip-path=\"url(#pdb1cad2b41)\" d=\"M 45.321307 224.64 \nL 109.397862 224.64 \nL 109.397862 224.64 \nL 45.321307 224.64 \nz\n\" style=\"fill:#1f77b4;\"/>\n   </g>\n   <g id=\"patch_609\">\n    <path clip-path=\"url(#pdb1cad2b41)\" d=\"M 45.321307 224.64 \nL 109.397862 224.64 \nL 109.397862 224.64 \nL 45.321307 224.64 \nz\n\" style=\"fill:#1f77b4;\"/>\n   </g>\n   <g id=\"patch_610\">\n    <path clip-path=\"url(#pdb1cad2b41)\" d=\"M 45.321307 224.64 \nL 109.397862 224.64 \nL 109.397862 17.554286 \nL 45.321307 17.554286 \nz\n\" style=\"fill:#1f77b4;\"/>\n   </g>\n   <g id=\"patch_611\">\n    <path clip-path=\"url(#pdb1cad2b41)\" d=\"M 285.608388 224.64 \nL 349.684943 224.64 \nL 349.684943 17.554286 \nL 285.608388 17.554286 \nz\n\" style=\"fill:#1f77b4;\"/>\n   </g>\n   <g id=\"patch_612\">\n    <path clip-path=\"url(#pdb1cad2b41)\" d=\"M 285.608388 224.64 \nL 349.684943 224.64 \nL 349.684943 17.554286 \nL 285.608388 17.554286 \nz\n\" style=\"fill:#1f77b4;\"/>\n   </g>\n   <g id=\"patch_613\">\n    <path clip-path=\"url(#pdb1cad2b41)\" d=\"M 285.608388 224.64 \nL 349.684943 224.64 \nL 349.684943 224.64 \nL 285.608388 224.64 \nz\n\" style=\"fill:#1f77b4;\"/>\n   </g>\n   <g id=\"patch_614\">\n    <path clip-path=\"url(#pdb1cad2b41)\" d=\"M 45.321307 224.64 \nL 109.397862 224.64 \nL 109.397862 224.64 \nL 45.321307 224.64 \nz\n\" style=\"fill:#1f77b4;\"/>\n   </g>\n   <g id=\"patch_615\">\n    <path clip-path=\"url(#pdb1cad2b41)\" d=\"M 205.512694 224.64 \nL 269.589249 224.64 \nL 269.589249 17.554286 \nL 205.512694 17.554286 \nz\n\" style=\"fill:#1f77b4;\"/>\n   </g>\n   <g id=\"patch_616\">\n    <path clip-path=\"url(#pdb1cad2b41)\" d=\"M 45.321307 224.64 \nL 109.397862 224.64 \nL 109.397862 224.64 \nL 45.321307 224.64 \nz\n\" style=\"fill:#1f77b4;\"/>\n   </g>\n   <g id=\"patch_617\">\n    <path clip-path=\"url(#pdb1cad2b41)\" d=\"M 45.321307 224.64 \nL 109.397862 224.64 \nL 109.397862 224.64 \nL 45.321307 224.64 \nz\n\" style=\"fill:#1f77b4;\"/>\n   </g>\n   <g id=\"patch_618\">\n    <path clip-path=\"url(#pdb1cad2b41)\" d=\"M 285.608388 224.64 \nL 349.684943 224.64 \nL 349.684943 17.554286 \nL 285.608388 17.554286 \nz\n\" style=\"fill:#1f77b4;\"/>\n   </g>\n   <g id=\"patch_619\">\n    <path clip-path=\"url(#pdb1cad2b41)\" d=\"M 45.321307 224.64 \nL 109.397862 224.64 \nL 109.397862 224.64 \nL 45.321307 224.64 \nz\n\" style=\"fill:#1f77b4;\"/>\n   </g>\n   <g id=\"patch_620\">\n    <path clip-path=\"url(#pdb1cad2b41)\" d=\"M 205.512694 224.64 \nL 269.589249 224.64 \nL 269.589249 224.64 \nL 205.512694 224.64 \nz\n\" style=\"fill:#1f77b4;\"/>\n   </g>\n   <g id=\"patch_621\">\n    <path clip-path=\"url(#pdb1cad2b41)\" d=\"M 285.608388 224.64 \nL 349.684943 224.64 \nL 349.684943 17.554286 \nL 285.608388 17.554286 \nz\n\" style=\"fill:#1f77b4;\"/>\n   </g>\n   <g id=\"patch_622\">\n    <path clip-path=\"url(#pdb1cad2b41)\" d=\"M 45.321307 224.64 \nL 109.397862 224.64 \nL 109.397862 224.64 \nL 45.321307 224.64 \nz\n\" style=\"fill:#1f77b4;\"/>\n   </g>\n   <g id=\"patch_623\">\n    <path clip-path=\"url(#pdb1cad2b41)\" d=\"M 45.321307 224.64 \nL 109.397862 224.64 \nL 109.397862 224.64 \nL 45.321307 224.64 \nz\n\" style=\"fill:#1f77b4;\"/>\n   </g>\n   <g id=\"patch_624\">\n    <path clip-path=\"url(#pdb1cad2b41)\" d=\"M 45.321307 224.64 \nL 109.397862 224.64 \nL 109.397862 17.554286 \nL 45.321307 17.554286 \nz\n\" style=\"fill:#1f77b4;\"/>\n   </g>\n   <g id=\"patch_625\">\n    <path clip-path=\"url(#pdb1cad2b41)\" d=\"M 45.321307 224.64 \nL 109.397862 224.64 \nL 109.397862 17.554286 \nL 45.321307 17.554286 \nz\n\" style=\"fill:#1f77b4;\"/>\n   </g>\n   <g id=\"patch_626\">\n    <path clip-path=\"url(#pdb1cad2b41)\" d=\"M 45.321307 224.64 \nL 109.397862 224.64 \nL 109.397862 224.64 \nL 45.321307 224.64 \nz\n\" style=\"fill:#1f77b4;\"/>\n   </g>\n   <g id=\"patch_627\">\n    <path clip-path=\"url(#pdb1cad2b41)\" d=\"M 45.321307 224.64 \nL 109.397862 224.64 \nL 109.397862 224.64 \nL 45.321307 224.64 \nz\n\" style=\"fill:#1f77b4;\"/>\n   </g>\n   <g id=\"patch_628\">\n    <path clip-path=\"url(#pdb1cad2b41)\" d=\"M 45.321307 224.64 \nL 109.397862 224.64 \nL 109.397862 224.64 \nL 45.321307 224.64 \nz\n\" style=\"fill:#1f77b4;\"/>\n   </g>\n   <g id=\"patch_629\">\n    <path clip-path=\"url(#pdb1cad2b41)\" d=\"M 45.321307 224.64 \nL 109.397862 224.64 \nL 109.397862 224.64 \nL 45.321307 224.64 \nz\n\" style=\"fill:#1f77b4;\"/>\n   </g>\n   <g id=\"patch_630\">\n    <path clip-path=\"url(#pdb1cad2b41)\" d=\"M 285.608388 224.64 \nL 349.684943 224.64 \nL 349.684943 17.554286 \nL 285.608388 17.554286 \nz\n\" style=\"fill:#1f77b4;\"/>\n   </g>\n   <g id=\"patch_631\">\n    <path clip-path=\"url(#pdb1cad2b41)\" d=\"M 45.321307 224.64 \nL 109.397862 224.64 \nL 109.397862 224.64 \nL 45.321307 224.64 \nz\n\" style=\"fill:#1f77b4;\"/>\n   </g>\n   <g id=\"patch_632\">\n    <path clip-path=\"url(#pdb1cad2b41)\" d=\"M 45.321307 224.64 \nL 109.397862 224.64 \nL 109.397862 224.64 \nL 45.321307 224.64 \nz\n\" style=\"fill:#1f77b4;\"/>\n   </g>\n   <g id=\"patch_633\">\n    <path clip-path=\"url(#pdb1cad2b41)\" d=\"M 45.321307 224.64 \nL 109.397862 224.64 \nL 109.397862 17.554286 \nL 45.321307 17.554286 \nz\n\" style=\"fill:#1f77b4;\"/>\n   </g>\n   <g id=\"patch_634\">\n    <path clip-path=\"url(#pdb1cad2b41)\" d=\"M 45.321307 224.64 \nL 109.397862 224.64 \nL 109.397862 224.64 \nL 45.321307 224.64 \nz\n\" style=\"fill:#1f77b4;\"/>\n   </g>\n   <g id=\"patch_635\">\n    <path clip-path=\"url(#pdb1cad2b41)\" d=\"M 45.321307 224.64 \nL 109.397862 224.64 \nL 109.397862 17.554286 \nL 45.321307 17.554286 \nz\n\" style=\"fill:#1f77b4;\"/>\n   </g>\n   <g id=\"patch_636\">\n    <path clip-path=\"url(#pdb1cad2b41)\" d=\"M 45.321307 224.64 \nL 109.397862 224.64 \nL 109.397862 224.64 \nL 45.321307 224.64 \nz\n\" style=\"fill:#1f77b4;\"/>\n   </g>\n   <g id=\"patch_637\">\n    <path clip-path=\"url(#pdb1cad2b41)\" d=\"M 205.512694 224.64 \nL 269.589249 224.64 \nL 269.589249 224.64 \nL 205.512694 224.64 \nz\n\" style=\"fill:#1f77b4;\"/>\n   </g>\n   <g id=\"patch_638\">\n    <path clip-path=\"url(#pdb1cad2b41)\" d=\"M 125.417001 224.64 \nL 189.493556 224.64 \nL 189.493556 17.554286 \nL 125.417001 17.554286 \nz\n\" style=\"fill:#1f77b4;\"/>\n   </g>\n   <g id=\"patch_639\">\n    <path clip-path=\"url(#pdb1cad2b41)\" d=\"M 45.321307 224.64 \nL 109.397862 224.64 \nL 109.397862 224.64 \nL 45.321307 224.64 \nz\n\" style=\"fill:#1f77b4;\"/>\n   </g>\n   <g id=\"patch_640\">\n    <path clip-path=\"url(#pdb1cad2b41)\" d=\"M 45.321307 224.64 \nL 109.397862 224.64 \nL 109.397862 224.64 \nL 45.321307 224.64 \nz\n\" style=\"fill:#1f77b4;\"/>\n   </g>\n   <g id=\"patch_641\">\n    <path clip-path=\"url(#pdb1cad2b41)\" d=\"M 285.608388 224.64 \nL 349.684943 224.64 \nL 349.684943 224.64 \nL 285.608388 224.64 \nz\n\" style=\"fill:#1f77b4;\"/>\n   </g>\n   <g id=\"patch_642\">\n    <path clip-path=\"url(#pdb1cad2b41)\" d=\"M 45.321307 224.64 \nL 109.397862 224.64 \nL 109.397862 224.64 \nL 45.321307 224.64 \nz\n\" style=\"fill:#1f77b4;\"/>\n   </g>\n   <g id=\"patch_643\">\n    <path clip-path=\"url(#pdb1cad2b41)\" d=\"M 45.321307 224.64 \nL 109.397862 224.64 \nL 109.397862 224.64 \nL 45.321307 224.64 \nz\n\" style=\"fill:#1f77b4;\"/>\n   </g>\n   <g id=\"patch_644\">\n    <path clip-path=\"url(#pdb1cad2b41)\" d=\"M 285.608388 224.64 \nL 349.684943 224.64 \nL 349.684943 17.554286 \nL 285.608388 17.554286 \nz\n\" style=\"fill:#1f77b4;\"/>\n   </g>\n   <g id=\"patch_645\">\n    <path clip-path=\"url(#pdb1cad2b41)\" d=\"M 205.512694 224.64 \nL 269.589249 224.64 \nL 269.589249 224.64 \nL 205.512694 224.64 \nz\n\" style=\"fill:#1f77b4;\"/>\n   </g>\n   <g id=\"patch_646\">\n    <path clip-path=\"url(#pdb1cad2b41)\" d=\"M 45.321307 224.64 \nL 109.397862 224.64 \nL 109.397862 17.554286 \nL 45.321307 17.554286 \nz\n\" style=\"fill:#1f77b4;\"/>\n   </g>\n   <g id=\"patch_647\">\n    <path clip-path=\"url(#pdb1cad2b41)\" d=\"M 205.512694 224.64 \nL 269.589249 224.64 \nL 269.589249 17.554286 \nL 205.512694 17.554286 \nz\n\" style=\"fill:#1f77b4;\"/>\n   </g>\n   <g id=\"patch_648\">\n    <path clip-path=\"url(#pdb1cad2b41)\" d=\"M 45.321307 224.64 \nL 109.397862 224.64 \nL 109.397862 17.554286 \nL 45.321307 17.554286 \nz\n\" style=\"fill:#1f77b4;\"/>\n   </g>\n   <g id=\"patch_649\">\n    <path clip-path=\"url(#pdb1cad2b41)\" d=\"M 45.321307 224.64 \nL 109.397862 224.64 \nL 109.397862 224.64 \nL 45.321307 224.64 \nz\n\" style=\"fill:#1f77b4;\"/>\n   </g>\n   <g id=\"patch_650\">\n    <path clip-path=\"url(#pdb1cad2b41)\" d=\"M 45.321307 224.64 \nL 109.397862 224.64 \nL 109.397862 17.554286 \nL 45.321307 17.554286 \nz\n\" style=\"fill:#1f77b4;\"/>\n   </g>\n   <g id=\"patch_651\">\n    <path clip-path=\"url(#pdb1cad2b41)\" d=\"M 45.321307 224.64 \nL 109.397862 224.64 \nL 109.397862 224.64 \nL 45.321307 224.64 \nz\n\" style=\"fill:#1f77b4;\"/>\n   </g>\n   <g id=\"patch_652\">\n    <path clip-path=\"url(#pdb1cad2b41)\" d=\"M 45.321307 224.64 \nL 109.397862 224.64 \nL 109.397862 17.554286 \nL 45.321307 17.554286 \nz\n\" style=\"fill:#1f77b4;\"/>\n   </g>\n   <g id=\"patch_653\">\n    <path clip-path=\"url(#pdb1cad2b41)\" d=\"M 45.321307 224.64 \nL 109.397862 224.64 \nL 109.397862 224.64 \nL 45.321307 224.64 \nz\n\" style=\"fill:#1f77b4;\"/>\n   </g>\n   <g id=\"patch_654\">\n    <path clip-path=\"url(#pdb1cad2b41)\" d=\"M 205.512694 224.64 \nL 269.589249 224.64 \nL 269.589249 17.554286 \nL 205.512694 17.554286 \nz\n\" style=\"fill:#1f77b4;\"/>\n   </g>\n   <g id=\"patch_655\">\n    <path clip-path=\"url(#pdb1cad2b41)\" d=\"M 45.321307 224.64 \nL 109.397862 224.64 \nL 109.397862 224.64 \nL 45.321307 224.64 \nz\n\" style=\"fill:#1f77b4;\"/>\n   </g>\n   <g id=\"patch_656\">\n    <path clip-path=\"url(#pdb1cad2b41)\" d=\"M 45.321307 224.64 \nL 109.397862 224.64 \nL 109.397862 17.554286 \nL 45.321307 17.554286 \nz\n\" style=\"fill:#1f77b4;\"/>\n   </g>\n   <g id=\"patch_657\">\n    <path clip-path=\"url(#pdb1cad2b41)\" d=\"M 45.321307 224.64 \nL 109.397862 224.64 \nL 109.397862 224.64 \nL 45.321307 224.64 \nz\n\" style=\"fill:#1f77b4;\"/>\n   </g>\n   <g id=\"patch_658\">\n    <path clip-path=\"url(#pdb1cad2b41)\" d=\"M 45.321307 224.64 \nL 109.397862 224.64 \nL 109.397862 224.64 \nL 45.321307 224.64 \nz\n\" style=\"fill:#1f77b4;\"/>\n   </g>\n   <g id=\"patch_659\">\n    <path clip-path=\"url(#pdb1cad2b41)\" d=\"M 45.321307 224.64 \nL 109.397862 224.64 \nL 109.397862 224.64 \nL 45.321307 224.64 \nz\n\" style=\"fill:#1f77b4;\"/>\n   </g>\n   <g id=\"patch_660\">\n    <path clip-path=\"url(#pdb1cad2b41)\" d=\"M 205.512694 224.64 \nL 269.589249 224.64 \nL 269.589249 224.64 \nL 205.512694 224.64 \nz\n\" style=\"fill:#1f77b4;\"/>\n   </g>\n   <g id=\"patch_661\">\n    <path clip-path=\"url(#pdb1cad2b41)\" d=\"M 45.321307 224.64 \nL 109.397862 224.64 \nL 109.397862 224.64 \nL 45.321307 224.64 \nz\n\" style=\"fill:#1f77b4;\"/>\n   </g>\n   <g id=\"patch_662\">\n    <path clip-path=\"url(#pdb1cad2b41)\" d=\"M 45.321307 224.64 \nL 109.397862 224.64 \nL 109.397862 224.64 \nL 45.321307 224.64 \nz\n\" style=\"fill:#1f77b4;\"/>\n   </g>\n   <g id=\"patch_663\">\n    <path clip-path=\"url(#pdb1cad2b41)\" d=\"M 45.321307 224.64 \nL 109.397862 224.64 \nL 109.397862 17.554286 \nL 45.321307 17.554286 \nz\n\" style=\"fill:#1f77b4;\"/>\n   </g>\n   <g id=\"patch_664\">\n    <path clip-path=\"url(#pdb1cad2b41)\" d=\"M 45.321307 224.64 \nL 109.397862 224.64 \nL 109.397862 224.64 \nL 45.321307 224.64 \nz\n\" style=\"fill:#1f77b4;\"/>\n   </g>\n   <g id=\"patch_665\">\n    <path clip-path=\"url(#pdb1cad2b41)\" d=\"M 45.321307 224.64 \nL 109.397862 224.64 \nL 109.397862 224.64 \nL 45.321307 224.64 \nz\n\" style=\"fill:#1f77b4;\"/>\n   </g>\n   <g id=\"patch_666\">\n    <path clip-path=\"url(#pdb1cad2b41)\" d=\"M 45.321307 224.64 \nL 109.397862 224.64 \nL 109.397862 224.64 \nL 45.321307 224.64 \nz\n\" style=\"fill:#1f77b4;\"/>\n   </g>\n   <g id=\"patch_667\">\n    <path clip-path=\"url(#pdb1cad2b41)\" d=\"M 45.321307 224.64 \nL 109.397862 224.64 \nL 109.397862 17.554286 \nL 45.321307 17.554286 \nz\n\" style=\"fill:#1f77b4;\"/>\n   </g>\n   <g id=\"patch_668\">\n    <path clip-path=\"url(#pdb1cad2b41)\" d=\"M 45.321307 224.64 \nL 109.397862 224.64 \nL 109.397862 224.64 \nL 45.321307 224.64 \nz\n\" style=\"fill:#1f77b4;\"/>\n   </g>\n   <g id=\"patch_669\">\n    <path clip-path=\"url(#pdb1cad2b41)\" d=\"M 45.321307 224.64 \nL 109.397862 224.64 \nL 109.397862 224.64 \nL 45.321307 224.64 \nz\n\" style=\"fill:#1f77b4;\"/>\n   </g>\n   <g id=\"patch_670\">\n    <path clip-path=\"url(#pdb1cad2b41)\" d=\"M 45.321307 224.64 \nL 109.397862 224.64 \nL 109.397862 224.64 \nL 45.321307 224.64 \nz\n\" style=\"fill:#1f77b4;\"/>\n   </g>\n   <g id=\"patch_671\">\n    <path clip-path=\"url(#pdb1cad2b41)\" d=\"M 45.321307 224.64 \nL 109.397862 224.64 \nL 109.397862 224.64 \nL 45.321307 224.64 \nz\n\" style=\"fill:#1f77b4;\"/>\n   </g>\n   <g id=\"patch_672\">\n    <path clip-path=\"url(#pdb1cad2b41)\" d=\"M 285.608388 224.64 \nL 349.684943 224.64 \nL 349.684943 17.554286 \nL 285.608388 17.554286 \nz\n\" style=\"fill:#1f77b4;\"/>\n   </g>\n   <g id=\"patch_673\">\n    <path clip-path=\"url(#pdb1cad2b41)\" d=\"M 285.608388 224.64 \nL 349.684943 224.64 \nL 349.684943 17.554286 \nL 285.608388 17.554286 \nz\n\" style=\"fill:#1f77b4;\"/>\n   </g>\n   <g id=\"patch_674\">\n    <path clip-path=\"url(#pdb1cad2b41)\" d=\"M 45.321307 224.64 \nL 109.397862 224.64 \nL 109.397862 224.64 \nL 45.321307 224.64 \nz\n\" style=\"fill:#1f77b4;\"/>\n   </g>\n   <g id=\"patch_675\">\n    <path clip-path=\"url(#pdb1cad2b41)\" d=\"M 45.321307 224.64 \nL 109.397862 224.64 \nL 109.397862 224.64 \nL 45.321307 224.64 \nz\n\" style=\"fill:#1f77b4;\"/>\n   </g>\n   <g id=\"patch_676\">\n    <path clip-path=\"url(#pdb1cad2b41)\" d=\"M 45.321307 224.64 \nL 109.397862 224.64 \nL 109.397862 17.554286 \nL 45.321307 17.554286 \nz\n\" style=\"fill:#1f77b4;\"/>\n   </g>\n   <g id=\"patch_677\">\n    <path clip-path=\"url(#pdb1cad2b41)\" d=\"M 45.321307 224.64 \nL 109.397862 224.64 \nL 109.397862 224.64 \nL 45.321307 224.64 \nz\n\" style=\"fill:#1f77b4;\"/>\n   </g>\n   <g id=\"patch_678\">\n    <path clip-path=\"url(#pdb1cad2b41)\" d=\"M 45.321307 224.64 \nL 109.397862 224.64 \nL 109.397862 224.64 \nL 45.321307 224.64 \nz\n\" style=\"fill:#1f77b4;\"/>\n   </g>\n   <g id=\"patch_679\">\n    <path clip-path=\"url(#pdb1cad2b41)\" d=\"M 45.321307 224.64 \nL 109.397862 224.64 \nL 109.397862 224.64 \nL 45.321307 224.64 \nz\n\" style=\"fill:#1f77b4;\"/>\n   </g>\n   <g id=\"patch_680\">\n    <path clip-path=\"url(#pdb1cad2b41)\" d=\"M 125.417001 224.64 \nL 189.493556 224.64 \nL 189.493556 17.554286 \nL 125.417001 17.554286 \nz\n\" style=\"fill:#1f77b4;\"/>\n   </g>\n   <g id=\"patch_681\">\n    <path clip-path=\"url(#pdb1cad2b41)\" d=\"M 285.608388 224.64 \nL 349.684943 224.64 \nL 349.684943 224.64 \nL 285.608388 224.64 \nz\n\" style=\"fill:#1f77b4;\"/>\n   </g>\n   <g id=\"patch_682\">\n    <path clip-path=\"url(#pdb1cad2b41)\" d=\"M 45.321307 224.64 \nL 109.397862 224.64 \nL 109.397862 17.554286 \nL 45.321307 17.554286 \nz\n\" style=\"fill:#1f77b4;\"/>\n   </g>\n   <g id=\"patch_683\">\n    <path clip-path=\"url(#pdb1cad2b41)\" d=\"M 125.417001 224.64 \nL 189.493556 224.64 \nL 189.493556 224.64 \nL 125.417001 224.64 \nz\n\" style=\"fill:#1f77b4;\"/>\n   </g>\n   <g id=\"patch_684\">\n    <path clip-path=\"url(#pdb1cad2b41)\" d=\"M 45.321307 224.64 \nL 109.397862 224.64 \nL 109.397862 17.554286 \nL 45.321307 17.554286 \nz\n\" style=\"fill:#1f77b4;\"/>\n   </g>\n   <g id=\"patch_685\">\n    <path clip-path=\"url(#pdb1cad2b41)\" d=\"M 45.321307 224.64 \nL 109.397862 224.64 \nL 109.397862 224.64 \nL 45.321307 224.64 \nz\n\" style=\"fill:#1f77b4;\"/>\n   </g>\n   <g id=\"patch_686\">\n    <path clip-path=\"url(#pdb1cad2b41)\" d=\"M 45.321307 224.64 \nL 109.397862 224.64 \nL 109.397862 224.64 \nL 45.321307 224.64 \nz\n\" style=\"fill:#1f77b4;\"/>\n   </g>\n   <g id=\"patch_687\">\n    <path clip-path=\"url(#pdb1cad2b41)\" d=\"M 45.321307 224.64 \nL 109.397862 224.64 \nL 109.397862 224.64 \nL 45.321307 224.64 \nz\n\" style=\"fill:#1f77b4;\"/>\n   </g>\n   <g id=\"patch_688\">\n    <path clip-path=\"url(#pdb1cad2b41)\" d=\"M 45.321307 224.64 \nL 109.397862 224.64 \nL 109.397862 224.64 \nL 45.321307 224.64 \nz\n\" style=\"fill:#1f77b4;\"/>\n   </g>\n   <g id=\"patch_689\">\n    <path clip-path=\"url(#pdb1cad2b41)\" d=\"M 45.321307 224.64 \nL 109.397862 224.64 \nL 109.397862 224.64 \nL 45.321307 224.64 \nz\n\" style=\"fill:#1f77b4;\"/>\n   </g>\n   <g id=\"patch_690\">\n    <path clip-path=\"url(#pdb1cad2b41)\" d=\"M 45.321307 224.64 \nL 109.397862 224.64 \nL 109.397862 224.64 \nL 45.321307 224.64 \nz\n\" style=\"fill:#1f77b4;\"/>\n   </g>\n   <g id=\"patch_691\">\n    <path clip-path=\"url(#pdb1cad2b41)\" d=\"M 45.321307 224.64 \nL 109.397862 224.64 \nL 109.397862 224.64 \nL 45.321307 224.64 \nz\n\" style=\"fill:#1f77b4;\"/>\n   </g>\n   <g id=\"patch_692\">\n    <path clip-path=\"url(#pdb1cad2b41)\" d=\"M 285.608388 224.64 \nL 349.684943 224.64 \nL 349.684943 17.554286 \nL 285.608388 17.554286 \nz\n\" style=\"fill:#1f77b4;\"/>\n   </g>\n   <g id=\"patch_693\">\n    <path clip-path=\"url(#pdb1cad2b41)\" d=\"M 45.321307 224.64 \nL 109.397862 224.64 \nL 109.397862 17.554286 \nL 45.321307 17.554286 \nz\n\" style=\"fill:#1f77b4;\"/>\n   </g>\n   <g id=\"patch_694\">\n    <path clip-path=\"url(#pdb1cad2b41)\" d=\"M 125.417001 224.64 \nL 189.493556 224.64 \nL 189.493556 17.554286 \nL 125.417001 17.554286 \nz\n\" style=\"fill:#1f77b4;\"/>\n   </g>\n   <g id=\"patch_695\">\n    <path clip-path=\"url(#pdb1cad2b41)\" d=\"M 45.321307 224.64 \nL 109.397862 224.64 \nL 109.397862 17.554286 \nL 45.321307 17.554286 \nz\n\" style=\"fill:#1f77b4;\"/>\n   </g>\n   <g id=\"patch_696\">\n    <path clip-path=\"url(#pdb1cad2b41)\" d=\"M 45.321307 224.64 \nL 109.397862 224.64 \nL 109.397862 224.64 \nL 45.321307 224.64 \nz\n\" style=\"fill:#1f77b4;\"/>\n   </g>\n   <g id=\"patch_697\">\n    <path clip-path=\"url(#pdb1cad2b41)\" d=\"M 45.321307 224.64 \nL 109.397862 224.64 \nL 109.397862 224.64 \nL 45.321307 224.64 \nz\n\" style=\"fill:#1f77b4;\"/>\n   </g>\n   <g id=\"patch_698\">\n    <path clip-path=\"url(#pdb1cad2b41)\" d=\"M 45.321307 224.64 \nL 109.397862 224.64 \nL 109.397862 224.64 \nL 45.321307 224.64 \nz\n\" style=\"fill:#1f77b4;\"/>\n   </g>\n   <g id=\"patch_699\">\n    <path clip-path=\"url(#pdb1cad2b41)\" d=\"M 45.321307 224.64 \nL 109.397862 224.64 \nL 109.397862 224.64 \nL 45.321307 224.64 \nz\n\" style=\"fill:#1f77b4;\"/>\n   </g>\n   <g id=\"patch_700\">\n    <path clip-path=\"url(#pdb1cad2b41)\" d=\"M 45.321307 224.64 \nL 109.397862 224.64 \nL 109.397862 17.554286 \nL 45.321307 17.554286 \nz\n\" style=\"fill:#1f77b4;\"/>\n   </g>\n   <g id=\"patch_701\">\n    <path clip-path=\"url(#pdb1cad2b41)\" d=\"M 45.321307 224.64 \nL 109.397862 224.64 \nL 109.397862 224.64 \nL 45.321307 224.64 \nz\n\" style=\"fill:#1f77b4;\"/>\n   </g>\n   <g id=\"patch_702\">\n    <path clip-path=\"url(#pdb1cad2b41)\" d=\"M 45.321307 224.64 \nL 109.397862 224.64 \nL 109.397862 224.64 \nL 45.321307 224.64 \nz\n\" style=\"fill:#1f77b4;\"/>\n   </g>\n   <g id=\"patch_703\">\n    <path clip-path=\"url(#pdb1cad2b41)\" d=\"M 285.608388 224.64 \nL 349.684943 224.64 \nL 349.684943 17.554286 \nL 285.608388 17.554286 \nz\n\" style=\"fill:#1f77b4;\"/>\n   </g>\n   <g id=\"patch_704\">\n    <path clip-path=\"url(#pdb1cad2b41)\" d=\"M 45.321307 224.64 \nL 109.397862 224.64 \nL 109.397862 17.554286 \nL 45.321307 17.554286 \nz\n\" style=\"fill:#1f77b4;\"/>\n   </g>\n   <g id=\"patch_705\">\n    <path clip-path=\"url(#pdb1cad2b41)\" d=\"M 205.512694 224.64 \nL 269.589249 224.64 \nL 269.589249 224.64 \nL 205.512694 224.64 \nz\n\" style=\"fill:#1f77b4;\"/>\n   </g>\n   <g id=\"patch_706\">\n    <path clip-path=\"url(#pdb1cad2b41)\" d=\"M 45.321307 224.64 \nL 109.397862 224.64 \nL 109.397862 224.64 \nL 45.321307 224.64 \nz\n\" style=\"fill:#1f77b4;\"/>\n   </g>\n   <g id=\"patch_707\">\n    <path clip-path=\"url(#pdb1cad2b41)\" d=\"M 45.321307 224.64 \nL 109.397862 224.64 \nL 109.397862 224.64 \nL 45.321307 224.64 \nz\n\" style=\"fill:#1f77b4;\"/>\n   </g>\n   <g id=\"patch_708\">\n    <path clip-path=\"url(#pdb1cad2b41)\" d=\"M 45.321307 224.64 \nL 109.397862 224.64 \nL 109.397862 224.64 \nL 45.321307 224.64 \nz\n\" style=\"fill:#1f77b4;\"/>\n   </g>\n   <g id=\"patch_709\">\n    <path clip-path=\"url(#pdb1cad2b41)\" d=\"M 125.417001 224.64 \nL 189.493556 224.64 \nL 189.493556 17.554286 \nL 125.417001 17.554286 \nz\n\" style=\"fill:#1f77b4;\"/>\n   </g>\n   <g id=\"patch_710\">\n    <path clip-path=\"url(#pdb1cad2b41)\" d=\"M 45.321307 224.64 \nL 109.397862 224.64 \nL 109.397862 17.554286 \nL 45.321307 17.554286 \nz\n\" style=\"fill:#1f77b4;\"/>\n   </g>\n   <g id=\"patch_711\">\n    <path clip-path=\"url(#pdb1cad2b41)\" d=\"M 285.608388 224.64 \nL 349.684943 224.64 \nL 349.684943 17.554286 \nL 285.608388 17.554286 \nz\n\" style=\"fill:#1f77b4;\"/>\n   </g>\n   <g id=\"patch_712\">\n    <path clip-path=\"url(#pdb1cad2b41)\" d=\"M 45.321307 224.64 \nL 109.397862 224.64 \nL 109.397862 17.554286 \nL 45.321307 17.554286 \nz\n\" style=\"fill:#1f77b4;\"/>\n   </g>\n   <g id=\"patch_713\">\n    <path clip-path=\"url(#pdb1cad2b41)\" d=\"M 285.608388 224.64 \nL 349.684943 224.64 \nL 349.684943 17.554286 \nL 285.608388 17.554286 \nz\n\" style=\"fill:#1f77b4;\"/>\n   </g>\n   <g id=\"patch_714\">\n    <path clip-path=\"url(#pdb1cad2b41)\" d=\"M 45.321307 224.64 \nL 109.397862 224.64 \nL 109.397862 224.64 \nL 45.321307 224.64 \nz\n\" style=\"fill:#1f77b4;\"/>\n   </g>\n   <g id=\"patch_715\">\n    <path clip-path=\"url(#pdb1cad2b41)\" d=\"M 45.321307 224.64 \nL 109.397862 224.64 \nL 109.397862 17.554286 \nL 45.321307 17.554286 \nz\n\" style=\"fill:#1f77b4;\"/>\n   </g>\n   <g id=\"patch_716\">\n    <path clip-path=\"url(#pdb1cad2b41)\" d=\"M 45.321307 224.64 \nL 109.397862 224.64 \nL 109.397862 224.64 \nL 45.321307 224.64 \nz\n\" style=\"fill:#1f77b4;\"/>\n   </g>\n   <g id=\"patch_717\">\n    <path clip-path=\"url(#pdb1cad2b41)\" d=\"M 45.321307 224.64 \nL 109.397862 224.64 \nL 109.397862 224.64 \nL 45.321307 224.64 \nz\n\" style=\"fill:#1f77b4;\"/>\n   </g>\n   <g id=\"patch_718\">\n    <path clip-path=\"url(#pdb1cad2b41)\" d=\"M 45.321307 224.64 \nL 109.397862 224.64 \nL 109.397862 224.64 \nL 45.321307 224.64 \nz\n\" style=\"fill:#1f77b4;\"/>\n   </g>\n   <g id=\"patch_719\">\n    <path clip-path=\"url(#pdb1cad2b41)\" d=\"M 285.608388 224.64 \nL 349.684943 224.64 \nL 349.684943 17.554286 \nL 285.608388 17.554286 \nz\n\" style=\"fill:#1f77b4;\"/>\n   </g>\n   <g id=\"patch_720\">\n    <path clip-path=\"url(#pdb1cad2b41)\" d=\"M 125.417001 224.64 \nL 189.493556 224.64 \nL 189.493556 17.554286 \nL 125.417001 17.554286 \nz\n\" style=\"fill:#1f77b4;\"/>\n   </g>\n   <g id=\"patch_721\">\n    <path clip-path=\"url(#pdb1cad2b41)\" d=\"M 45.321307 224.64 \nL 109.397862 224.64 \nL 109.397862 224.64 \nL 45.321307 224.64 \nz\n\" style=\"fill:#1f77b4;\"/>\n   </g>\n   <g id=\"patch_722\">\n    <path clip-path=\"url(#pdb1cad2b41)\" d=\"M 45.321307 224.64 \nL 109.397862 224.64 \nL 109.397862 224.64 \nL 45.321307 224.64 \nz\n\" style=\"fill:#1f77b4;\"/>\n   </g>\n   <g id=\"patch_723\">\n    <path clip-path=\"url(#pdb1cad2b41)\" d=\"M 285.608388 224.64 \nL 349.684943 224.64 \nL 349.684943 17.554286 \nL 285.608388 17.554286 \nz\n\" style=\"fill:#1f77b4;\"/>\n   </g>\n   <g id=\"patch_724\">\n    <path clip-path=\"url(#pdb1cad2b41)\" d=\"M 45.321307 224.64 \nL 109.397862 224.64 \nL 109.397862 224.64 \nL 45.321307 224.64 \nz\n\" style=\"fill:#1f77b4;\"/>\n   </g>\n   <g id=\"patch_725\">\n    <path clip-path=\"url(#pdb1cad2b41)\" d=\"M 45.321307 224.64 \nL 109.397862 224.64 \nL 109.397862 224.64 \nL 45.321307 224.64 \nz\n\" style=\"fill:#1f77b4;\"/>\n   </g>\n   <g id=\"patch_726\">\n    <path clip-path=\"url(#pdb1cad2b41)\" d=\"M 45.321307 224.64 \nL 109.397862 224.64 \nL 109.397862 224.64 \nL 45.321307 224.64 \nz\n\" style=\"fill:#1f77b4;\"/>\n   </g>\n   <g id=\"patch_727\">\n    <path clip-path=\"url(#pdb1cad2b41)\" d=\"M 45.321307 224.64 \nL 109.397862 224.64 \nL 109.397862 17.554286 \nL 45.321307 17.554286 \nz\n\" style=\"fill:#1f77b4;\"/>\n   </g>\n   <g id=\"patch_728\">\n    <path clip-path=\"url(#pdb1cad2b41)\" d=\"M 45.321307 224.64 \nL 109.397862 224.64 \nL 109.397862 224.64 \nL 45.321307 224.64 \nz\n\" style=\"fill:#1f77b4;\"/>\n   </g>\n   <g id=\"patch_729\">\n    <path clip-path=\"url(#pdb1cad2b41)\" d=\"M 205.512694 224.64 \nL 269.589249 224.64 \nL 269.589249 17.554286 \nL 205.512694 17.554286 \nz\n\" style=\"fill:#1f77b4;\"/>\n   </g>\n   <g id=\"patch_730\">\n    <path clip-path=\"url(#pdb1cad2b41)\" d=\"M 45.321307 224.64 \nL 109.397862 224.64 \nL 109.397862 17.554286 \nL 45.321307 17.554286 \nz\n\" style=\"fill:#1f77b4;\"/>\n   </g>\n   <g id=\"patch_731\">\n    <path clip-path=\"url(#pdb1cad2b41)\" d=\"M 45.321307 224.64 \nL 109.397862 224.64 \nL 109.397862 224.64 \nL 45.321307 224.64 \nz\n\" style=\"fill:#1f77b4;\"/>\n   </g>\n   <g id=\"patch_732\">\n    <path clip-path=\"url(#pdb1cad2b41)\" d=\"M 125.417001 224.64 \nL 189.493556 224.64 \nL 189.493556 224.64 \nL 125.417001 224.64 \nz\n\" style=\"fill:#1f77b4;\"/>\n   </g>\n   <g id=\"patch_733\">\n    <path clip-path=\"url(#pdb1cad2b41)\" d=\"M 285.608388 224.64 \nL 349.684943 224.64 \nL 349.684943 17.554286 \nL 285.608388 17.554286 \nz\n\" style=\"fill:#1f77b4;\"/>\n   </g>\n   <g id=\"patch_734\">\n    <path clip-path=\"url(#pdb1cad2b41)\" d=\"M 45.321307 224.64 \nL 109.397862 224.64 \nL 109.397862 224.64 \nL 45.321307 224.64 \nz\n\" style=\"fill:#1f77b4;\"/>\n   </g>\n   <g id=\"patch_735\">\n    <path clip-path=\"url(#pdb1cad2b41)\" d=\"M 45.321307 224.64 \nL 109.397862 224.64 \nL 109.397862 224.64 \nL 45.321307 224.64 \nz\n\" style=\"fill:#1f77b4;\"/>\n   </g>\n   <g id=\"patch_736\">\n    <path clip-path=\"url(#pdb1cad2b41)\" d=\"M 45.321307 224.64 \nL 109.397862 224.64 \nL 109.397862 224.64 \nL 45.321307 224.64 \nz\n\" style=\"fill:#1f77b4;\"/>\n   </g>\n   <g id=\"patch_737\">\n    <path clip-path=\"url(#pdb1cad2b41)\" d=\"M 45.321307 224.64 \nL 109.397862 224.64 \nL 109.397862 224.64 \nL 45.321307 224.64 \nz\n\" style=\"fill:#1f77b4;\"/>\n   </g>\n   <g id=\"patch_738\">\n    <path clip-path=\"url(#pdb1cad2b41)\" d=\"M 45.321307 224.64 \nL 109.397862 224.64 \nL 109.397862 224.64 \nL 45.321307 224.64 \nz\n\" style=\"fill:#1f77b4;\"/>\n   </g>\n   <g id=\"patch_739\">\n    <path clip-path=\"url(#pdb1cad2b41)\" d=\"M 285.608388 224.64 \nL 349.684943 224.64 \nL 349.684943 224.64 \nL 285.608388 224.64 \nz\n\" style=\"fill:#1f77b4;\"/>\n   </g>\n   <g id=\"patch_740\">\n    <path clip-path=\"url(#pdb1cad2b41)\" d=\"M 45.321307 224.64 \nL 109.397862 224.64 \nL 109.397862 17.554286 \nL 45.321307 17.554286 \nz\n\" style=\"fill:#1f77b4;\"/>\n   </g>\n   <g id=\"patch_741\">\n    <path clip-path=\"url(#pdb1cad2b41)\" d=\"M 45.321307 224.64 \nL 109.397862 224.64 \nL 109.397862 224.64 \nL 45.321307 224.64 \nz\n\" style=\"fill:#1f77b4;\"/>\n   </g>\n   <g id=\"patch_742\">\n    <path clip-path=\"url(#pdb1cad2b41)\" d=\"M 45.321307 224.64 \nL 109.397862 224.64 \nL 109.397862 224.64 \nL 45.321307 224.64 \nz\n\" style=\"fill:#1f77b4;\"/>\n   </g>\n   <g id=\"patch_743\">\n    <path clip-path=\"url(#pdb1cad2b41)\" d=\"M 45.321307 224.64 \nL 109.397862 224.64 \nL 109.397862 17.554286 \nL 45.321307 17.554286 \nz\n\" style=\"fill:#1f77b4;\"/>\n   </g>\n   <g id=\"patch_744\">\n    <path clip-path=\"url(#pdb1cad2b41)\" d=\"M 45.321307 224.64 \nL 109.397862 224.64 \nL 109.397862 224.64 \nL 45.321307 224.64 \nz\n\" style=\"fill:#1f77b4;\"/>\n   </g>\n   <g id=\"patch_745\">\n    <path clip-path=\"url(#pdb1cad2b41)\" d=\"M 285.608388 224.64 \nL 349.684943 224.64 \nL 349.684943 17.554286 \nL 285.608388 17.554286 \nz\n\" style=\"fill:#1f77b4;\"/>\n   </g>\n   <g id=\"patch_746\">\n    <path clip-path=\"url(#pdb1cad2b41)\" d=\"M 45.321307 224.64 \nL 109.397862 224.64 \nL 109.397862 224.64 \nL 45.321307 224.64 \nz\n\" style=\"fill:#1f77b4;\"/>\n   </g>\n   <g id=\"patch_747\">\n    <path clip-path=\"url(#pdb1cad2b41)\" d=\"M 45.321307 224.64 \nL 109.397862 224.64 \nL 109.397862 17.554286 \nL 45.321307 17.554286 \nz\n\" style=\"fill:#1f77b4;\"/>\n   </g>\n   <g id=\"patch_748\">\n    <path clip-path=\"url(#pdb1cad2b41)\" d=\"M 45.321307 224.64 \nL 109.397862 224.64 \nL 109.397862 224.64 \nL 45.321307 224.64 \nz\n\" style=\"fill:#1f77b4;\"/>\n   </g>\n   <g id=\"patch_749\">\n    <path clip-path=\"url(#pdb1cad2b41)\" d=\"M 45.321307 224.64 \nL 109.397862 224.64 \nL 109.397862 224.64 \nL 45.321307 224.64 \nz\n\" style=\"fill:#1f77b4;\"/>\n   </g>\n   <g id=\"patch_750\">\n    <path clip-path=\"url(#pdb1cad2b41)\" d=\"M 125.417001 224.64 \nL 189.493556 224.64 \nL 189.493556 17.554286 \nL 125.417001 17.554286 \nz\n\" style=\"fill:#1f77b4;\"/>\n   </g>\n   <g id=\"patch_751\">\n    <path clip-path=\"url(#pdb1cad2b41)\" d=\"M 45.321307 224.64 \nL 109.397862 224.64 \nL 109.397862 224.64 \nL 45.321307 224.64 \nz\n\" style=\"fill:#1f77b4;\"/>\n   </g>\n   <g id=\"patch_752\">\n    <path clip-path=\"url(#pdb1cad2b41)\" d=\"M 45.321307 224.64 \nL 109.397862 224.64 \nL 109.397862 224.64 \nL 45.321307 224.64 \nz\n\" style=\"fill:#1f77b4;\"/>\n   </g>\n   <g id=\"patch_753\">\n    <path clip-path=\"url(#pdb1cad2b41)\" d=\"M 205.512694 224.64 \nL 269.589249 224.64 \nL 269.589249 17.554286 \nL 205.512694 17.554286 \nz\n\" style=\"fill:#1f77b4;\"/>\n   </g>\n   <g id=\"patch_754\">\n    <path clip-path=\"url(#pdb1cad2b41)\" d=\"M 45.321307 224.64 \nL 109.397862 224.64 \nL 109.397862 17.554286 \nL 45.321307 17.554286 \nz\n\" style=\"fill:#1f77b4;\"/>\n   </g>\n   <g id=\"patch_755\">\n    <path clip-path=\"url(#pdb1cad2b41)\" d=\"M 45.321307 224.64 \nL 109.397862 224.64 \nL 109.397862 224.64 \nL 45.321307 224.64 \nz\n\" style=\"fill:#1f77b4;\"/>\n   </g>\n   <g id=\"patch_756\">\n    <path clip-path=\"url(#pdb1cad2b41)\" d=\"M 45.321307 224.64 \nL 109.397862 224.64 \nL 109.397862 224.64 \nL 45.321307 224.64 \nz\n\" style=\"fill:#1f77b4;\"/>\n   </g>\n   <g id=\"patch_757\">\n    <path clip-path=\"url(#pdb1cad2b41)\" d=\"M 285.608388 224.64 \nL 349.684943 224.64 \nL 349.684943 17.554286 \nL 285.608388 17.554286 \nz\n\" style=\"fill:#1f77b4;\"/>\n   </g>\n   <g id=\"patch_758\">\n    <path clip-path=\"url(#pdb1cad2b41)\" d=\"M 45.321307 224.64 \nL 109.397862 224.64 \nL 109.397862 17.554286 \nL 45.321307 17.554286 \nz\n\" style=\"fill:#1f77b4;\"/>\n   </g>\n   <g id=\"patch_759\">\n    <path clip-path=\"url(#pdb1cad2b41)\" d=\"M 45.321307 224.64 \nL 109.397862 224.64 \nL 109.397862 224.64 \nL 45.321307 224.64 \nz\n\" style=\"fill:#1f77b4;\"/>\n   </g>\n   <g id=\"patch_760\">\n    <path clip-path=\"url(#pdb1cad2b41)\" d=\"M 45.321307 224.64 \nL 109.397862 224.64 \nL 109.397862 224.64 \nL 45.321307 224.64 \nz\n\" style=\"fill:#1f77b4;\"/>\n   </g>\n   <g id=\"patch_761\">\n    <path clip-path=\"url(#pdb1cad2b41)\" d=\"M 45.321307 224.64 \nL 109.397862 224.64 \nL 109.397862 224.64 \nL 45.321307 224.64 \nz\n\" style=\"fill:#1f77b4;\"/>\n   </g>\n   <g id=\"patch_762\">\n    <path clip-path=\"url(#pdb1cad2b41)\" d=\"M 285.608388 224.64 \nL 349.684943 224.64 \nL 349.684943 17.554286 \nL 285.608388 17.554286 \nz\n\" style=\"fill:#1f77b4;\"/>\n   </g>\n   <g id=\"patch_763\">\n    <path clip-path=\"url(#pdb1cad2b41)\" d=\"M 45.321307 224.64 \nL 109.397862 224.64 \nL 109.397862 224.64 \nL 45.321307 224.64 \nz\n\" style=\"fill:#1f77b4;\"/>\n   </g>\n   <g id=\"patch_764\">\n    <path clip-path=\"url(#pdb1cad2b41)\" d=\"M 45.321307 224.64 \nL 109.397862 224.64 \nL 109.397862 224.64 \nL 45.321307 224.64 \nz\n\" style=\"fill:#1f77b4;\"/>\n   </g>\n   <g id=\"patch_765\">\n    <path clip-path=\"url(#pdb1cad2b41)\" d=\"M 45.321307 224.64 \nL 109.397862 224.64 \nL 109.397862 17.554286 \nL 45.321307 17.554286 \nz\n\" style=\"fill:#1f77b4;\"/>\n   </g>\n   <g id=\"patch_766\">\n    <path clip-path=\"url(#pdb1cad2b41)\" d=\"M 285.608388 224.64 \nL 349.684943 224.64 \nL 349.684943 17.554286 \nL 285.608388 17.554286 \nz\n\" style=\"fill:#1f77b4;\"/>\n   </g>\n   <g id=\"patch_767\">\n    <path clip-path=\"url(#pdb1cad2b41)\" d=\"M 45.321307 224.64 \nL 109.397862 224.64 \nL 109.397862 224.64 \nL 45.321307 224.64 \nz\n\" style=\"fill:#1f77b4;\"/>\n   </g>\n   <g id=\"patch_768\">\n    <path clip-path=\"url(#pdb1cad2b41)\" d=\"M 285.608388 224.64 \nL 349.684943 224.64 \nL 349.684943 17.554286 \nL 285.608388 17.554286 \nz\n\" style=\"fill:#1f77b4;\"/>\n   </g>\n   <g id=\"patch_769\">\n    <path clip-path=\"url(#pdb1cad2b41)\" d=\"M 45.321307 224.64 \nL 109.397862 224.64 \nL 109.397862 224.64 \nL 45.321307 224.64 \nz\n\" style=\"fill:#1f77b4;\"/>\n   </g>\n   <g id=\"patch_770\">\n    <path clip-path=\"url(#pdb1cad2b41)\" d=\"M 45.321307 224.64 \nL 109.397862 224.64 \nL 109.397862 224.64 \nL 45.321307 224.64 \nz\n\" style=\"fill:#1f77b4;\"/>\n   </g>\n   <g id=\"patch_771\">\n    <path clip-path=\"url(#pdb1cad2b41)\" d=\"M 45.321307 224.64 \nL 109.397862 224.64 \nL 109.397862 224.64 \nL 45.321307 224.64 \nz\n\" style=\"fill:#1f77b4;\"/>\n   </g>\n   <g id=\"patch_772\">\n    <path clip-path=\"url(#pdb1cad2b41)\" d=\"M 45.321307 224.64 \nL 109.397862 224.64 \nL 109.397862 224.64 \nL 45.321307 224.64 \nz\n\" style=\"fill:#1f77b4;\"/>\n   </g>\n   <g id=\"patch_773\">\n    <path clip-path=\"url(#pdb1cad2b41)\" d=\"M 45.321307 224.64 \nL 109.397862 224.64 \nL 109.397862 224.64 \nL 45.321307 224.64 \nz\n\" style=\"fill:#1f77b4;\"/>\n   </g>\n   <g id=\"patch_774\">\n    <path clip-path=\"url(#pdb1cad2b41)\" d=\"M 45.321307 224.64 \nL 109.397862 224.64 \nL 109.397862 224.64 \nL 45.321307 224.64 \nz\n\" style=\"fill:#1f77b4;\"/>\n   </g>\n   <g id=\"patch_775\">\n    <path clip-path=\"url(#pdb1cad2b41)\" d=\"M 125.417001 224.64 \nL 189.493556 224.64 \nL 189.493556 224.64 \nL 125.417001 224.64 \nz\n\" style=\"fill:#1f77b4;\"/>\n   </g>\n   <g id=\"patch_776\">\n    <path clip-path=\"url(#pdb1cad2b41)\" d=\"M 45.321307 224.64 \nL 109.397862 224.64 \nL 109.397862 224.64 \nL 45.321307 224.64 \nz\n\" style=\"fill:#1f77b4;\"/>\n   </g>\n   <g id=\"patch_777\">\n    <path clip-path=\"url(#pdb1cad2b41)\" d=\"M 205.512694 224.64 \nL 269.589249 224.64 \nL 269.589249 17.554286 \nL 205.512694 17.554286 \nz\n\" style=\"fill:#1f77b4;\"/>\n   </g>\n   <g id=\"patch_778\">\n    <path clip-path=\"url(#pdb1cad2b41)\" d=\"M 45.321307 224.64 \nL 109.397862 224.64 \nL 109.397862 224.64 \nL 45.321307 224.64 \nz\n\" style=\"fill:#1f77b4;\"/>\n   </g>\n   <g id=\"patch_779\">\n    <path clip-path=\"url(#pdb1cad2b41)\" d=\"M 45.321307 224.64 \nL 109.397862 224.64 \nL 109.397862 224.64 \nL 45.321307 224.64 \nz\n\" style=\"fill:#1f77b4;\"/>\n   </g>\n   <g id=\"patch_780\">\n    <path clip-path=\"url(#pdb1cad2b41)\" d=\"M 125.417001 224.64 \nL 189.493556 224.64 \nL 189.493556 17.554286 \nL 125.417001 17.554286 \nz\n\" style=\"fill:#1f77b4;\"/>\n   </g>\n   <g id=\"patch_781\">\n    <path clip-path=\"url(#pdb1cad2b41)\" d=\"M 45.321307 224.64 \nL 109.397862 224.64 \nL 109.397862 224.64 \nL 45.321307 224.64 \nz\n\" style=\"fill:#1f77b4;\"/>\n   </g>\n   <g id=\"patch_782\">\n    <path clip-path=\"url(#pdb1cad2b41)\" d=\"M 285.608388 224.64 \nL 349.684943 224.64 \nL 349.684943 17.554286 \nL 285.608388 17.554286 \nz\n\" style=\"fill:#1f77b4;\"/>\n   </g>\n   <g id=\"patch_783\">\n    <path clip-path=\"url(#pdb1cad2b41)\" d=\"M 45.321307 224.64 \nL 109.397862 224.64 \nL 109.397862 17.554286 \nL 45.321307 17.554286 \nz\n\" style=\"fill:#1f77b4;\"/>\n   </g>\n   <g id=\"patch_784\">\n    <path clip-path=\"url(#pdb1cad2b41)\" d=\"M 285.608388 224.64 \nL 349.684943 224.64 \nL 349.684943 17.554286 \nL 285.608388 17.554286 \nz\n\" style=\"fill:#1f77b4;\"/>\n   </g>\n   <g id=\"patch_785\">\n    <path clip-path=\"url(#pdb1cad2b41)\" d=\"M 45.321307 224.64 \nL 109.397862 224.64 \nL 109.397862 224.64 \nL 45.321307 224.64 \nz\n\" style=\"fill:#1f77b4;\"/>\n   </g>\n   <g id=\"patch_786\">\n    <path clip-path=\"url(#pdb1cad2b41)\" d=\"M 45.321307 224.64 \nL 109.397862 224.64 \nL 109.397862 224.64 \nL 45.321307 224.64 \nz\n\" style=\"fill:#1f77b4;\"/>\n   </g>\n   <g id=\"patch_787\">\n    <path clip-path=\"url(#pdb1cad2b41)\" d=\"M 45.321307 224.64 \nL 109.397862 224.64 \nL 109.397862 224.64 \nL 45.321307 224.64 \nz\n\" style=\"fill:#1f77b4;\"/>\n   </g>\n   <g id=\"patch_788\">\n    <path clip-path=\"url(#pdb1cad2b41)\" d=\"M 45.321307 224.64 \nL 109.397862 224.64 \nL 109.397862 224.64 \nL 45.321307 224.64 \nz\n\" style=\"fill:#1f77b4;\"/>\n   </g>\n   <g id=\"patch_789\">\n    <path clip-path=\"url(#pdb1cad2b41)\" d=\"M 45.321307 224.64 \nL 109.397862 224.64 \nL 109.397862 17.554286 \nL 45.321307 17.554286 \nz\n\" style=\"fill:#1f77b4;\"/>\n   </g>\n   <g id=\"patch_790\">\n    <path clip-path=\"url(#pdb1cad2b41)\" d=\"M 45.321307 224.64 \nL 109.397862 224.64 \nL 109.397862 224.64 \nL 45.321307 224.64 \nz\n\" style=\"fill:#1f77b4;\"/>\n   </g>\n   <g id=\"patch_791\">\n    <path clip-path=\"url(#pdb1cad2b41)\" d=\"M 45.321307 224.64 \nL 109.397862 224.64 \nL 109.397862 17.554286 \nL 45.321307 17.554286 \nz\n\" style=\"fill:#1f77b4;\"/>\n   </g>\n   <g id=\"patch_792\">\n    <path clip-path=\"url(#pdb1cad2b41)\" d=\"M 45.321307 224.64 \nL 109.397862 224.64 \nL 109.397862 224.64 \nL 45.321307 224.64 \nz\n\" style=\"fill:#1f77b4;\"/>\n   </g>\n   <g id=\"patch_793\">\n    <path clip-path=\"url(#pdb1cad2b41)\" d=\"M 45.321307 224.64 \nL 109.397862 224.64 \nL 109.397862 224.64 \nL 45.321307 224.64 \nz\n\" style=\"fill:#1f77b4;\"/>\n   </g>\n   <g id=\"patch_794\">\n    <path clip-path=\"url(#pdb1cad2b41)\" d=\"M 45.321307 224.64 \nL 109.397862 224.64 \nL 109.397862 224.64 \nL 45.321307 224.64 \nz\n\" style=\"fill:#1f77b4;\"/>\n   </g>\n   <g id=\"patch_795\">\n    <path clip-path=\"url(#pdb1cad2b41)\" d=\"M 285.608388 224.64 \nL 349.684943 224.64 \nL 349.684943 224.64 \nL 285.608388 224.64 \nz\n\" style=\"fill:#1f77b4;\"/>\n   </g>\n   <g id=\"patch_796\">\n    <path clip-path=\"url(#pdb1cad2b41)\" d=\"M 45.321307 224.64 \nL 109.397862 224.64 \nL 109.397862 224.64 \nL 45.321307 224.64 \nz\n\" style=\"fill:#1f77b4;\"/>\n   </g>\n   <g id=\"patch_797\">\n    <path clip-path=\"url(#pdb1cad2b41)\" d=\"M 45.321307 224.64 \nL 109.397862 224.64 \nL 109.397862 224.64 \nL 45.321307 224.64 \nz\n\" style=\"fill:#1f77b4;\"/>\n   </g>\n   <g id=\"patch_798\">\n    <path clip-path=\"url(#pdb1cad2b41)\" d=\"M 45.321307 224.64 \nL 109.397862 224.64 \nL 109.397862 224.64 \nL 45.321307 224.64 \nz\n\" style=\"fill:#1f77b4;\"/>\n   </g>\n   <g id=\"patch_799\">\n    <path clip-path=\"url(#pdb1cad2b41)\" d=\"M 205.512694 224.64 \nL 269.589249 224.64 \nL 269.589249 17.554286 \nL 205.512694 17.554286 \nz\n\" style=\"fill:#1f77b4;\"/>\n   </g>\n   <g id=\"patch_800\">\n    <path clip-path=\"url(#pdb1cad2b41)\" d=\"M 125.417001 224.64 \nL 189.493556 224.64 \nL 189.493556 17.554286 \nL 125.417001 17.554286 \nz\n\" style=\"fill:#1f77b4;\"/>\n   </g>\n   <g id=\"patch_801\">\n    <path clip-path=\"url(#pdb1cad2b41)\" d=\"M 45.321307 224.64 \nL 109.397862 224.64 \nL 109.397862 224.64 \nL 45.321307 224.64 \nz\n\" style=\"fill:#1f77b4;\"/>\n   </g>\n   <g id=\"patch_802\">\n    <path clip-path=\"url(#pdb1cad2b41)\" d=\"M 205.512694 224.64 \nL 269.589249 224.64 \nL 269.589249 224.64 \nL 205.512694 224.64 \nz\n\" style=\"fill:#1f77b4;\"/>\n   </g>\n   <g id=\"patch_803\">\n    <path clip-path=\"url(#pdb1cad2b41)\" d=\"M 45.321307 224.64 \nL 109.397862 224.64 \nL 109.397862 224.64 \nL 45.321307 224.64 \nz\n\" style=\"fill:#1f77b4;\"/>\n   </g>\n   <g id=\"patch_804\">\n    <path clip-path=\"url(#pdb1cad2b41)\" d=\"M 205.512694 224.64 \nL 269.589249 224.64 \nL 269.589249 17.554286 \nL 205.512694 17.554286 \nz\n\" style=\"fill:#1f77b4;\"/>\n   </g>\n   <g id=\"patch_805\">\n    <path clip-path=\"url(#pdb1cad2b41)\" d=\"M 45.321307 224.64 \nL 109.397862 224.64 \nL 109.397862 17.554286 \nL 45.321307 17.554286 \nz\n\" style=\"fill:#1f77b4;\"/>\n   </g>\n   <g id=\"patch_806\">\n    <path clip-path=\"url(#pdb1cad2b41)\" d=\"M 45.321307 224.64 \nL 109.397862 224.64 \nL 109.397862 17.554286 \nL 45.321307 17.554286 \nz\n\" style=\"fill:#1f77b4;\"/>\n   </g>\n   <g id=\"patch_807\">\n    <path clip-path=\"url(#pdb1cad2b41)\" d=\"M 45.321307 224.64 \nL 109.397862 224.64 \nL 109.397862 17.554286 \nL 45.321307 17.554286 \nz\n\" style=\"fill:#1f77b4;\"/>\n   </g>\n   <g id=\"patch_808\">\n    <path clip-path=\"url(#pdb1cad2b41)\" d=\"M 45.321307 224.64 \nL 109.397862 224.64 \nL 109.397862 224.64 \nL 45.321307 224.64 \nz\n\" style=\"fill:#1f77b4;\"/>\n   </g>\n   <g id=\"patch_809\">\n    <path clip-path=\"url(#pdb1cad2b41)\" d=\"M 45.321307 224.64 \nL 109.397862 224.64 \nL 109.397862 224.64 \nL 45.321307 224.64 \nz\n\" style=\"fill:#1f77b4;\"/>\n   </g>\n   <g id=\"patch_810\">\n    <path clip-path=\"url(#pdb1cad2b41)\" d=\"M 45.321307 224.64 \nL 109.397862 224.64 \nL 109.397862 224.64 \nL 45.321307 224.64 \nz\n\" style=\"fill:#1f77b4;\"/>\n   </g>\n   <g id=\"patch_811\">\n    <path clip-path=\"url(#pdb1cad2b41)\" d=\"M 45.321307 224.64 \nL 109.397862 224.64 \nL 109.397862 224.64 \nL 45.321307 224.64 \nz\n\" style=\"fill:#1f77b4;\"/>\n   </g>\n   <g id=\"patch_812\">\n    <path clip-path=\"url(#pdb1cad2b41)\" d=\"M 285.608388 224.64 \nL 349.684943 224.64 \nL 349.684943 17.554286 \nL 285.608388 17.554286 \nz\n\" style=\"fill:#1f77b4;\"/>\n   </g>\n   <g id=\"patch_813\">\n    <path clip-path=\"url(#pdb1cad2b41)\" d=\"M 45.321307 224.64 \nL 109.397862 224.64 \nL 109.397862 224.64 \nL 45.321307 224.64 \nz\n\" style=\"fill:#1f77b4;\"/>\n   </g>\n   <g id=\"patch_814\">\n    <path clip-path=\"url(#pdb1cad2b41)\" d=\"M 45.321307 224.64 \nL 109.397862 224.64 \nL 109.397862 224.64 \nL 45.321307 224.64 \nz\n\" style=\"fill:#1f77b4;\"/>\n   </g>\n   <g id=\"patch_815\">\n    <path clip-path=\"url(#pdb1cad2b41)\" d=\"M 45.321307 224.64 \nL 109.397862 224.64 \nL 109.397862 224.64 \nL 45.321307 224.64 \nz\n\" style=\"fill:#1f77b4;\"/>\n   </g>\n   <g id=\"patch_816\">\n    <path clip-path=\"url(#pdb1cad2b41)\" d=\"M 285.608388 224.64 \nL 349.684943 224.64 \nL 349.684943 224.64 \nL 285.608388 224.64 \nz\n\" style=\"fill:#1f77b4;\"/>\n   </g>\n   <g id=\"patch_817\">\n    <path clip-path=\"url(#pdb1cad2b41)\" d=\"M 45.321307 224.64 \nL 109.397862 224.64 \nL 109.397862 224.64 \nL 45.321307 224.64 \nz\n\" style=\"fill:#1f77b4;\"/>\n   </g>\n   <g id=\"patch_818\">\n    <path clip-path=\"url(#pdb1cad2b41)\" d=\"M 45.321307 224.64 \nL 109.397862 224.64 \nL 109.397862 224.64 \nL 45.321307 224.64 \nz\n\" style=\"fill:#1f77b4;\"/>\n   </g>\n   <g id=\"patch_819\">\n    <path clip-path=\"url(#pdb1cad2b41)\" d=\"M 125.417001 224.64 \nL 189.493556 224.64 \nL 189.493556 224.64 \nL 125.417001 224.64 \nz\n\" style=\"fill:#1f77b4;\"/>\n   </g>\n   <g id=\"patch_820\">\n    <path clip-path=\"url(#pdb1cad2b41)\" d=\"M 45.321307 224.64 \nL 109.397862 224.64 \nL 109.397862 224.64 \nL 45.321307 224.64 \nz\n\" style=\"fill:#1f77b4;\"/>\n   </g>\n   <g id=\"patch_821\">\n    <path clip-path=\"url(#pdb1cad2b41)\" d=\"M 45.321307 224.64 \nL 109.397862 224.64 \nL 109.397862 224.64 \nL 45.321307 224.64 \nz\n\" style=\"fill:#1f77b4;\"/>\n   </g>\n   <g id=\"patch_822\">\n    <path clip-path=\"url(#pdb1cad2b41)\" d=\"M 45.321307 224.64 \nL 109.397862 224.64 \nL 109.397862 224.64 \nL 45.321307 224.64 \nz\n\" style=\"fill:#1f77b4;\"/>\n   </g>\n   <g id=\"patch_823\">\n    <path clip-path=\"url(#pdb1cad2b41)\" d=\"M 285.608388 224.64 \nL 349.684943 224.64 \nL 349.684943 17.554286 \nL 285.608388 17.554286 \nz\n\" style=\"fill:#1f77b4;\"/>\n   </g>\n   <g id=\"patch_824\">\n    <path clip-path=\"url(#pdb1cad2b41)\" d=\"M 45.321307 224.64 \nL 109.397862 224.64 \nL 109.397862 17.554286 \nL 45.321307 17.554286 \nz\n\" style=\"fill:#1f77b4;\"/>\n   </g>\n   <g id=\"patch_825\">\n    <path clip-path=\"url(#pdb1cad2b41)\" d=\"M 45.321307 224.64 \nL 109.397862 224.64 \nL 109.397862 224.64 \nL 45.321307 224.64 \nz\n\" style=\"fill:#1f77b4;\"/>\n   </g>\n   <g id=\"patch_826\">\n    <path clip-path=\"url(#pdb1cad2b41)\" d=\"M 125.417001 224.64 \nL 189.493556 224.64 \nL 189.493556 17.554286 \nL 125.417001 17.554286 \nz\n\" style=\"fill:#1f77b4;\"/>\n   </g>\n   <g id=\"patch_827\">\n    <path clip-path=\"url(#pdb1cad2b41)\" d=\"M 45.321307 224.64 \nL 109.397862 224.64 \nL 109.397862 224.64 \nL 45.321307 224.64 \nz\n\" style=\"fill:#1f77b4;\"/>\n   </g>\n   <g id=\"patch_828\">\n    <path clip-path=\"url(#pdb1cad2b41)\" d=\"M 45.321307 224.64 \nL 109.397862 224.64 \nL 109.397862 224.64 \nL 45.321307 224.64 \nz\n\" style=\"fill:#1f77b4;\"/>\n   </g>\n   <g id=\"patch_829\">\n    <path clip-path=\"url(#pdb1cad2b41)\" d=\"M 45.321307 224.64 \nL 109.397862 224.64 \nL 109.397862 224.64 \nL 45.321307 224.64 \nz\n\" style=\"fill:#1f77b4;\"/>\n   </g>\n   <g id=\"patch_830\">\n    <path clip-path=\"url(#pdb1cad2b41)\" d=\"M 45.321307 224.64 \nL 109.397862 224.64 \nL 109.397862 17.554286 \nL 45.321307 17.554286 \nz\n\" style=\"fill:#1f77b4;\"/>\n   </g>\n   <g id=\"patch_831\">\n    <path clip-path=\"url(#pdb1cad2b41)\" d=\"M 45.321307 224.64 \nL 109.397862 224.64 \nL 109.397862 17.554286 \nL 45.321307 17.554286 \nz\n\" style=\"fill:#1f77b4;\"/>\n   </g>\n   <g id=\"patch_832\">\n    <path clip-path=\"url(#pdb1cad2b41)\" d=\"M 285.608388 224.64 \nL 349.684943 224.64 \nL 349.684943 17.554286 \nL 285.608388 17.554286 \nz\n\" style=\"fill:#1f77b4;\"/>\n   </g>\n   <g id=\"patch_833\">\n    <path clip-path=\"url(#pdb1cad2b41)\" d=\"M 205.512694 224.64 \nL 269.589249 224.64 \nL 269.589249 17.554286 \nL 205.512694 17.554286 \nz\n\" style=\"fill:#1f77b4;\"/>\n   </g>\n   <g id=\"patch_834\">\n    <path clip-path=\"url(#pdb1cad2b41)\" d=\"M 45.321307 224.64 \nL 109.397862 224.64 \nL 109.397862 17.554286 \nL 45.321307 17.554286 \nz\n\" style=\"fill:#1f77b4;\"/>\n   </g>\n   <g id=\"patch_835\">\n    <path clip-path=\"url(#pdb1cad2b41)\" d=\"M 45.321307 224.64 \nL 109.397862 224.64 \nL 109.397862 224.64 \nL 45.321307 224.64 \nz\n\" style=\"fill:#1f77b4;\"/>\n   </g>\n   <g id=\"patch_836\">\n    <path clip-path=\"url(#pdb1cad2b41)\" d=\"M 45.321307 224.64 \nL 109.397862 224.64 \nL 109.397862 224.64 \nL 45.321307 224.64 \nz\n\" style=\"fill:#1f77b4;\"/>\n   </g>\n   <g id=\"patch_837\">\n    <path clip-path=\"url(#pdb1cad2b41)\" d=\"M 45.321307 224.64 \nL 109.397862 224.64 \nL 109.397862 224.64 \nL 45.321307 224.64 \nz\n\" style=\"fill:#1f77b4;\"/>\n   </g>\n   <g id=\"patch_838\">\n    <path clip-path=\"url(#pdb1cad2b41)\" d=\"M 285.608388 224.64 \nL 349.684943 224.64 \nL 349.684943 17.554286 \nL 285.608388 17.554286 \nz\n\" style=\"fill:#1f77b4;\"/>\n   </g>\n   <g id=\"patch_839\">\n    <path clip-path=\"url(#pdb1cad2b41)\" d=\"M 45.321307 224.64 \nL 109.397862 224.64 \nL 109.397862 224.64 \nL 45.321307 224.64 \nz\n\" style=\"fill:#1f77b4;\"/>\n   </g>\n   <g id=\"patch_840\">\n    <path clip-path=\"url(#pdb1cad2b41)\" d=\"M 45.321307 224.64 \nL 109.397862 224.64 \nL 109.397862 224.64 \nL 45.321307 224.64 \nz\n\" style=\"fill:#1f77b4;\"/>\n   </g>\n   <g id=\"patch_841\">\n    <path clip-path=\"url(#pdb1cad2b41)\" d=\"M 45.321307 224.64 \nL 109.397862 224.64 \nL 109.397862 17.554286 \nL 45.321307 17.554286 \nz\n\" style=\"fill:#1f77b4;\"/>\n   </g>\n   <g id=\"patch_842\">\n    <path clip-path=\"url(#pdb1cad2b41)\" d=\"M 45.321307 224.64 \nL 109.397862 224.64 \nL 109.397862 17.554286 \nL 45.321307 17.554286 \nz\n\" style=\"fill:#1f77b4;\"/>\n   </g>\n   <g id=\"patch_843\">\n    <path clip-path=\"url(#pdb1cad2b41)\" d=\"M 45.321307 224.64 \nL 109.397862 224.64 \nL 109.397862 224.64 \nL 45.321307 224.64 \nz\n\" style=\"fill:#1f77b4;\"/>\n   </g>\n   <g id=\"patch_844\">\n    <path clip-path=\"url(#pdb1cad2b41)\" d=\"M 45.321307 224.64 \nL 109.397862 224.64 \nL 109.397862 224.64 \nL 45.321307 224.64 \nz\n\" style=\"fill:#1f77b4;\"/>\n   </g>\n   <g id=\"patch_845\">\n    <path clip-path=\"url(#pdb1cad2b41)\" d=\"M 205.512694 224.64 \nL 269.589249 224.64 \nL 269.589249 17.554286 \nL 205.512694 17.554286 \nz\n\" style=\"fill:#1f77b4;\"/>\n   </g>\n   <g id=\"patch_846\">\n    <path clip-path=\"url(#pdb1cad2b41)\" d=\"M 45.321307 224.64 \nL 109.397862 224.64 \nL 109.397862 224.64 \nL 45.321307 224.64 \nz\n\" style=\"fill:#1f77b4;\"/>\n   </g>\n   <g id=\"patch_847\">\n    <path clip-path=\"url(#pdb1cad2b41)\" d=\"M 45.321307 224.64 \nL 109.397862 224.64 \nL 109.397862 224.64 \nL 45.321307 224.64 \nz\n\" style=\"fill:#1f77b4;\"/>\n   </g>\n   <g id=\"patch_848\">\n    <path clip-path=\"url(#pdb1cad2b41)\" d=\"M 45.321307 224.64 \nL 109.397862 224.64 \nL 109.397862 224.64 \nL 45.321307 224.64 \nz\n\" style=\"fill:#1f77b4;\"/>\n   </g>\n   <g id=\"patch_849\">\n    <path clip-path=\"url(#pdb1cad2b41)\" d=\"M 45.321307 224.64 \nL 109.397862 224.64 \nL 109.397862 224.64 \nL 45.321307 224.64 \nz\n\" style=\"fill:#1f77b4;\"/>\n   </g>\n   <g id=\"patch_850\">\n    <path clip-path=\"url(#pdb1cad2b41)\" d=\"M 45.321307 224.64 \nL 109.397862 224.64 \nL 109.397862 224.64 \nL 45.321307 224.64 \nz\n\" style=\"fill:#1f77b4;\"/>\n   </g>\n   <g id=\"patch_851\">\n    <path clip-path=\"url(#pdb1cad2b41)\" d=\"M 45.321307 224.64 \nL 109.397862 224.64 \nL 109.397862 224.64 \nL 45.321307 224.64 \nz\n\" style=\"fill:#1f77b4;\"/>\n   </g>\n   <g id=\"patch_852\">\n    <path clip-path=\"url(#pdb1cad2b41)\" d=\"M 285.608388 224.64 \nL 349.684943 224.64 \nL 349.684943 17.554286 \nL 285.608388 17.554286 \nz\n\" style=\"fill:#1f77b4;\"/>\n   </g>\n   <g id=\"patch_853\">\n    <path clip-path=\"url(#pdb1cad2b41)\" d=\"M 45.321307 224.64 \nL 109.397862 224.64 \nL 109.397862 224.64 \nL 45.321307 224.64 \nz\n\" style=\"fill:#1f77b4;\"/>\n   </g>\n   <g id=\"patch_854\">\n    <path clip-path=\"url(#pdb1cad2b41)\" d=\"M 45.321307 224.64 \nL 109.397862 224.64 \nL 109.397862 224.64 \nL 45.321307 224.64 \nz\n\" style=\"fill:#1f77b4;\"/>\n   </g>\n   <g id=\"patch_855\">\n    <path clip-path=\"url(#pdb1cad2b41)\" d=\"M 205.512694 224.64 \nL 269.589249 224.64 \nL 269.589249 224.64 \nL 205.512694 224.64 \nz\n\" style=\"fill:#1f77b4;\"/>\n   </g>\n   <g id=\"patch_856\">\n    <path clip-path=\"url(#pdb1cad2b41)\" d=\"M 285.608388 224.64 \nL 349.684943 224.64 \nL 349.684943 17.554286 \nL 285.608388 17.554286 \nz\n\" style=\"fill:#1f77b4;\"/>\n   </g>\n   <g id=\"patch_857\">\n    <path clip-path=\"url(#pdb1cad2b41)\" d=\"M 205.512694 224.64 \nL 269.589249 224.64 \nL 269.589249 224.64 \nL 205.512694 224.64 \nz\n\" style=\"fill:#1f77b4;\"/>\n   </g>\n   <g id=\"patch_858\">\n    <path clip-path=\"url(#pdb1cad2b41)\" d=\"M 125.417001 224.64 \nL 189.493556 224.64 \nL 189.493556 17.554286 \nL 125.417001 17.554286 \nz\n\" style=\"fill:#1f77b4;\"/>\n   </g>\n   <g id=\"patch_859\">\n    <path clip-path=\"url(#pdb1cad2b41)\" d=\"M 285.608388 224.64 \nL 349.684943 224.64 \nL 349.684943 17.554286 \nL 285.608388 17.554286 \nz\n\" style=\"fill:#1f77b4;\"/>\n   </g>\n   <g id=\"patch_860\">\n    <path clip-path=\"url(#pdb1cad2b41)\" d=\"M 45.321307 224.64 \nL 109.397862 224.64 \nL 109.397862 17.554286 \nL 45.321307 17.554286 \nz\n\" style=\"fill:#1f77b4;\"/>\n   </g>\n   <g id=\"patch_861\">\n    <path clip-path=\"url(#pdb1cad2b41)\" d=\"M 205.512694 224.64 \nL 269.589249 224.64 \nL 269.589249 17.554286 \nL 205.512694 17.554286 \nz\n\" style=\"fill:#1f77b4;\"/>\n   </g>\n   <g id=\"patch_862\">\n    <path clip-path=\"url(#pdb1cad2b41)\" d=\"M 45.321307 224.64 \nL 109.397862 224.64 \nL 109.397862 224.64 \nL 45.321307 224.64 \nz\n\" style=\"fill:#1f77b4;\"/>\n   </g>\n   <g id=\"patch_863\">\n    <path clip-path=\"url(#pdb1cad2b41)\" d=\"M 45.321307 224.64 \nL 109.397862 224.64 \nL 109.397862 224.64 \nL 45.321307 224.64 \nz\n\" style=\"fill:#1f77b4;\"/>\n   </g>\n   <g id=\"patch_864\">\n    <path clip-path=\"url(#pdb1cad2b41)\" d=\"M 45.321307 224.64 \nL 109.397862 224.64 \nL 109.397862 224.64 \nL 45.321307 224.64 \nz\n\" style=\"fill:#1f77b4;\"/>\n   </g>\n   <g id=\"patch_865\">\n    <path clip-path=\"url(#pdb1cad2b41)\" d=\"M 205.512694 224.64 \nL 269.589249 224.64 \nL 269.589249 17.554286 \nL 205.512694 17.554286 \nz\n\" style=\"fill:#1f77b4;\"/>\n   </g>\n   <g id=\"patch_866\">\n    <path clip-path=\"url(#pdb1cad2b41)\" d=\"M 285.608388 224.64 \nL 349.684943 224.64 \nL 349.684943 224.64 \nL 285.608388 224.64 \nz\n\" style=\"fill:#1f77b4;\"/>\n   </g>\n   <g id=\"patch_867\">\n    <path clip-path=\"url(#pdb1cad2b41)\" d=\"M 45.321307 224.64 \nL 109.397862 224.64 \nL 109.397862 224.64 \nL 45.321307 224.64 \nz\n\" style=\"fill:#1f77b4;\"/>\n   </g>\n   <g id=\"patch_868\">\n    <path clip-path=\"url(#pdb1cad2b41)\" d=\"M 125.417001 224.64 \nL 189.493556 224.64 \nL 189.493556 17.554286 \nL 125.417001 17.554286 \nz\n\" style=\"fill:#1f77b4;\"/>\n   </g>\n   <g id=\"patch_869\">\n    <path clip-path=\"url(#pdb1cad2b41)\" d=\"M 125.417001 224.64 \nL 189.493556 224.64 \nL 189.493556 17.554286 \nL 125.417001 17.554286 \nz\n\" style=\"fill:#1f77b4;\"/>\n   </g>\n   <g id=\"patch_870\">\n    <path clip-path=\"url(#pdb1cad2b41)\" d=\"M 45.321307 224.64 \nL 109.397862 224.64 \nL 109.397862 224.64 \nL 45.321307 224.64 \nz\n\" style=\"fill:#1f77b4;\"/>\n   </g>\n   <g id=\"patch_871\">\n    <path clip-path=\"url(#pdb1cad2b41)\" d=\"M 45.321307 224.64 \nL 109.397862 224.64 \nL 109.397862 224.64 \nL 45.321307 224.64 \nz\n\" style=\"fill:#1f77b4;\"/>\n   </g>\n   <g id=\"patch_872\">\n    <path clip-path=\"url(#pdb1cad2b41)\" d=\"M 45.321307 224.64 \nL 109.397862 224.64 \nL 109.397862 17.554286 \nL 45.321307 17.554286 \nz\n\" style=\"fill:#1f77b4;\"/>\n   </g>\n   <g id=\"patch_873\">\n    <path clip-path=\"url(#pdb1cad2b41)\" d=\"M 45.321307 224.64 \nL 109.397862 224.64 \nL 109.397862 224.64 \nL 45.321307 224.64 \nz\n\" style=\"fill:#1f77b4;\"/>\n   </g>\n   <g id=\"patch_874\">\n    <path clip-path=\"url(#pdb1cad2b41)\" d=\"M 285.608388 224.64 \nL 349.684943 224.64 \nL 349.684943 17.554286 \nL 285.608388 17.554286 \nz\n\" style=\"fill:#1f77b4;\"/>\n   </g>\n   <g id=\"patch_875\">\n    <path clip-path=\"url(#pdb1cad2b41)\" d=\"M 45.321307 224.64 \nL 109.397862 224.64 \nL 109.397862 224.64 \nL 45.321307 224.64 \nz\n\" style=\"fill:#1f77b4;\"/>\n   </g>\n   <g id=\"patch_876\">\n    <path clip-path=\"url(#pdb1cad2b41)\" d=\"M 45.321307 224.64 \nL 109.397862 224.64 \nL 109.397862 224.64 \nL 45.321307 224.64 \nz\n\" style=\"fill:#1f77b4;\"/>\n   </g>\n   <g id=\"patch_877\">\n    <path clip-path=\"url(#pdb1cad2b41)\" d=\"M 205.512694 224.64 \nL 269.589249 224.64 \nL 269.589249 17.554286 \nL 205.512694 17.554286 \nz\n\" style=\"fill:#1f77b4;\"/>\n   </g>\n   <g id=\"patch_878\">\n    <path clip-path=\"url(#pdb1cad2b41)\" d=\"M 45.321307 224.64 \nL 109.397862 224.64 \nL 109.397862 17.554286 \nL 45.321307 17.554286 \nz\n\" style=\"fill:#1f77b4;\"/>\n   </g>\n   <g id=\"patch_879\">\n    <path clip-path=\"url(#pdb1cad2b41)\" d=\"M 45.321307 224.64 \nL 109.397862 224.64 \nL 109.397862 224.64 \nL 45.321307 224.64 \nz\n\" style=\"fill:#1f77b4;\"/>\n   </g>\n   <g id=\"patch_880\">\n    <path clip-path=\"url(#pdb1cad2b41)\" d=\"M 45.321307 224.64 \nL 109.397862 224.64 \nL 109.397862 224.64 \nL 45.321307 224.64 \nz\n\" style=\"fill:#1f77b4;\"/>\n   </g>\n   <g id=\"patch_881\">\n    <path clip-path=\"url(#pdb1cad2b41)\" d=\"M 45.321307 224.64 \nL 109.397862 224.64 \nL 109.397862 224.64 \nL 45.321307 224.64 \nz\n\" style=\"fill:#1f77b4;\"/>\n   </g>\n   <g id=\"patch_882\">\n    <path clip-path=\"url(#pdb1cad2b41)\" d=\"M 285.608388 224.64 \nL 349.684943 224.64 \nL 349.684943 17.554286 \nL 285.608388 17.554286 \nz\n\" style=\"fill:#1f77b4;\"/>\n   </g>\n   <g id=\"patch_883\">\n    <path clip-path=\"url(#pdb1cad2b41)\" d=\"M 205.512694 224.64 \nL 269.589249 224.64 \nL 269.589249 17.554286 \nL 205.512694 17.554286 \nz\n\" style=\"fill:#1f77b4;\"/>\n   </g>\n   <g id=\"patch_884\">\n    <path clip-path=\"url(#pdb1cad2b41)\" d=\"M 45.321307 224.64 \nL 109.397862 224.64 \nL 109.397862 224.64 \nL 45.321307 224.64 \nz\n\" style=\"fill:#1f77b4;\"/>\n   </g>\n   <g id=\"patch_885\">\n    <path clip-path=\"url(#pdb1cad2b41)\" d=\"M 125.417001 224.64 \nL 189.493556 224.64 \nL 189.493556 224.64 \nL 125.417001 224.64 \nz\n\" style=\"fill:#1f77b4;\"/>\n   </g>\n   <g id=\"patch_886\">\n    <path clip-path=\"url(#pdb1cad2b41)\" d=\"M 45.321307 224.64 \nL 109.397862 224.64 \nL 109.397862 224.64 \nL 45.321307 224.64 \nz\n\" style=\"fill:#1f77b4;\"/>\n   </g>\n   <g id=\"patch_887\">\n    <path clip-path=\"url(#pdb1cad2b41)\" d=\"M 45.321307 224.64 \nL 109.397862 224.64 \nL 109.397862 224.64 \nL 45.321307 224.64 \nz\n\" style=\"fill:#1f77b4;\"/>\n   </g>\n   <g id=\"patch_888\">\n    <path clip-path=\"url(#pdb1cad2b41)\" d=\"M 205.512694 224.64 \nL 269.589249 224.64 \nL 269.589249 224.64 \nL 205.512694 224.64 \nz\n\" style=\"fill:#1f77b4;\"/>\n   </g>\n   <g id=\"patch_889\">\n    <path clip-path=\"url(#pdb1cad2b41)\" d=\"M 45.321307 224.64 \nL 109.397862 224.64 \nL 109.397862 224.64 \nL 45.321307 224.64 \nz\n\" style=\"fill:#1f77b4;\"/>\n   </g>\n   <g id=\"patch_890\">\n    <path clip-path=\"url(#pdb1cad2b41)\" d=\"M 205.512694 224.64 \nL 269.589249 224.64 \nL 269.589249 17.554286 \nL 205.512694 17.554286 \nz\n\" style=\"fill:#1f77b4;\"/>\n   </g>\n   <g id=\"patch_891\">\n    <path clip-path=\"url(#pdb1cad2b41)\" d=\"M 205.512694 224.64 \nL 269.589249 224.64 \nL 269.589249 224.64 \nL 205.512694 224.64 \nz\n\" style=\"fill:#1f77b4;\"/>\n   </g>\n   <g id=\"patch_892\">\n    <path clip-path=\"url(#pdb1cad2b41)\" d=\"M 45.321307 224.64 \nL 109.397862 224.64 \nL 109.397862 17.554286 \nL 45.321307 17.554286 \nz\n\" style=\"fill:#1f77b4;\"/>\n   </g>\n   <g id=\"patch_893\">\n    <path clip-path=\"url(#pdb1cad2b41)\" d=\"M 45.321307 224.64 \nL 109.397862 224.64 \nL 109.397862 224.64 \nL 45.321307 224.64 \nz\n\" style=\"fill:#1f77b4;\"/>\n   </g>\n   <g id=\"matplotlib.axis_1\">\n    <g id=\"xtick_1\">\n     <g id=\"line2d_1\">\n      <defs>\n       <path d=\"M 0 0 \nL 0 3.5 \n\" id=\"m77a36aa62f\" style=\"stroke:#000000;stroke-width:0.8;\"/>\n      </defs>\n      <g>\n       <use style=\"stroke:#000000;stroke-width:0.8;\" x=\"37.311737\" xlink:href=\"#m77a36aa62f\" y=\"224.64\"/>\n      </g>\n     </g>\n     <g id=\"text_1\">\n      <!-- −0.5 -->\n      <defs>\n       <path d=\"M 10.59375 35.5 \nL 73.1875 35.5 \nL 73.1875 27.203125 \nL 10.59375 27.203125 \nz\n\" id=\"DejaVuSans-8722\"/>\n       <path d=\"M 31.78125 66.40625 \nQ 24.171875 66.40625 20.328125 58.90625 \nQ 16.5 51.421875 16.5 36.375 \nQ 16.5 21.390625 20.328125 13.890625 \nQ 24.171875 6.390625 31.78125 6.390625 \nQ 39.453125 6.390625 43.28125 13.890625 \nQ 47.125 21.390625 47.125 36.375 \nQ 47.125 51.421875 43.28125 58.90625 \nQ 39.453125 66.40625 31.78125 66.40625 \nz\nM 31.78125 74.21875 \nQ 44.046875 74.21875 50.515625 64.515625 \nQ 56.984375 54.828125 56.984375 36.375 \nQ 56.984375 17.96875 50.515625 8.265625 \nQ 44.046875 -1.421875 31.78125 -1.421875 \nQ 19.53125 -1.421875 13.0625 8.265625 \nQ 6.59375 17.96875 6.59375 36.375 \nQ 6.59375 54.828125 13.0625 64.515625 \nQ 19.53125 74.21875 31.78125 74.21875 \nz\n\" id=\"DejaVuSans-48\"/>\n       <path d=\"M 10.6875 12.40625 \nL 21 12.40625 \nL 21 0 \nL 10.6875 0 \nz\n\" id=\"DejaVuSans-46\"/>\n       <path d=\"M 10.796875 72.90625 \nL 49.515625 72.90625 \nL 49.515625 64.59375 \nL 19.828125 64.59375 \nL 19.828125 46.734375 \nQ 21.96875 47.46875 24.109375 47.828125 \nQ 26.265625 48.1875 28.421875 48.1875 \nQ 40.625 48.1875 47.75 41.5 \nQ 54.890625 34.8125 54.890625 23.390625 \nQ 54.890625 11.625 47.5625 5.09375 \nQ 40.234375 -1.421875 26.90625 -1.421875 \nQ 22.3125 -1.421875 17.546875 -0.640625 \nQ 12.796875 0.140625 7.71875 1.703125 \nL 7.71875 11.625 \nQ 12.109375 9.234375 16.796875 8.0625 \nQ 21.484375 6.890625 26.703125 6.890625 \nQ 35.15625 6.890625 40.078125 11.328125 \nQ 45.015625 15.765625 45.015625 23.390625 \nQ 45.015625 31 40.078125 35.4375 \nQ 35.15625 39.890625 26.703125 39.890625 \nQ 22.75 39.890625 18.8125 39.015625 \nQ 14.890625 38.140625 10.796875 36.28125 \nz\n\" id=\"DejaVuSans-53\"/>\n      </defs>\n      <g transform=\"translate(25.170331 239.238437)scale(0.1 -0.1)\">\n       <use xlink:href=\"#DejaVuSans-8722\"/>\n       <use x=\"83.789062\" xlink:href=\"#DejaVuSans-48\"/>\n       <use x=\"147.412109\" xlink:href=\"#DejaVuSans-46\"/>\n       <use x=\"179.199219\" xlink:href=\"#DejaVuSans-53\"/>\n      </g>\n     </g>\n    </g>\n    <g id=\"xtick_2\">\n     <g id=\"line2d_2\">\n      <g>\n       <use style=\"stroke:#000000;stroke-width:0.8;\" x=\"77.359584\" xlink:href=\"#m77a36aa62f\" y=\"224.64\"/>\n      </g>\n     </g>\n     <g id=\"text_2\">\n      <!-- 0.0 -->\n      <g transform=\"translate(69.408022 239.238437)scale(0.1 -0.1)\">\n       <use xlink:href=\"#DejaVuSans-48\"/>\n       <use x=\"63.623047\" xlink:href=\"#DejaVuSans-46\"/>\n       <use x=\"95.410156\" xlink:href=\"#DejaVuSans-48\"/>\n      </g>\n     </g>\n    </g>\n    <g id=\"xtick_3\">\n     <g id=\"line2d_3\">\n      <g>\n       <use style=\"stroke:#000000;stroke-width:0.8;\" x=\"117.407431\" xlink:href=\"#m77a36aa62f\" y=\"224.64\"/>\n      </g>\n     </g>\n     <g id=\"text_3\">\n      <!-- 0.5 -->\n      <g transform=\"translate(109.455869 239.238437)scale(0.1 -0.1)\">\n       <use xlink:href=\"#DejaVuSans-48\"/>\n       <use x=\"63.623047\" xlink:href=\"#DejaVuSans-46\"/>\n       <use x=\"95.410156\" xlink:href=\"#DejaVuSans-53\"/>\n      </g>\n     </g>\n    </g>\n    <g id=\"xtick_4\">\n     <g id=\"line2d_4\">\n      <g>\n       <use style=\"stroke:#000000;stroke-width:0.8;\" x=\"157.455278\" xlink:href=\"#m77a36aa62f\" y=\"224.64\"/>\n      </g>\n     </g>\n     <g id=\"text_4\">\n      <!-- 1.0 -->\n      <defs>\n       <path d=\"M 12.40625 8.296875 \nL 28.515625 8.296875 \nL 28.515625 63.921875 \nL 10.984375 60.40625 \nL 10.984375 69.390625 \nL 28.421875 72.90625 \nL 38.28125 72.90625 \nL 38.28125 8.296875 \nL 54.390625 8.296875 \nL 54.390625 0 \nL 12.40625 0 \nz\n\" id=\"DejaVuSans-49\"/>\n      </defs>\n      <g transform=\"translate(149.503716 239.238437)scale(0.1 -0.1)\">\n       <use xlink:href=\"#DejaVuSans-49\"/>\n       <use x=\"63.623047\" xlink:href=\"#DejaVuSans-46\"/>\n       <use x=\"95.410156\" xlink:href=\"#DejaVuSans-48\"/>\n      </g>\n     </g>\n    </g>\n    <g id=\"xtick_5\">\n     <g id=\"line2d_5\">\n      <g>\n       <use style=\"stroke:#000000;stroke-width:0.8;\" x=\"197.503125\" xlink:href=\"#m77a36aa62f\" y=\"224.64\"/>\n      </g>\n     </g>\n     <g id=\"text_5\">\n      <!-- 1.5 -->\n      <g transform=\"translate(189.551563 239.238437)scale(0.1 -0.1)\">\n       <use xlink:href=\"#DejaVuSans-49\"/>\n       <use x=\"63.623047\" xlink:href=\"#DejaVuSans-46\"/>\n       <use x=\"95.410156\" xlink:href=\"#DejaVuSans-53\"/>\n      </g>\n     </g>\n    </g>\n    <g id=\"xtick_6\">\n     <g id=\"line2d_6\">\n      <g>\n       <use style=\"stroke:#000000;stroke-width:0.8;\" x=\"237.550972\" xlink:href=\"#m77a36aa62f\" y=\"224.64\"/>\n      </g>\n     </g>\n     <g id=\"text_6\">\n      <!-- 2.0 -->\n      <defs>\n       <path d=\"M 19.1875 8.296875 \nL 53.609375 8.296875 \nL 53.609375 0 \nL 7.328125 0 \nL 7.328125 8.296875 \nQ 12.9375 14.109375 22.625 23.890625 \nQ 32.328125 33.6875 34.8125 36.53125 \nQ 39.546875 41.84375 41.421875 45.53125 \nQ 43.3125 49.21875 43.3125 52.78125 \nQ 43.3125 58.59375 39.234375 62.25 \nQ 35.15625 65.921875 28.609375 65.921875 \nQ 23.96875 65.921875 18.8125 64.3125 \nQ 13.671875 62.703125 7.8125 59.421875 \nL 7.8125 69.390625 \nQ 13.765625 71.78125 18.9375 73 \nQ 24.125 74.21875 28.421875 74.21875 \nQ 39.75 74.21875 46.484375 68.546875 \nQ 53.21875 62.890625 53.21875 53.421875 \nQ 53.21875 48.921875 51.53125 44.890625 \nQ 49.859375 40.875 45.40625 35.40625 \nQ 44.1875 33.984375 37.640625 27.21875 \nQ 31.109375 20.453125 19.1875 8.296875 \nz\n\" id=\"DejaVuSans-50\"/>\n      </defs>\n      <g transform=\"translate(229.599409 239.238437)scale(0.1 -0.1)\">\n       <use xlink:href=\"#DejaVuSans-50\"/>\n       <use x=\"63.623047\" xlink:href=\"#DejaVuSans-46\"/>\n       <use x=\"95.410156\" xlink:href=\"#DejaVuSans-48\"/>\n      </g>\n     </g>\n    </g>\n    <g id=\"xtick_7\">\n     <g id=\"line2d_7\">\n      <g>\n       <use style=\"stroke:#000000;stroke-width:0.8;\" x=\"277.598819\" xlink:href=\"#m77a36aa62f\" y=\"224.64\"/>\n      </g>\n     </g>\n     <g id=\"text_7\">\n      <!-- 2.5 -->\n      <g transform=\"translate(269.647256 239.238437)scale(0.1 -0.1)\">\n       <use xlink:href=\"#DejaVuSans-50\"/>\n       <use x=\"63.623047\" xlink:href=\"#DejaVuSans-46\"/>\n       <use x=\"95.410156\" xlink:href=\"#DejaVuSans-53\"/>\n      </g>\n     </g>\n    </g>\n    <g id=\"xtick_8\">\n     <g id=\"line2d_8\">\n      <g>\n       <use style=\"stroke:#000000;stroke-width:0.8;\" x=\"317.646666\" xlink:href=\"#m77a36aa62f\" y=\"224.64\"/>\n      </g>\n     </g>\n     <g id=\"text_8\">\n      <!-- 3.0 -->\n      <defs>\n       <path d=\"M 40.578125 39.3125 \nQ 47.65625 37.796875 51.625 33 \nQ 55.609375 28.21875 55.609375 21.1875 \nQ 55.609375 10.40625 48.1875 4.484375 \nQ 40.765625 -1.421875 27.09375 -1.421875 \nQ 22.515625 -1.421875 17.65625 -0.515625 \nQ 12.796875 0.390625 7.625 2.203125 \nL 7.625 11.71875 \nQ 11.71875 9.328125 16.59375 8.109375 \nQ 21.484375 6.890625 26.8125 6.890625 \nQ 36.078125 6.890625 40.9375 10.546875 \nQ 45.796875 14.203125 45.796875 21.1875 \nQ 45.796875 27.640625 41.28125 31.265625 \nQ 36.765625 34.90625 28.71875 34.90625 \nL 20.21875 34.90625 \nL 20.21875 43.015625 \nL 29.109375 43.015625 \nQ 36.375 43.015625 40.234375 45.921875 \nQ 44.09375 48.828125 44.09375 54.296875 \nQ 44.09375 59.90625 40.109375 62.90625 \nQ 36.140625 65.921875 28.71875 65.921875 \nQ 24.65625 65.921875 20.015625 65.03125 \nQ 15.375 64.15625 9.8125 62.3125 \nL 9.8125 71.09375 \nQ 15.4375 72.65625 20.34375 73.4375 \nQ 25.25 74.21875 29.59375 74.21875 \nQ 40.828125 74.21875 47.359375 69.109375 \nQ 53.90625 64.015625 53.90625 55.328125 \nQ 53.90625 49.265625 50.4375 45.09375 \nQ 46.96875 40.921875 40.578125 39.3125 \nz\n\" id=\"DejaVuSans-51\"/>\n      </defs>\n      <g transform=\"translate(309.695103 239.238437)scale(0.1 -0.1)\">\n       <use xlink:href=\"#DejaVuSans-51\"/>\n       <use x=\"63.623047\" xlink:href=\"#DejaVuSans-46\"/>\n       <use x=\"95.410156\" xlink:href=\"#DejaVuSans-48\"/>\n      </g>\n     </g>\n    </g>\n    <g id=\"xtick_9\">\n     <g id=\"line2d_9\">\n      <g>\n       <use style=\"stroke:#000000;stroke-width:0.8;\" x=\"357.694513\" xlink:href=\"#m77a36aa62f\" y=\"224.64\"/>\n      </g>\n     </g>\n     <g id=\"text_9\">\n      <!-- 3.5 -->\n      <g transform=\"translate(349.74295 239.238437)scale(0.1 -0.1)\">\n       <use xlink:href=\"#DejaVuSans-51\"/>\n       <use x=\"63.623047\" xlink:href=\"#DejaVuSans-46\"/>\n       <use x=\"95.410156\" xlink:href=\"#DejaVuSans-53\"/>\n      </g>\n     </g>\n    </g>\n   </g>\n   <g id=\"matplotlib.axis_2\">\n    <g id=\"ytick_1\">\n     <g id=\"line2d_10\">\n      <defs>\n       <path d=\"M 0 0 \nL -3.5 0 \n\" id=\"m2610173a1f\" style=\"stroke:#000000;stroke-width:0.8;\"/>\n      </defs>\n      <g>\n       <use style=\"stroke:#000000;stroke-width:0.8;\" x=\"30.103125\" xlink:href=\"#m2610173a1f\" y=\"224.64\"/>\n      </g>\n     </g>\n     <g id=\"text_10\">\n      <!-- 0.0 -->\n      <g transform=\"translate(7.2 228.439219)scale(0.1 -0.1)\">\n       <use xlink:href=\"#DejaVuSans-48\"/>\n       <use x=\"63.623047\" xlink:href=\"#DejaVuSans-46\"/>\n       <use x=\"95.410156\" xlink:href=\"#DejaVuSans-48\"/>\n      </g>\n     </g>\n    </g>\n    <g id=\"ytick_2\">\n     <g id=\"line2d_11\">\n      <g>\n       <use style=\"stroke:#000000;stroke-width:0.8;\" x=\"30.103125\" xlink:href=\"#m2610173a1f\" y=\"183.222857\"/>\n      </g>\n     </g>\n     <g id=\"text_11\">\n      <!-- 0.2 -->\n      <g transform=\"translate(7.2 187.022076)scale(0.1 -0.1)\">\n       <use xlink:href=\"#DejaVuSans-48\"/>\n       <use x=\"63.623047\" xlink:href=\"#DejaVuSans-46\"/>\n       <use x=\"95.410156\" xlink:href=\"#DejaVuSans-50\"/>\n      </g>\n     </g>\n    </g>\n    <g id=\"ytick_3\">\n     <g id=\"line2d_12\">\n      <g>\n       <use style=\"stroke:#000000;stroke-width:0.8;\" x=\"30.103125\" xlink:href=\"#m2610173a1f\" y=\"141.805714\"/>\n      </g>\n     </g>\n     <g id=\"text_12\">\n      <!-- 0.4 -->\n      <defs>\n       <path d=\"M 37.796875 64.3125 \nL 12.890625 25.390625 \nL 37.796875 25.390625 \nz\nM 35.203125 72.90625 \nL 47.609375 72.90625 \nL 47.609375 25.390625 \nL 58.015625 25.390625 \nL 58.015625 17.1875 \nL 47.609375 17.1875 \nL 47.609375 0 \nL 37.796875 0 \nL 37.796875 17.1875 \nL 4.890625 17.1875 \nL 4.890625 26.703125 \nz\n\" id=\"DejaVuSans-52\"/>\n      </defs>\n      <g transform=\"translate(7.2 145.604933)scale(0.1 -0.1)\">\n       <use xlink:href=\"#DejaVuSans-48\"/>\n       <use x=\"63.623047\" xlink:href=\"#DejaVuSans-46\"/>\n       <use x=\"95.410156\" xlink:href=\"#DejaVuSans-52\"/>\n      </g>\n     </g>\n    </g>\n    <g id=\"ytick_4\">\n     <g id=\"line2d_13\">\n      <g>\n       <use style=\"stroke:#000000;stroke-width:0.8;\" x=\"30.103125\" xlink:href=\"#m2610173a1f\" y=\"100.388571\"/>\n      </g>\n     </g>\n     <g id=\"text_13\">\n      <!-- 0.6 -->\n      <defs>\n       <path d=\"M 33.015625 40.375 \nQ 26.375 40.375 22.484375 35.828125 \nQ 18.609375 31.296875 18.609375 23.390625 \nQ 18.609375 15.53125 22.484375 10.953125 \nQ 26.375 6.390625 33.015625 6.390625 \nQ 39.65625 6.390625 43.53125 10.953125 \nQ 47.40625 15.53125 47.40625 23.390625 \nQ 47.40625 31.296875 43.53125 35.828125 \nQ 39.65625 40.375 33.015625 40.375 \nz\nM 52.59375 71.296875 \nL 52.59375 62.3125 \nQ 48.875 64.0625 45.09375 64.984375 \nQ 41.3125 65.921875 37.59375 65.921875 \nQ 27.828125 65.921875 22.671875 59.328125 \nQ 17.53125 52.734375 16.796875 39.40625 \nQ 19.671875 43.65625 24.015625 45.921875 \nQ 28.375 48.1875 33.59375 48.1875 \nQ 44.578125 48.1875 50.953125 41.515625 \nQ 57.328125 34.859375 57.328125 23.390625 \nQ 57.328125 12.15625 50.6875 5.359375 \nQ 44.046875 -1.421875 33.015625 -1.421875 \nQ 20.359375 -1.421875 13.671875 8.265625 \nQ 6.984375 17.96875 6.984375 36.375 \nQ 6.984375 53.65625 15.1875 63.9375 \nQ 23.390625 74.21875 37.203125 74.21875 \nQ 40.921875 74.21875 44.703125 73.484375 \nQ 48.484375 72.75 52.59375 71.296875 \nz\n\" id=\"DejaVuSans-54\"/>\n      </defs>\n      <g transform=\"translate(7.2 104.18779)scale(0.1 -0.1)\">\n       <use xlink:href=\"#DejaVuSans-48\"/>\n       <use x=\"63.623047\" xlink:href=\"#DejaVuSans-46\"/>\n       <use x=\"95.410156\" xlink:href=\"#DejaVuSans-54\"/>\n      </g>\n     </g>\n    </g>\n    <g id=\"ytick_5\">\n     <g id=\"line2d_14\">\n      <g>\n       <use style=\"stroke:#000000;stroke-width:0.8;\" x=\"30.103125\" xlink:href=\"#m2610173a1f\" y=\"58.971429\"/>\n      </g>\n     </g>\n     <g id=\"text_14\">\n      <!-- 0.8 -->\n      <defs>\n       <path d=\"M 31.78125 34.625 \nQ 24.75 34.625 20.71875 30.859375 \nQ 16.703125 27.09375 16.703125 20.515625 \nQ 16.703125 13.921875 20.71875 10.15625 \nQ 24.75 6.390625 31.78125 6.390625 \nQ 38.8125 6.390625 42.859375 10.171875 \nQ 46.921875 13.96875 46.921875 20.515625 \nQ 46.921875 27.09375 42.890625 30.859375 \nQ 38.875 34.625 31.78125 34.625 \nz\nM 21.921875 38.8125 \nQ 15.578125 40.375 12.03125 44.71875 \nQ 8.5 49.078125 8.5 55.328125 \nQ 8.5 64.0625 14.71875 69.140625 \nQ 20.953125 74.21875 31.78125 74.21875 \nQ 42.671875 74.21875 48.875 69.140625 \nQ 55.078125 64.0625 55.078125 55.328125 \nQ 55.078125 49.078125 51.53125 44.71875 \nQ 48 40.375 41.703125 38.8125 \nQ 48.828125 37.15625 52.796875 32.3125 \nQ 56.78125 27.484375 56.78125 20.515625 \nQ 56.78125 9.90625 50.3125 4.234375 \nQ 43.84375 -1.421875 31.78125 -1.421875 \nQ 19.734375 -1.421875 13.25 4.234375 \nQ 6.78125 9.90625 6.78125 20.515625 \nQ 6.78125 27.484375 10.78125 32.3125 \nQ 14.796875 37.15625 21.921875 38.8125 \nz\nM 18.3125 54.390625 \nQ 18.3125 48.734375 21.84375 45.5625 \nQ 25.390625 42.390625 31.78125 42.390625 \nQ 38.140625 42.390625 41.71875 45.5625 \nQ 45.3125 48.734375 45.3125 54.390625 \nQ 45.3125 60.0625 41.71875 63.234375 \nQ 38.140625 66.40625 31.78125 66.40625 \nQ 25.390625 66.40625 21.84375 63.234375 \nQ 18.3125 60.0625 18.3125 54.390625 \nz\n\" id=\"DejaVuSans-56\"/>\n      </defs>\n      <g transform=\"translate(7.2 62.770647)scale(0.1 -0.1)\">\n       <use xlink:href=\"#DejaVuSans-48\"/>\n       <use x=\"63.623047\" xlink:href=\"#DejaVuSans-46\"/>\n       <use x=\"95.410156\" xlink:href=\"#DejaVuSans-56\"/>\n      </g>\n     </g>\n    </g>\n    <g id=\"ytick_6\">\n     <g id=\"line2d_15\">\n      <g>\n       <use style=\"stroke:#000000;stroke-width:0.8;\" x=\"30.103125\" xlink:href=\"#m2610173a1f\" y=\"17.554286\"/>\n      </g>\n     </g>\n     <g id=\"text_15\">\n      <!-- 1.0 -->\n      <g transform=\"translate(7.2 21.353504)scale(0.1 -0.1)\">\n       <use xlink:href=\"#DejaVuSans-49\"/>\n       <use x=\"63.623047\" xlink:href=\"#DejaVuSans-46\"/>\n       <use x=\"95.410156\" xlink:href=\"#DejaVuSans-48\"/>\n      </g>\n     </g>\n    </g>\n   </g>\n   <g id=\"patch_894\">\n    <path d=\"M 30.103125 224.64 \nL 30.103125 7.2 \n\" style=\"fill:none;stroke:#000000;stroke-linecap:square;stroke-linejoin:miter;stroke-width:0.8;\"/>\n   </g>\n   <g id=\"patch_895\">\n    <path d=\"M 364.903125 224.64 \nL 364.903125 7.2 \n\" style=\"fill:none;stroke:#000000;stroke-linecap:square;stroke-linejoin:miter;stroke-width:0.8;\"/>\n   </g>\n   <g id=\"patch_896\">\n    <path d=\"M 30.103125 224.64 \nL 364.903125 224.64 \n\" style=\"fill:none;stroke:#000000;stroke-linecap:square;stroke-linejoin:miter;stroke-width:0.8;\"/>\n   </g>\n   <g id=\"patch_897\">\n    <path d=\"M 30.103125 7.2 \nL 364.903125 7.2 \n\" style=\"fill:none;stroke:#000000;stroke-linecap:square;stroke-linejoin:miter;stroke-width:0.8;\"/>\n   </g>\n  </g>\n </g>\n <defs>\n  <clipPath id=\"pdb1cad2b41\">\n   <rect height=\"217.44\" width=\"334.8\" x=\"30.103125\" y=\"7.2\"/>\n  </clipPath>\n </defs>\n</svg>\n",
      "image/png": "[encoded data removed]"
     },
     "metadata": {
      "needs_background": "light"
     }
    }
   ],
   "source": [
    "fig, ax = plt.subplots()\n",
    "ax.bar(train['Fare']*train['Sex'], train['Survived'])"
   ]
  },
  {
   "cell_type": "code",
   "execution_count": 2414,
   "metadata": {},
   "outputs": [
    {
     "output_type": "execute_result",
     "data": {
      "text/plain": "array([ 5, 10, 11,  9, 16,  8,  2,  7,  0])"
     },
     "metadata": {},
     "execution_count": 2414
    }
   ],
   "source": [
    "# Dropping the columns which can not help in classification or are too random like \"Tickets\" column\n",
    "test.Name.unique()"
   ]
  },
  {
   "cell_type": "code",
   "execution_count": 2415,
   "metadata": {},
   "outputs": [],
   "source": [
    "train.drop(['Parch','Ticket','Cabin','AgeBand','FareBand'],axis = 1, inplace=True)\n",
    "test.drop(['Parch','Ticket','Cabin'],axis = 1, inplace=True)"
   ]
  },
  {
   "cell_type": "code",
   "execution_count": 2416,
   "metadata": {},
   "outputs": [],
   "source": [
    "train.sample(frac = 1)\n",
    "y_full = train.Survived\n",
    "train_data = train[:600]\n",
    "test_data = train[600:]"
   ]
  },
  {
   "cell_type": "code",
   "execution_count": 2417,
   "metadata": {},
   "outputs": [],
   "source": [
    "# Taking \"Survival\" column from train dataset and dropping it from train"
   ]
  },
  {
   "cell_type": "code",
   "execution_count": 2418,
   "metadata": {},
   "outputs": [],
   "source": [
    "y = train_data.Survived\n",
    "y_test = test_data.Survived\n",
    "train = train.drop([\"Survived\"], axis = 1)\n",
    "train_data = train_data.drop([\"Survived\"], axis = 1)\n",
    "test_data = test_data.drop([\"Survived\"], axis = 1)"
   ]
  },
  {
   "cell_type": "code",
   "execution_count": 2419,
   "metadata": {},
   "outputs": [],
   "source": [
    "# Data Cleaning and transformation is Done.\n",
    "# Proceeding to next step of Model fitting and Prediction"
   ]
  },
  {
   "cell_type": "code",
   "execution_count": 2420,
   "metadata": {},
   "outputs": [],
   "source": [
    "# First using Logistic Regression from scikit-learn"
   ]
  },
  {
   "cell_type": "code",
   "execution_count": 2421,
   "metadata": {},
   "outputs": [],
   "source": [
    "from sklearn.linear_model import LogisticRegression"
   ]
  },
  {
   "cell_type": "code",
   "execution_count": 2422,
   "metadata": {},
   "outputs": [],
   "source": [
    "# Fitting Logistic Regression Model\n",
    "# Using C = 10, we can reach a maximum score of 80.8 %"
   ]
  },
  {
   "cell_type": "code",
   "execution_count": 2423,
   "metadata": {},
   "outputs": [],
   "source": [
    "model = LogisticRegression(C = 10).fit(train_data,y)"
   ]
  },
  {
   "cell_type": "markdown",
   "metadata": {},
   "source": []
  },
  {
   "cell_type": "code",
   "execution_count": 2424,
   "metadata": {},
   "outputs": [],
   "source": [
    "# Checking the fit on the train data itself by using score method"
   ]
  },
  {
   "cell_type": "code",
   "execution_count": 2425,
   "metadata": {},
   "outputs": [
    {
     "output_type": "execute_result",
     "data": {
      "text/plain": "0.8281786941580757"
     },
     "metadata": {},
     "execution_count": 2425
    }
   ],
   "source": [
    "Logisit_score = model.score(test_data,y_test)\n",
    "Logisit_score"
   ]
  },
  {
   "cell_type": "code",
   "execution_count": 2426,
   "metadata": {},
   "outputs": [],
   "source": [
    "# Now using XGBoost, most recent development in classifier algorithms\n",
    "# Fitting the model and then assessing the fit on train dataset itself using \"score()\" method"
   ]
  },
  {
   "cell_type": "code",
   "execution_count": 2427,
   "metadata": {},
   "outputs": [],
   "source": [
    "from sklearn import  metrics, model_selection\n",
    "from xgboost.sklearn import XGBClassifier"
   ]
  },
  {
   "cell_type": "code",
   "execution_count": 2428,
   "metadata": {},
   "outputs": [],
   "source": [
    "test_y = pd.read_csv(\"gender_submission.csv\", index_col= 0)"
   ]
  },
  {
   "cell_type": "code",
   "execution_count": 2429,
   "metadata": {},
   "outputs": [],
   "source": [
    "model2 = XGBClassifier().fit(train_data,y)"
   ]
  },
  {
   "cell_type": "code",
   "execution_count": 2430,
   "metadata": {},
   "outputs": [],
   "source": [
    "XGB_score = model2.score(test_data,y_test)\n",
    "# model2.score(test_data,y_test)"
   ]
  },
  {
   "cell_type": "code",
   "execution_count": 2431,
   "metadata": {},
   "outputs": [],
   "source": [
    "# Using Decision Tree Classifier"
   ]
  },
  {
   "cell_type": "code",
   "execution_count": 2432,
   "metadata": {},
   "outputs": [],
   "source": [
    "from sklearn.tree import DecisionTreeClassifier"
   ]
  },
  {
   "cell_type": "code",
   "execution_count": 2433,
   "metadata": {},
   "outputs": [],
   "source": [
    "tree = DecisionTreeClassifier(random_state = 0)\n",
    "tree.fit(train_data,y)\n",
    "tree_score = tree.score(test_data,y_test)"
   ]
  },
  {
   "cell_type": "code",
   "execution_count": 2434,
   "metadata": {},
   "outputs": [],
   "source": [
    "# displaying the decision tree created by the algorithms"
   ]
  },
  {
   "cell_type": "code",
   "execution_count": 2435,
   "metadata": {},
   "outputs": [],
   "source": [
    "from sklearn.tree import export_graphviz\n",
    "export_graphviz(tree,out_file = \"tree.dot\",impurity =False, filled = True)\n",
    "import graphviz\n",
    "with open(\"tree.dot\") as f:\n",
    "    dot_graph = f.read()\n",
    "# display(graphviz.Source(dot_graph))"
   ]
  },
  {
   "cell_type": "code",
   "execution_count": 2436,
   "metadata": {},
   "outputs": [],
   "source": [
    "# Using Random Forest Classifier\n",
    "# using n_estimators = 100 as score decreases on n_estimator = 10 and at 100 it is at its maximum"
   ]
  },
  {
   "cell_type": "code",
   "execution_count": 2437,
   "metadata": {},
   "outputs": [
    {
     "output_type": "execute_result",
     "data": {
      "text/plain": "0.8316151202749141"
     },
     "metadata": {},
     "execution_count": 2437
    }
   ],
   "source": [
    "from sklearn.ensemble import RandomForestClassifier\n",
    "forest = RandomForestClassifier(n_estimators=8,random_state=3,max_depth=4,min_impurity_split = 0.01).fit(train_data,y)\n",
    "forest_score = forest.score(test_data,y_test)\n",
    "forest.score(test_data,y_test)"
   ]
  },
  {
   "cell_type": "code",
   "execution_count": 2438,
   "metadata": {},
   "outputs": [],
   "source": [
    "# Using Gradient Boosted Trees\n",
    "# learning rate is how much the new trees learns from the previous tree (as much as I understood)\n",
    "# max_depth explains itself"
   ]
  },
  {
   "cell_type": "code",
   "execution_count": 2439,
   "metadata": {},
   "outputs": [
    {
     "output_type": "execute_result",
     "data": {
      "text/plain": "0.8419243986254296"
     },
     "metadata": {},
     "execution_count": 2439
    }
   ],
   "source": [
    "from sklearn.ensemble import GradientBoostingClassifier\n",
    "GBC = GradientBoostingClassifier(random_state = 2, max_depth=3, learning_rate= 0.01,).fit(train_data,y)\n",
    "GBC_score = GBC.score(test_data, y_test)\n",
    "GBC.score(test_data,y_test)"
   ]
  },
  {
   "cell_type": "code",
   "execution_count": 2440,
   "metadata": {},
   "outputs": [],
   "source": [
    "# Using Support Vector Classifier\n",
    "# Using Gaussian Kernel \"rbf\" and tuning the parameters gamma and C so that model doesn't overfit"
   ]
  },
  {
   "cell_type": "code",
   "execution_count": 2441,
   "metadata": {},
   "outputs": [
    {
     "output_type": "execute_result",
     "data": {
      "text/plain": "0.8384879725085911"
     },
     "metadata": {},
     "execution_count": 2441
    }
   ],
   "source": [
    "from sklearn.svm import LinearSVC\n",
    "from sklearn.svm import SVC\n",
    "Lsvc = LinearSVC().fit(train_data, y)\n",
    "svc = SVC(kernel = \"rbf\", C = 1, gamma = 0.09).fit(train_data, y)\n",
    "svc_score = svc.score(test_data, y_test)\n",
    "svc_score"
   ]
  },
  {
   "cell_type": "code",
   "execution_count": 2442,
   "metadata": {},
   "outputs": [],
   "source": [
    "# Using Neural Networks\n",
    "# nonlinear tanh and using two hidden layers"
   ]
  },
  {
   "cell_type": "code",
   "execution_count": 2443,
   "metadata": {},
   "outputs": [],
   "source": [
    "from sklearn.neural_network import MLPClassifier\n",
    "mlp = MLPClassifier(max_iter = 1000, solver = \"lbfgs\",activation=\"tanh\", random_state=0, hidden_layer_sizes=[30,10], alpha = 0.6).fit(train, y_full)\n",
    "mlp_score = mlp.score(test_data, y_test)\n",
    "# mlp.score(test_data,y_test)"
   ]
  },
  {
   "cell_type": "code",
   "execution_count": 2444,
   "metadata": {},
   "outputs": [],
   "source": [
    "Models = pd.DataFrame({'Model':['Logistic Regression', 'XGBoost','Decision Tree', 'Random Forest Classifier', 'Gradient Boosting', 'Support Vector Classifier', 'Neural Network'], 'Score':[Logisit_score, XGB_score,tree_score, forest_score,GBC_score, svc_score,mlp_score]})"
   ]
  },
  {
   "cell_type": "code",
   "execution_count": 2445,
   "metadata": {},
   "outputs": [
    {
     "output_type": "execute_result",
     "data": {
      "text/plain": "                       Model     Score\n0        Logistic Regression  0.828179\n1                    XGBoost  0.810997\n2              Decision Tree  0.793814\n3   Random Forest Classifier  0.831615\n4          Gradient Boosting  0.841924\n5  Support Vector Classifier  0.838488\n6             Neural Network  0.903780",
      "text/html": "<div>\n<style scoped>\n    .dataframe tbody tr th:only-of-type {\n        vertical-align: middle;\n    }\n\n    .dataframe tbody tr th {\n        vertical-align: top;\n    }\n\n    .dataframe thead th {\n        text-align: right;\n    }\n</style>\n<table border=\"1\" class=\"dataframe\">\n  <thead>\n    <tr style=\"text-align: right;\">\n      <th></th>\n      <th>Model</th>\n      <th>Score</th>\n    </tr>\n  </thead>\n  <tbody>\n    <tr>\n      <th>0</th>\n      <td>Logistic Regression</td>\n      <td>0.828179</td>\n    </tr>\n    <tr>\n      <th>1</th>\n      <td>XGBoost</td>\n      <td>0.810997</td>\n    </tr>\n    <tr>\n      <th>2</th>\n      <td>Decision Tree</td>\n      <td>0.793814</td>\n    </tr>\n    <tr>\n      <th>3</th>\n      <td>Random Forest Classifier</td>\n      <td>0.831615</td>\n    </tr>\n    <tr>\n      <th>4</th>\n      <td>Gradient Boosting</td>\n      <td>0.841924</td>\n    </tr>\n    <tr>\n      <th>5</th>\n      <td>Support Vector Classifier</td>\n      <td>0.838488</td>\n    </tr>\n    <tr>\n      <th>6</th>\n      <td>Neural Network</td>\n      <td>0.903780</td>\n    </tr>\n  </tbody>\n</table>\n</div>"
     },
     "metadata": {},
     "execution_count": 2445
    }
   ],
   "source": [
    "Models"
   ]
  },
  {
   "cell_type": "code",
   "execution_count": 2446,
   "metadata": {},
   "outputs": [],
   "source": [
    "test['Fare'] = test['Fare'].fillna(test.Fare.mean())"
   ]
  },
  {
   "cell_type": "code",
   "execution_count": 2447,
   "metadata": {},
   "outputs": [
    {
     "output_type": "execute_result",
     "data": {
      "text/plain": "             Pclass  Name  Sex  Age  SibSp  Fare  C  Q  S\nPassengerId                                              \n892               3     5    0  2.0      1   0.0  0  1  0\n893               3    10    1  3.0      2   0.0  0  0  1\n894               2     5    0  3.0      1   1.0  0  1  0\n895               3     5    0  1.0      1   1.0  0  0  1\n896               3    10    1  0.0      3   1.0  0  0  1\n...             ...   ...  ...  ...    ...   ... .. .. ..\n1305              3     5    0  2.0      1   1.0  0  0  1\n1306              1     0    1  3.0      1   3.0  1  0  0\n1307              3     5    0  3.0      1   0.0  0  0  1\n1308              3     5    0  2.0      1   1.0  0  0  1\n1309              3     9    0  2.0      3   2.0  1  0  0\n\n[418 rows x 9 columns]",
      "text/html": "<div>\n<style scoped>\n    .dataframe tbody tr th:only-of-type {\n        vertical-align: middle;\n    }\n\n    .dataframe tbody tr th {\n        vertical-align: top;\n    }\n\n    .dataframe thead th {\n        text-align: right;\n    }\n</style>\n<table border=\"1\" class=\"dataframe\">\n  <thead>\n    <tr style=\"text-align: right;\">\n      <th></th>\n      <th>Pclass</th>\n      <th>Name</th>\n      <th>Sex</th>\n      <th>Age</th>\n      <th>SibSp</th>\n      <th>Fare</th>\n      <th>C</th>\n      <th>Q</th>\n      <th>S</th>\n    </tr>\n    <tr>\n      <th>PassengerId</th>\n      <th></th>\n      <th></th>\n      <th></th>\n      <th></th>\n      <th></th>\n      <th></th>\n      <th></th>\n      <th></th>\n      <th></th>\n    </tr>\n  </thead>\n  <tbody>\n    <tr>\n      <th>892</th>\n      <td>3</td>\n      <td>5</td>\n      <td>0</td>\n      <td>2.0</td>\n      <td>1</td>\n      <td>0.0</td>\n      <td>0</td>\n      <td>1</td>\n      <td>0</td>\n    </tr>\n    <tr>\n      <th>893</th>\n      <td>3</td>\n      <td>10</td>\n      <td>1</td>\n      <td>3.0</td>\n      <td>2</td>\n      <td>0.0</td>\n      <td>0</td>\n      <td>0</td>\n      <td>1</td>\n    </tr>\n    <tr>\n      <th>894</th>\n      <td>2</td>\n      <td>5</td>\n      <td>0</td>\n      <td>3.0</td>\n      <td>1</td>\n      <td>1.0</td>\n      <td>0</td>\n      <td>1</td>\n      <td>0</td>\n    </tr>\n    <tr>\n      <th>895</th>\n      <td>3</td>\n      <td>5</td>\n      <td>0</td>\n      <td>1.0</td>\n      <td>1</td>\n      <td>1.0</td>\n      <td>0</td>\n      <td>0</td>\n      <td>1</td>\n    </tr>\n    <tr>\n      <th>896</th>\n      <td>3</td>\n      <td>10</td>\n      <td>1</td>\n      <td>0.0</td>\n      <td>3</td>\n      <td>1.0</td>\n      <td>0</td>\n      <td>0</td>\n      <td>1</td>\n    </tr>\n    <tr>\n      <th>...</th>\n      <td>...</td>\n      <td>...</td>\n      <td>...</td>\n      <td>...</td>\n      <td>...</td>\n      <td>...</td>\n      <td>...</td>\n      <td>...</td>\n      <td>...</td>\n    </tr>\n    <tr>\n      <th>1305</th>\n      <td>3</td>\n      <td>5</td>\n      <td>0</td>\n      <td>2.0</td>\n      <td>1</td>\n      <td>1.0</td>\n      <td>0</td>\n      <td>0</td>\n      <td>1</td>\n    </tr>\n    <tr>\n      <th>1306</th>\n      <td>1</td>\n      <td>0</td>\n      <td>1</td>\n      <td>3.0</td>\n      <td>1</td>\n      <td>3.0</td>\n      <td>1</td>\n      <td>0</td>\n      <td>0</td>\n    </tr>\n    <tr>\n      <th>1307</th>\n      <td>3</td>\n      <td>5</td>\n      <td>0</td>\n      <td>3.0</td>\n      <td>1</td>\n      <td>0.0</td>\n      <td>0</td>\n      <td>0</td>\n      <td>1</td>\n    </tr>\n    <tr>\n      <th>1308</th>\n      <td>3</td>\n      <td>5</td>\n      <td>0</td>\n      <td>2.0</td>\n      <td>1</td>\n      <td>1.0</td>\n      <td>0</td>\n      <td>0</td>\n      <td>1</td>\n    </tr>\n    <tr>\n      <th>1309</th>\n      <td>3</td>\n      <td>9</td>\n      <td>0</td>\n      <td>2.0</td>\n      <td>3</td>\n      <td>2.0</td>\n      <td>1</td>\n      <td>0</td>\n      <td>0</td>\n    </tr>\n  </tbody>\n</table>\n<p>418 rows × 9 columns</p>\n</div>"
     },
     "metadata": {},
     "execution_count": 2447
    }
   ],
   "source": [
    "test"
   ]
  },
  {
   "cell_type": "code",
   "execution_count": 2448,
   "metadata": {},
   "outputs": [
    {
     "output_type": "execute_result",
     "data": {
      "text/plain": "0.8316151202749141"
     },
     "metadata": {},
     "execution_count": 2448
    }
   ],
   "source": [
    "forest.score(test_data,y_test)"
   ]
  },
  {
   "cell_type": "code",
   "execution_count": 2449,
   "metadata": {},
   "outputs": [],
   "source": [
    "Y_pred = mlp.predict(test)"
   ]
  },
  {
   "cell_type": "code",
   "execution_count": 2450,
   "metadata": {},
   "outputs": [],
   "source": [
    "test_df = pd.read_csv('test.csv')"
   ]
  },
  {
   "cell_type": "code",
   "execution_count": 2451,
   "metadata": {},
   "outputs": [],
   "source": [
    "submission = pd.DataFrame({\n",
    "        \"PassengerId\": test_df[\"PassengerId\"],\n",
    "        \"Survived\": Y_pred\n",
    "    })\n",
    "submission.to_csv('submission2.csv', index=False)"
   ]
  },
  {
   "cell_type": "code",
   "execution_count": 2452,
   "metadata": {},
   "outputs": [
    {
     "output_type": "execute_result",
     "data": {
      "text/plain": "0.8419243986254296"
     },
     "metadata": {},
     "execution_count": 2452
    }
   ],
   "source": [
    "GBC.score(test_data,y_test)"
   ]
  },
  {
   "cell_type": "code",
   "execution_count": 2453,
   "metadata": {},
   "outputs": [],
   "source": [
    "# 0\tLogistic Regression\t0.835052\n",
    "# 1\tXGBoost\t0.800687\n",
    "# 2\tDecision Tree\t0.745704\n",
    "# 3\tRandom Forest Classifier\t0.810997\n",
    "# 4\tGradient Boosting\t0.848797\n",
    "# 5\tSupport Vector Classifier\t0.646048\n",
    "# 6\tNeural Network\t0.804124"
   ]
  },
  {
   "cell_type": "code",
   "execution_count": 2454,
   "metadata": {},
   "outputs": [],
   "source": [
    "# 0\tLogistic Regression\t0.838488\n",
    "# 1\tXGBoost\t0.807560\n",
    "# 2\tDecision Tree\t0.769759\n",
    "# 3\tRandom Forest Classifier\t0.804124\n",
    "# 4\tGradient Boosting\t0.852234\n",
    "# 5\tSupport Vector Classifier\t0.697595\n",
    "# 6\tNeural Network\t0.886598"
   ]
  },
  {
   "cell_type": "code",
   "execution_count": 2455,
   "metadata": {},
   "outputs": [
    {
     "output_type": "execute_result",
     "data": {
      "text/plain": "             Pclass  Name  Sex  Age  SibSp  Fare  C  Q  S\nPassengerId                                              \n1                 3     5    0  0.0      2   0.0  0  0  1\n2                 1    10    1  3.0      2   3.0  1  0  0\n3                 3    11    1  1.0      1   1.0  0  0  1\n4                 1    10    1  2.0      2   3.0  0  0  1\n5                 3     5    0  2.0      1   1.0  0  0  1\n...             ...   ...  ...  ...    ...   ... .. .. ..\n887               2     2    0  1.0      1   1.0  0  0  1\n888               1    11    1  0.0      1   2.0  0  0  1\n889               3    11    1  2.0      4   2.0  0  0  1\n890               1     5    0  1.0      1   2.0  1  0  0\n891               3     5    0  2.0      1   0.0  0  1  0\n\n[891 rows x 9 columns]",
      "text/html": "<div>\n<style scoped>\n    .dataframe tbody tr th:only-of-type {\n        vertical-align: middle;\n    }\n\n    .dataframe tbody tr th {\n        vertical-align: top;\n    }\n\n    .dataframe thead th {\n        text-align: right;\n    }\n</style>\n<table border=\"1\" class=\"dataframe\">\n  <thead>\n    <tr style=\"text-align: right;\">\n      <th></th>\n      <th>Pclass</th>\n      <th>Name</th>\n      <th>Sex</th>\n      <th>Age</th>\n      <th>SibSp</th>\n      <th>Fare</th>\n      <th>C</th>\n      <th>Q</th>\n      <th>S</th>\n    </tr>\n    <tr>\n      <th>PassengerId</th>\n      <th></th>\n      <th></th>\n      <th></th>\n      <th></th>\n      <th></th>\n      <th></th>\n      <th></th>\n      <th></th>\n      <th></th>\n    </tr>\n  </thead>\n  <tbody>\n    <tr>\n      <th>1</th>\n      <td>3</td>\n      <td>5</td>\n      <td>0</td>\n      <td>0.0</td>\n      <td>2</td>\n      <td>0.0</td>\n      <td>0</td>\n      <td>0</td>\n      <td>1</td>\n    </tr>\n    <tr>\n      <th>2</th>\n      <td>1</td>\n      <td>10</td>\n      <td>1</td>\n      <td>3.0</td>\n      <td>2</td>\n      <td>3.0</td>\n      <td>1</td>\n      <td>0</td>\n      <td>0</td>\n    </tr>\n    <tr>\n      <th>3</th>\n      <td>3</td>\n      <td>11</td>\n      <td>1</td>\n      <td>1.0</td>\n      <td>1</td>\n      <td>1.0</td>\n      <td>0</td>\n      <td>0</td>\n      <td>1</td>\n    </tr>\n    <tr>\n      <th>4</th>\n      <td>1</td>\n      <td>10</td>\n      <td>1</td>\n      <td>2.0</td>\n      <td>2</td>\n      <td>3.0</td>\n      <td>0</td>\n      <td>0</td>\n      <td>1</td>\n    </tr>\n    <tr>\n      <th>5</th>\n      <td>3</td>\n      <td>5</td>\n      <td>0</td>\n      <td>2.0</td>\n      <td>1</td>\n      <td>1.0</td>\n      <td>0</td>\n      <td>0</td>\n      <td>1</td>\n    </tr>\n    <tr>\n      <th>...</th>\n      <td>...</td>\n      <td>...</td>\n      <td>...</td>\n      <td>...</td>\n      <td>...</td>\n      <td>...</td>\n      <td>...</td>\n      <td>...</td>\n      <td>...</td>\n    </tr>\n    <tr>\n      <th>887</th>\n      <td>2</td>\n      <td>2</td>\n      <td>0</td>\n      <td>1.0</td>\n      <td>1</td>\n      <td>1.0</td>\n      <td>0</td>\n      <td>0</td>\n      <td>1</td>\n    </tr>\n    <tr>\n      <th>888</th>\n      <td>1</td>\n      <td>11</td>\n      <td>1</td>\n      <td>0.0</td>\n      <td>1</td>\n      <td>2.0</td>\n      <td>0</td>\n      <td>0</td>\n      <td>1</td>\n    </tr>\n    <tr>\n      <th>889</th>\n      <td>3</td>\n      <td>11</td>\n      <td>1</td>\n      <td>2.0</td>\n      <td>4</td>\n      <td>2.0</td>\n      <td>0</td>\n      <td>0</td>\n      <td>1</td>\n    </tr>\n    <tr>\n      <th>890</th>\n      <td>1</td>\n      <td>5</td>\n      <td>0</td>\n      <td>1.0</td>\n      <td>1</td>\n      <td>2.0</td>\n      <td>1</td>\n      <td>0</td>\n      <td>0</td>\n    </tr>\n    <tr>\n      <th>891</th>\n      <td>3</td>\n      <td>5</td>\n      <td>0</td>\n      <td>2.0</td>\n      <td>1</td>\n      <td>0.0</td>\n      <td>0</td>\n      <td>1</td>\n      <td>0</td>\n    </tr>\n  </tbody>\n</table>\n<p>891 rows × 9 columns</p>\n</div>"
     },
     "metadata": {},
     "execution_count": 2455
    }
   ],
   "source": [
    "train"
   ]
  },
  {
   "cell_type": "code",
   "execution_count": null,
   "metadata": {},
   "outputs": [],
   "source": []
  },
  {
   "cell_type": "code",
   "execution_count": null,
   "metadata": {},
   "outputs": [],
   "source": []
  }
 ],
 "metadata": {
  "kernelspec": {
   "display_name": "Python 3",
   "language": "python",
   "name": "python3"
  },
  "language_info": {
   "codemirror_mode": {
    "name": "ipython",
    "version": 3
   },
   "file_extension": ".py",
   "mimetype": "text/x-python",
   "name": "python",
   "nbconvert_exporter": "python",
   "pygments_lexer": "ipython3",
   "version": "3.7.6-final"
  }
 },
 "nbformat": 4,
 "nbformat_minor": 2
}